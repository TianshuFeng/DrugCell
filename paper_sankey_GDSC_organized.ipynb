{
 "cells": [
  {
   "cell_type": "code",
   "execution_count": 1,
   "metadata": {
    "tags": []
   },
   "outputs": [
    {
     "data": {
      "text/plain": [
       "'/nfs/lambda_stor_01/homes/ac.tfeng/git/DrugCell'"
      ]
     },
     "execution_count": 1,
     "metadata": {},
     "output_type": "execute_result"
    }
   ],
   "source": [
    "import plotly.graph_objects as go\n",
    "import urllib, json\n",
    "import os\n",
    "os.getcwd()"
   ]
  },
  {
   "cell_type": "code",
   "execution_count": 45,
   "metadata": {
    "tags": []
   },
   "outputs": [],
   "source": [
    "# import anndata\n",
    "import numpy as np\n",
    "import pandas as pd\n",
    "\n",
    "import torch\n",
    "import torch.nn as nn\n",
    "import torch.nn.functional as F\n",
    "from torch.utils.data import Dataset, DataLoader, random_split\n",
    "from torch.distributions import MultivariateNormal\n",
    "\n",
    "from sklearn.metrics import adjusted_rand_score, roc_auc_score, roc_curve\n",
    "\n",
    "import os\n",
    "# os.environ[\"CUDA_VISIBLE_DEVICES\"]=\"4\"\n",
    "\n",
    "import copy\n",
    "import logging\n",
    "import tqdm\n",
    "\n",
    "from codes.utils.util import *\n",
    "from codes.drugcell_NN import *\n",
    "\n",
    "if torch.cuda.is_available():\n",
    "  DEVICE = 'cuda'\n",
    "else:\n",
    "  DEVICE = 'cpu'"
   ]
  },
  {
   "cell_type": "code",
   "execution_count": 3,
   "metadata": {
    "tags": []
   },
   "outputs": [],
   "source": [
    "import plotly\n",
    "import plotly.express as px\n",
    "import plotly.io as pio\n",
    "\n",
    "from captum.attr import LayerIntegratedGradients\n",
    "from collections import defaultdict\n"
   ]
  },
  {
   "cell_type": "code",
   "execution_count": 46,
   "metadata": {},
   "outputs": [],
   "source": [
    "logging.basicConfig(\n",
    "    level=logging.DEBUG,\n",
    "    format=\"%(asctime)s - %(levelname)s - %(filename)s:%(funcName)s - %(message)s\",)"
   ]
  },
  {
   "cell_type": "code",
   "execution_count": 4,
   "metadata": {
    "tags": []
   },
   "outputs": [
    {
     "name": "stdout",
     "output_type": "stream",
     "text": [
      "Fri May 17 08:22:30 2024       \n",
      "+-----------------------------------------------------------------------------------------+\n",
      "| NVIDIA-SMI 550.54.15              Driver Version: 550.54.15      CUDA Version: 12.4     |\n",
      "|-----------------------------------------+------------------------+----------------------+\n",
      "| GPU  Name                 Persistence-M | Bus-Id          Disp.A | Volatile Uncorr. ECC |\n",
      "| Fan  Temp   Perf          Pwr:Usage/Cap |           Memory-Usage | GPU-Util  Compute M. |\n",
      "|                                         |                        |               MIG M. |\n",
      "|=========================================+========================+======================|\n",
      "|   0  Tesla V100-SXM2-32GB           Off |   00000000:1A:00.0 Off |                    0 |\n",
      "| N/A   39C    P0            279W /  300W |   26473MiB /  32768MiB |     96%      Default |\n",
      "|                                         |                        |                  N/A |\n",
      "+-----------------------------------------+------------------------+----------------------+\n",
      "|   1  Tesla V100-SXM2-32GB           Off |   00000000:1B:00.0 Off |                    0 |\n",
      "| N/A   40C    P0            100W /  300W |   23079MiB /  32768MiB |     41%      Default |\n",
      "|                                         |                        |                  N/A |\n",
      "+-----------------------------------------+------------------------+----------------------+\n",
      "|   2  Tesla V100-SXM2-32GB           Off |   00000000:3D:00.0 Off |                    0 |\n",
      "| N/A   30C    P0             40W /  300W |       3MiB /  32768MiB |      0%      Default |\n",
      "|                                         |                        |                  N/A |\n",
      "+-----------------------------------------+------------------------+----------------------+\n",
      "|   3  Tesla V100-SXM2-32GB           Off |   00000000:3E:00.0 Off |                    0 |\n",
      "| N/A   25C    P0             40W /  300W |       3MiB /  32768MiB |      0%      Default |\n",
      "|                                         |                        |                  N/A |\n",
      "+-----------------------------------------+------------------------+----------------------+\n",
      "|   4  Tesla V100-SXM2-32GB           Off |   00000000:88:00.0 Off |                    0 |\n",
      "| N/A   30C    P0             61W /  300W |    4735MiB /  32768MiB |     30%      Default |\n",
      "|                                         |                        |                  N/A |\n",
      "+-----------------------------------------+------------------------+----------------------+\n",
      "|   5  Tesla V100-SXM2-32GB           Off |   00000000:89:00.0 Off |                    0 |\n",
      "| N/A   31C    P0             43W /  300W |       3MiB /  32768MiB |      0%      Default |\n",
      "|                                         |                        |                  N/A |\n",
      "+-----------------------------------------+------------------------+----------------------+\n",
      "|   6  Tesla V100-SXM2-32GB           Off |   00000000:B2:00.0 Off |                    0 |\n",
      "| N/A   31C    P0             55W /  300W |    5143MiB /  32768MiB |      0%      Default |\n",
      "|                                         |                        |                  N/A |\n",
      "+-----------------------------------------+------------------------+----------------------+\n",
      "|   7  Tesla V100-SXM2-32GB           Off |   00000000:B3:00.0 Off |                    0 |\n",
      "| N/A   27C    P0             56W /  300W |     311MiB /  32768MiB |      0%      Default |\n",
      "|                                         |                        |                  N/A |\n",
      "+-----------------------------------------+------------------------+----------------------+\n",
      "                                                                                         \n",
      "+-----------------------------------------------------------------------------------------+\n",
      "| Processes:                                                                              |\n",
      "|  GPU   GI   CI        PID   Type   Process name                              GPU Memory |\n",
      "|        ID   ID                                                               Usage      |\n",
      "|=========================================================================================|\n",
      "|    0   N/A  N/A    932150      C   python                                      26470MiB |\n",
      "|    1   N/A  N/A    932327      C   python                                      23076MiB |\n",
      "|    4   N/A  N/A   3890565      C   python                                       4730MiB |\n",
      "|    6   N/A  N/A   1722388      C   python                                       3486MiB |\n",
      "|    6   N/A  N/A   1836153      C   python                                        826MiB |\n",
      "|    6   N/A  N/A   1836154      C   python                                        826MiB |\n",
      "|    7   N/A  N/A   1461791      C   ....jiang/anaconda3/envs/hf/bin/python        308MiB |\n",
      "+-----------------------------------------------------------------------------------------+\n"
     ]
    }
   ],
   "source": [
    "!nvidia-smi"
   ]
  },
  {
   "cell_type": "code",
   "execution_count": 5,
   "metadata": {
    "tags": []
   },
   "outputs": [],
   "source": [
    "DEVICE = 'cuda:5'"
   ]
  },
  {
   "cell_type": "markdown",
   "metadata": {},
   "source": [
    "# GO Term"
   ]
  },
  {
   "cell_type": "code",
   "execution_count": 6,
   "metadata": {
    "tags": []
   },
   "outputs": [
    {
     "name": "stdout",
     "output_type": "stream",
     "text": [
      "go-basic.obo: fmt(1.2) rel(2023-11-15) 46,228 Terms; optional_attrs(def)\n"
     ]
    }
   ],
   "source": [
    "import goatools\n",
    "from os.path import exists\n",
    "from goatools.obo_parser import GODag\n",
    "\n",
    "if not exists('go-basic.obo'):\n",
    "    !wget http://geneontology.org/ontology/go-basic.obo\n",
    "go_dag = GODag('go-basic.obo', optional_attrs=['def'])"
   ]
  },
  {
   "cell_type": "code",
   "execution_count": 7,
   "metadata": {
    "tags": []
   },
   "outputs": [
    {
     "data": {
      "text/plain": [
       "'biological_process'"
      ]
     },
     "execution_count": 7,
     "metadata": {},
     "output_type": "execute_result"
    }
   ],
   "source": [
    "go_dag['GO:0008150'].name"
   ]
  },
  {
   "cell_type": "markdown",
   "metadata": {},
   "source": [
    "# GDSC"
   ]
  },
  {
   "cell_type": "markdown",
   "metadata": {},
   "source": [
    "## Data Loading"
   ]
  },
  {
   "cell_type": "code",
   "execution_count": 8,
   "metadata": {
    "tags": []
   },
   "outputs": [
    {
     "name": "stdout",
     "output_type": "stream",
     "text": [
      "Total number of cell lines = 1225\n",
      "Total number of drugs = 684\n",
      "There are 3008 genes\n",
      "There are 1 roots: GO:0008150\n",
      "There are 2086 terms\n",
      "There are 1 connected componenets\n"
     ]
    }
   ],
   "source": [
    "### Data loading\n",
    "training_file = \"data/drugcell_train.txt\"\n",
    "testing_file = \"data/drugcell_test.txt\"\n",
    "val_file = \"data/drugcell_val.txt\"\n",
    "cell2id_file = \"data/cell2ind.txt\"\n",
    "drug2id_file = \"data/drug2ind.txt\"\n",
    "genotype_file = \"data/cell2mutation.txt\"\n",
    "fingerprint_file = \"data/drug2fingerprint.txt\"\n",
    "onto_file = \"data/drugcell_ont.txt\"\n",
    "gene2id_file = \"data/gene2ind.txt\"\n",
    "\n",
    "train_data, feature_dict, cell2id_mapping, drug2id_mapping = prepare_train_data(training_file, \n",
    "                                                                  testing_file, cell2id_file, \n",
    "                                                                  drug2id_file)\n",
    "\n",
    "gene2id_mapping = load_mapping(gene2id_file)\n",
    "\n",
    "# load cell/drug features\n",
    "cell_features = np.genfromtxt(genotype_file, delimiter=',')\n",
    "drug_features = np.genfromtxt(fingerprint_file, delimiter=',')\n",
    "\n",
    "num_cells = len(cell2id_mapping)\n",
    "num_drugs = len(drug2id_mapping)\n",
    "num_genes = len(gene2id_mapping)\n",
    "drug_dim = len(drug_features[0,:])\n",
    "\n",
    "# load ontology\n",
    "dG, root, term_size_map, \\\n",
    "    term_direct_gene_map = load_ontology(onto_file, \n",
    "                                         gene2id_mapping)"
   ]
  },
  {
   "cell_type": "code",
   "execution_count": 9,
   "metadata": {},
   "outputs": [
    {
     "name": "stdout",
     "output_type": "stream",
     "text": [
      "Gene expression data: (1007, 30805)\n"
     ]
    },
    {
     "name": "stderr",
     "output_type": "stream",
     "text": [
      "/tmp/ipykernel_2439393/3534681654.py:78: DtypeWarning: Columns (3) have mixed types. Specify dtype option on import or set low_memory=False.\n",
      "  response = pd.read_csv(\"data/GDSC/response.tsv\", sep = '\\t')\n"
     ]
    }
   ],
   "source": [
    "from typing import List, Union\n",
    "\n",
    "def set_col_names_in_multilevel_dataframe(\n",
    "    df: pd.DataFrame,\n",
    "    level_map: dict,\n",
    "    gene_system_identifier: Union[str, List[str]]=\"Gene_Symbol\") -> pd.DataFrame:\n",
    "    \"\"\" Util function that supports loading of the omic data files.\n",
    "    Returns the input dataframe with the multi-level column names renamed as\n",
    "    specified by the gene_system_identifier arg.\n",
    "\n",
    "    Args:\n",
    "        df (pd.DataFrame): omics dataframe\n",
    "        level_map (dict): encodes the column level and the corresponding identifier systems\n",
    "        gene_system_identifier (str or list of str): gene identifier system to use\n",
    "            options: \"Entrez\", \"Gene_Symbol\", \"Ensembl\", \"all\", or any list\n",
    "                     combination of [\"Entrez\", \"Gene_Symbol\", \"Ensembl\"]\n",
    "\n",
    "    Returns:\n",
    "        pd.DataFrame: the input dataframe with the specified multi-level column names\n",
    "    \"\"\"\n",
    "    df = df.copy()\n",
    "\n",
    "    level_names = list(level_map.keys())\n",
    "    level_values = list(level_map.values())\n",
    "    n_levels = len(level_names)\n",
    "    \n",
    "    if isinstance(gene_system_identifier, list) and len(gene_system_identifier) == 1:\n",
    "        gene_system_identifier = gene_system_identifier[0]\n",
    "\n",
    "    # print(gene_system_identifier)\n",
    "    # import pdb; pdb.set_trace()\n",
    "    if isinstance(gene_system_identifier, str):\n",
    "        if gene_system_identifier == \"all\":\n",
    "            df.columns = df.columns.rename(level_names, level=level_values)  # assign multi-level col names\n",
    "        else:\n",
    "            df.columns = df.columns.get_level_values(level_map[gene_system_identifier])  # retian specific column level\n",
    "    else:\n",
    "        assert len(gene_system_identifier) <= n_levels, f\"'gene_system_identifier' can't contain more than {n_levels} items.\"\n",
    "        set_diff = list(set(gene_system_identifier).difference(set(level_names)))\n",
    "        assert len(set_diff) == 0, f\"Passed unknown gene identifiers: {set_diff}\"\n",
    "        kk = {i: level_map[i] for i in level_map if i in gene_system_identifier}\n",
    "        # print(list(kk.keys()))\n",
    "        # print(list(kk.values()))\n",
    "        df.columns = df.columns.rename(list(kk.keys()), level=kk.values())  # assign multi-level col names\n",
    "        drop_levels = list(set(level_map.values()).difference(set(kk.values())))\n",
    "        df = df.droplevel(level=drop_levels, axis=1)\n",
    "    return df\n",
    "\n",
    "\n",
    "def load_gene_expression_data(gene_expression_file_path, \n",
    "    gene_system_identifier: Union[str, List[str]]=\"Gene_Symbol\",\n",
    "    sep: str=\"\\t\",\n",
    "    verbose: bool=True) -> pd.DataFrame:\n",
    "    \"\"\"\n",
    "    Returns gene expression data.\n",
    "\n",
    "    Args:\n",
    "        gene_system_identifier (str or list of str): gene identifier system to use\n",
    "            options: \"Entrez\", \"Gene_Symbol\", \"Ensembl\", \"all\", or any list\n",
    "                     combination of [\"Entrez\", \"Gene_Symbol\", \"Ensembl\"]\n",
    "\n",
    "    Returns:\n",
    "        pd.DataFrame: dataframe with the omic data\n",
    "    \"\"\"\n",
    "    # level_map encodes the relationship btw the column and gene identifier system\n",
    "    level_map = {\"Ensembl\": 0, \"Entrez\": 1, \"Gene_Symbol\": 2}\n",
    "    header = [i for i in range(len(level_map))]\n",
    "\n",
    "    df = pd.read_csv(gene_expression_file_path, sep=sep, index_col=0, header=header)\n",
    "\n",
    "    df.index.name = \"improve_sample_id\"  # assign index name\n",
    "    df = set_col_names_in_multilevel_dataframe(df, level_map, gene_system_identifier)\n",
    "    if verbose:\n",
    "        print(f\"Gene expression data: {df.shape}\")\n",
    "    return df\n",
    "\n",
    "gene_express = load_gene_expression_data(\"data/GDSC/cancer_gene_expression.tsv\")\n",
    "response = pd.read_csv(\"data/GDSC/response.tsv\", sep = '\\t')\n",
    "gdsc_info = pd.read_csv(\"data/GDSC/GDSC_info.csv\")\n",
    "gdsc = pd.merge(gene_express, gdsc_info, how=\"inner\", left_on=[\"improve_sample_id\"], right_on=['ModelID'])\n",
    "gdsc_x = gdsc.loc[:, gene_express.columns]\n",
    "gdsc_y = gdsc.loc[:, 'DepmapModelType']"
   ]
  },
  {
   "cell_type": "code",
   "execution_count": 10,
   "metadata": {},
   "outputs": [],
   "source": [
    "gene_intersect_list = list(set(gene2id_mapping.keys()) & set(gdsc_x.columns))\n",
    "gdsc_tensor = torch.zeros(gdsc_x.shape[0], num_genes)\n",
    "\n",
    "for gene in gene_intersect_list:\n",
    "    idx = gene2id_mapping[gene]\n",
    "    gdsc_tensor[:,idx] = torch.tensor(gdsc_x[gene])\n",
    "\n",
    "cancer_2_idx = {}\n",
    "idx_2_cancer = {}\n",
    "cancer_type_idx = []\n",
    "\n",
    "i = 0\n",
    "for cancer in gdsc_y:\n",
    "    if cancer not in cancer_2_idx:\n",
    "        cancer_2_idx[cancer] = i\n",
    "        idx_2_cancer[i] = cancer\n",
    "        cancer_type_idx.append(i)\n",
    "        \n",
    "        i += 1\n",
    "    else:\n",
    "        cancer_type_idx.append(cancer_2_idx[cancer])"
   ]
  },
  {
   "cell_type": "code",
   "execution_count": 11,
   "metadata": {},
   "outputs": [
    {
     "name": "stderr",
     "output_type": "stream",
     "text": [
      "/tmp/ipykernel_2439393/3650112765.py:2: DtypeWarning: Columns (3) have mixed types. Specify dtype option on import or set low_memory=False.\n",
      "  response = pd.read_csv(\"data/GDSC/response.tsv\", sep = '\\t')\n",
      "/tmp/ipykernel_2439393/3650112765.py:15: DtypeWarning: Columns (3) have mixed types. Specify dtype option on import or set low_memory=False.\n",
      "  response = pd.read_csv(\"data/GDSC/response.tsv\", sep = '\\t')\n"
     ]
    },
    {
     "name": "stdout",
     "output_type": "stream",
     "text": [
      "Gene expression data: (1007, 30805)\n"
     ]
    }
   ],
   "source": [
    "drug_info_data = pd.read_csv('data/GDSC/drug_info.tsv', sep='\\t')\n",
    "response = pd.read_csv(\"data/GDSC/response.tsv\", sep = '\\t')\n",
    "response_gdcs2 = response[response['source'] == 'GDSCv2'].loc[:,['improve_sample_id', \n",
    "                                                             'improve_chem_id',\n",
    "                                                         'auc']]\n",
    "\n",
    "# %%\n",
    "a = response_gdcs2['improve_chem_id'].value_counts()\n",
    "# %%\n",
    "GDSC_drug = drug_info_data[drug_info_data['improve_chem_id'].isin(a.index)]\n",
    "GDSC_drug = GDSC_drug.loc[GDSC_drug['DrugID'].str.startswith('GDSC')]\n",
    "# %% With Drug embedding\n",
    "\n",
    "drug_info_data = pd.read_csv('data/GDSC/drug_info.tsv', sep='\\t')\n",
    "response = pd.read_csv(\"data/GDSC/response.tsv\", sep = '\\t')\n",
    "response_gdcs2 = response[response['source'] == 'GDSCv2'].loc[:,['improve_sample_id', \n",
    "                                                             'improve_chem_id',\n",
    "                                                         'auc']]\n",
    "gene_express = load_gene_expression_data(\"data/GDSC/cancer_gene_expression.tsv\")\n",
    "drug_ecfp4_nbits512 = pd.read_csv(\"data/GDSC/drug_ecfp4_nbits512.tsv\", sep = '\\t', index_col=0)\n",
    "\n",
    "gdsc_row_key_id = {k: v for v, k in enumerate(gene_express.index)}\n",
    "gdsc_row_id_key = {v: k for v, k in enumerate(gene_express.index)}\n",
    "\n",
    "chem_row_key_id = {k: v for v, k in enumerate(drug_ecfp4_nbits512.index)}\n",
    "chem_row_id_key = {v: k for v, k in enumerate(drug_ecfp4_nbits512.index)}\n",
    "# %%\n",
    "response_gdcs2 = response_gdcs2.replace({'improve_sample_id': gdsc_row_key_id})\n",
    "response_gdcs2 = response_gdcs2.replace({'improve_chem_id': chem_row_key_id})\n",
    "response_gdcs2 = torch.tensor(response_gdcs2.to_numpy())\n",
    "\n",
    "train_gdcs_idx = torch.unique(response_gdcs2[:,0], sorted=False)[:423]\n",
    "test_gdcs_idx = torch.unique(response_gdcs2[:,0], sorted=False)[423:]\n",
    "\n",
    "drug_tensor = torch.tensor(drug_ecfp4_nbits512.to_numpy())\n",
    "#%%\n",
    "class GDSCData(Dataset):\n",
    "    \n",
    "    def __init__(self, response, gene_tensor, chem_tensor):\n",
    "        self.response = response\n",
    "        self.gene_tensor = gene_tensor\n",
    "        self.chem_tensor = chem_tensor\n",
    "        \n",
    "    def __len__(self):\n",
    "        return self.response.shape[0]\n",
    "    \n",
    "    def __getitem__(self, index):\n",
    "        sample = self.response[index,:]\n",
    "        \n",
    "        X_gene = self.gene_tensor[sample[0].long() ,:]\n",
    "        X_chem = self.chem_tensor[sample[1].long() ,:]\n",
    "        \n",
    "        y = sample[2]\n",
    "\n",
    "        X = torch.cat((X_gene, X_chem), 0)\n",
    "        \n",
    "        return X, y\n",
    "\n",
    "gdsc_data = GDSCData(response_gdcs2, gdsc_tensor, drug_tensor)\n",
    "gdsc_data_train = GDSCData(response_gdcs2[torch.isin(response_gdcs2[:,0], train_gdcs_idx)].float(), gdsc_tensor, drug_tensor)\n",
    "gdsc_data_test = GDSCData(response_gdcs2[torch.isin(response_gdcs2[:,0], test_gdcs_idx)].float(), gdsc_tensor, drug_tensor)\n",
    "\n",
    "train_loader = DataLoader(gdsc_data_train,\n",
    "                          batch_size=len(gdsc_data_train), shuffle=False)\n",
    "test_loader = DataLoader(gdsc_data_test, \n",
    "                         batch_size=len(gdsc_data_test), shuffle=False)\n",
    "\n",
    "(train_data, train_response) = next(iter(train_loader))\n",
    "(test_data, test_response) = next(iter(test_loader))"
   ]
  },
  {
   "cell_type": "code",
   "execution_count": 12,
   "metadata": {
    "tags": []
   },
   "outputs": [
    {
     "data": {
      "text/plain": [
       "tensor(0.)"
      ]
     },
     "execution_count": 12,
     "metadata": {},
     "output_type": "execute_result"
    }
   ],
   "source": [
    "torch.min(gdsc_tensor)"
   ]
  },
  {
   "cell_type": "markdown",
   "metadata": {},
   "source": [
    "## Sankey functions"
   ]
  },
  {
   "cell_type": "code",
   "execution_count": 13,
   "metadata": {},
   "outputs": [],
   "source": [
    "def prepare_node_edge(model, data, target = None):\n",
    "    \n",
    "    ## Generate node list\n",
    "    layer_ig_dict = {}\n",
    "    node_label = []\n",
    "    node_col = []\n",
    "    node_level = []\n",
    "    node_x = []\n",
    "    node_y = []\n",
    "    \n",
    "    # Loop through each layer\n",
    "    for idx, leaves in enumerate(model.term_layer_list):\n",
    "        term_list = []\n",
    "        # add leaves in the layer to node list, with color, level and x axis for plot\n",
    "        node_label.extend(leaves)\n",
    "        node_col.extend([px.colors.qualitative.Plotly[idx]] * (len(leaves) + 1))\n",
    "        node_level.extend([idx] * (len(leaves) + 1))\n",
    "        node_x.extend([(idx )/len(model.term_layer_list)] * (len(leaves) + 1))\n",
    "        \n",
    "        # Prepare module list for LayerIG to explain the whole level at once\n",
    "        for idx_leaf, term in enumerate(leaves):\n",
    "            term_list.append(model._modules[term+'_linear_layer'])\n",
    "            node_y.append((idx_leaf)/(len(leaves) + 1))\n",
    "        \n",
    "        layer_ig_dict[idx] = LayerIntegratedGradients(model, term_list)\n",
    "\n",
    "        node_label.append('L' + str(idx) + '_other')\n",
    "        node_y.append((idx_leaf+1)/(len(leaves) + 1))\n",
    "    \n",
    "    node_id_label = {i: l for i, l in enumerate(node_label)}\n",
    "    node_label_id = {l: i for i, l in enumerate(node_label)}\n",
    "    \n",
    "    ## Generate edges\n",
    "    \n",
    "    line_col = np.array(['#eb675e', '#d6d6d6', '#3db1ff'])\n",
    "    \n",
    "    torch.manual_seed(0)\n",
    "    np.random.seed(0)\n",
    "\n",
    "    sankey_source = []\n",
    "    sankey_target = []\n",
    "    sankey_value = []\n",
    "    sankey_color = []\n",
    "    gene_attr_dict = {}\n",
    "\n",
    "    for idx, leaves in enumerate(model.term_layer_list[1:]):\n",
    "        # Explain the layer idx+1\n",
    "        layer_attr_list = layer_ig_dict[idx+1].attribute(data.to(DEVICE), target=target, \n",
    "                                    attribute_to_layer_input=True)\n",
    "        \n",
    "        for idx_term, term in tqdm.tqdm(enumerate(leaves), desc=\"Level\"+str(idx+1)):\n",
    "            # For each leaf at the layer, get its explanation and list of children\n",
    "            child_list_tmp = model.term_neighbor_map[term]\n",
    "            term_attr = layer_attr_list[idx_term].detach().cpu()\n",
    "            loc = 0\n",
    "            \n",
    "            # Loop through the list of children, for each child, find the location of the explanation\n",
    "            # Here, the child is sorted, and the length of vector for the child is defined in model.term_dim_map[child_tmp]\n",
    "            for child_tmp in child_list_tmp:\n",
    "                attr_child = term_attr[:, loc:(loc + model.term_dim_map[child_tmp])]\n",
    "                loc += model.term_dim_map[child_tmp]\n",
    "                \n",
    "                weight_child = attr_child.sum(dim=1).cpu().numpy()\n",
    "                \n",
    "                sankey_source.append(node_label_id[child_tmp])\n",
    "                sankey_target.append(node_label_id[term])\n",
    "                sankey_value.append(weight_child)\n",
    "                sankey_color.append(line_col[(np.sign(weight_child) + 1).astype('int')])\n",
    "\n",
    "            gene_attr_dict[term] = term_attr[:,loc:]\n",
    "\n",
    "    sankey_source = np.array(sankey_source)\n",
    "    sankey_target = np.array(sankey_target)\n",
    "    sankey_value = np.array(sankey_value)\n",
    "    sankey_color = np.array(sankey_color) \n",
    "    \n",
    "    ## Simplify the plot\n",
    "    \n",
    "    # sankey_value_id = np.copy(sankey_value[:,sample_id])\n",
    "    # sankey_source_id = np.copy(sankey_source)\n",
    "    # sankey_target_id = np.copy(sankey_target)\n",
    "    \n",
    "    # level_argsort = []\n",
    "    # for idx, leaves in enumerate(model.term_layer_list[:-1]):\n",
    "    #     tmp_leaves_total_attr = []\n",
    "    #     for term in leaves:\n",
    "    #         tmp_leaves_total_attr.append(np.sum(np.abs(sankey_value_id[sankey_source_id == node_label_id[term]])))\n",
    "    #     level_argsort.append(np.argsort(np.abs(tmp_leaves_total_attr)))  # index from smallest to largest\n",
    "\n",
    "    # for idx, pruned_leaves in enumerate(level_argsort):\n",
    "    #     for pruned_leaf_idx in pruned_leaves[:int((1-percent_keep[idx])*len(pruned_leaves))]:\n",
    "    #         term = model.term_layer_list[idx][pruned_leaf_idx]\n",
    "    #         sankey_source_id[sankey_source_id == node_label_id[term]] = node_label_id['L' + str(idx) + '_other']\n",
    "    #         sankey_target_id[sankey_target_id == node_label_id[term]] = node_label_id['L' + str(idx) + '_other']\n",
    "    \n",
    "    # def list_duplicates(seq):\n",
    "    #     tally = defaultdict(list)\n",
    "    #     for i,item in enumerate(seq):\n",
    "    #         tally[item].append(i)\n",
    "    #     return ((key,locs) for key,locs in tally.items() \n",
    "    #                             if len(locs)>1)\n",
    "\n",
    "    # loc_delete_list = []\n",
    "    # for pair, loc in list_duplicates(zip(sankey_source_id, sankey_target_id)):\n",
    "    #     total_attr = np.sum(sankey_value_id[loc])\n",
    "    #     sankey_value_id[loc] = total_attr\n",
    "    #     loc_delete_list.extend(loc[1:])\n",
    "\n",
    "    # sankey_source_id = np.delete(sankey_source_id, loc_delete_list)\n",
    "    # sankey_target_id = np.delete(sankey_target_id, loc_delete_list)\n",
    "    # sankey_value_id = np.delete(sankey_value_id, loc_delete_list)\n",
    "\n",
    "    # sankey_color = [line_col[int(term_sign + 1)] for term_sign in np.sign(sankey_value_id)]\n",
    "    \n",
    "    return sankey_value, sankey_source, sankey_target,\\\n",
    "        node_label_id, node_label, node_col, node_level"
   ]
  },
  {
   "cell_type": "code",
   "execution_count": 14,
   "metadata": {},
   "outputs": [],
   "source": [
    "def sankey_trimming(sankey_value, sankey_source, sankey_target, \n",
    "                    node_label_id,\n",
    "                    sample_id, \n",
    "                    percent_keep = [0.01, 0.02, 0.02, 0.02, 0.1]):\n",
    "    ## Simplify the plot\n",
    "        \n",
    "    line_col = np.array(['#eb675e', '#d6d6d6', '#3db1ff'])    \n",
    "\n",
    "    sankey_value_id = np.copy(sankey_value[:,sample_id])\n",
    "    sankey_source_id = np.copy(sankey_source)\n",
    "    sankey_target_id = np.copy(sankey_target)\n",
    "    \n",
    "    level_argsort = []\n",
    "    for idx, leaves in enumerate(model.term_layer_list[:-1]):\n",
    "        # For leaves in the layer, go through its edge values\n",
    "        # The iteration starts with the lowest level (finest), and we look at edges start with the leaf\n",
    "        # Then, the edges are ordered based on the absolute values of the edge values.\n",
    "        # sort is from smallest to the largest\n",
    "        tmp_leaves_total_attr = []\n",
    "        for term in leaves:\n",
    "            tmp_leaves_total_attr.append(np.sum(np.abs(sankey_value_id[sankey_source_id == node_label_id[term]])))\n",
    "        level_argsort.append(np.argsort(np.abs(tmp_leaves_total_attr)))  # index from smallest to largest\n",
    "\n",
    "    for idx, pruned_leaves in enumerate(level_argsort):\n",
    "        # Here, we rename the edges with the smallest values to other, level_argsort includes the index of source \n",
    "        # nodes ordered based on the value of edges.\n",
    "        # Both source and target will be renamed to other, then merged in the following steps.\n",
    "        for pruned_leaf_idx in pruned_leaves[:int((1-percent_keep[idx])*len(pruned_leaves))]:\n",
    "            term = model.term_layer_list[idx][pruned_leaf_idx]\n",
    "            sankey_source_id[sankey_source_id == node_label_id[term]] = node_label_id['L' + str(idx) + '_other']\n",
    "            sankey_target_id[sankey_target_id == node_label_id[term]] = node_label_id['L' + str(idx) + '_other']\n",
    "    \n",
    "    def list_duplicates(seq):\n",
    "        # Use this function to list duplicate pairs of source-target\n",
    "        tally = defaultdict(list)\n",
    "        for i,item in enumerate(seq):\n",
    "            tally[item].append(i)\n",
    "        return ((key,locs) for key,locs in tally.items() \n",
    "                                if len(locs)>1)\n",
    "\n",
    "    loc_delete_list = []\n",
    "    for pair, loc in list_duplicates(zip(sankey_source_id, sankey_target_id)):\n",
    "        # For each of the duplicated pair, assign the sum of edge value to all of them based on location, \n",
    "        # then remove all but the first duplicate pair\n",
    "        total_attr = np.sum(sankey_value_id[loc])\n",
    "        sankey_value_id[loc] = total_attr\n",
    "        loc_delete_list.extend(loc[1:])\n",
    "\n",
    "    sankey_source_id = np.delete(sankey_source_id, loc_delete_list)\n",
    "    sankey_target_id = np.delete(sankey_target_id, loc_delete_list)\n",
    "    sankey_value_id = np.delete(sankey_value_id, loc_delete_list)\n",
    "\n",
    "    sankey_color = [line_col[int(term_sign + 1)] for term_sign in np.sign(sankey_value_id)]\n",
    "    \n",
    "    return sankey_value_id, sankey_source_id, sankey_target_id"
   ]
  },
  {
   "cell_type": "code",
   "execution_count": 47,
   "metadata": {},
   "outputs": [],
   "source": [
    "import logging\n",
    "\n",
    "\n",
    "def sankey_backward_trace(sankey_value, sankey_source, sankey_target, \n",
    "                    node_label_id,\n",
    "                    sample_id, \n",
    "                    percent_keep = 0.1,\n",
    "                    min_num = 2):\n",
    "    ## Simplify the plot\n",
    "        \n",
    "    line_col = np.array(['#eb675e', '#d6d6d6', '#3db1ff'])    \n",
    "\n",
    "    sankey_value_id = np.copy(sankey_value[:,sample_id])\n",
    "    sankey_source_id = np.copy(sankey_source)\n",
    "    sankey_target_id = np.copy(sankey_target)\n",
    "    \n",
    "    subset_value_id = []\n",
    "    subset_source_id = []\n",
    "    subset_target_id = [] \n",
    "    back_tracing_level = np.zeros(len(node_label_id)) \n",
    "    \n",
    "    end_node_id = node_label_id['GO:0008150']\n",
    "    \n",
    "    pair_index = np.where(sankey_target_id == end_node_id)[0]\n",
    "    child_list = sankey_source_id[pair_index]\n",
    "    \n",
    "    back_tracing_color = np.array([px.colors.qualitative.Plotly[0]] * len(node_label_id))\n",
    "    \n",
    "    tracing_level = 1\n",
    "    while len(pair_index)>0:\n",
    "        # Assign the back tracing level and color \n",
    "        back_tracing_level[sankey_source_id[pair_index]] = tracing_level\n",
    "        back_tracing_color[sankey_source_id[pair_index]] = px.colors.qualitative.Plotly[tracing_level]\n",
    "        \n",
    "        # From the largest to the smallest. Note that here the index is for the pair_index\n",
    "        argsort_pair_index = np.argsort(-(sankey_value_id[pair_index]))  \n",
    "        selected_pair_index = pair_index[argsort_pair_index[:max(int(percent_keep*len(argsort_pair_index)), min_num)]]\n",
    "        subset_value_id.extend(sankey_value_id[selected_pair_index])\n",
    "        subset_source_id.extend(sankey_source_id[selected_pair_index])\n",
    "        subset_target_id.extend(sankey_target_id[selected_pair_index])\n",
    "        \n",
    "        # Update the pair index, where we use the previous source as the new target\n",
    "        pair_index = []\n",
    "        for tmp_target in sankey_source_id[selected_pair_index]:\n",
    "            pair_index.extend(np.where(sankey_target_id == tmp_target)[0])\n",
    "        pair_index = np.sort(np.unique(pair_index))\n",
    "\n",
    "        logging.debug(f\"{len(pair_index)}\")\n",
    "        \n",
    "        # Update tracing level\n",
    "        tracing_level += 1\n",
    "    \n",
    "    # Flip back_tracing_level\n",
    "    back_tracing_level = np.max(back_tracing_level) - back_tracing_level\n",
    "    \n",
    "    return np.array(subset_value_id), np.array(subset_source_id), np.array(subset_target_id), back_tracing_level, back_tracing_color"
   ]
  },
  {
   "cell_type": "code",
   "execution_count": 16,
   "metadata": {
    "tags": []
   },
   "outputs": [],
   "source": [
    "def plot_sankey(sankey_value_id, sankey_source_id, sankey_target_id,\n",
    "                node_label, node_col, node_level, go_dag = None,\n",
    "                filename:str = 'test',\n",
    "                renderers_default = \"vscode\", positive_flow = True, x_loc_by_level = True,\n",
    "                font_size = 15,\n",
    "                verbose = False):\n",
    "    \n",
    "    pio.renderers.default = renderers_default\n",
    "    \n",
    "    if positive_flow:\n",
    "        selected_edge_list = sankey_value_id >0\n",
    "        sankey_plot_value_id = np.copy(sankey_value_id[selected_edge_list])\n",
    "    else:\n",
    "        selected_edge_list = sankey_value_id <0\n",
    "        sankey_plot_value_id = -np.copy(sankey_value_id[selected_edge_list])\n",
    "\n",
    "    node_tmp_list = np.concatenate((sankey_source_id[selected_edge_list], \n",
    "                                    sankey_target_id[selected_edge_list]))\n",
    "    sankey_plot_source_id = np.copy(sankey_source_id[selected_edge_list])\n",
    "    sankey_plot_target_id = np.copy(sankey_target_id[selected_edge_list])\n",
    "    \n",
    "    # To make sure the nodes are aligned, we need to re index the nodes, \n",
    "    # where only nodes included in the graph are indexed\n",
    "\n",
    "    level_counter = {idx:0 for idx in range(6)}\n",
    "    sankey_node_label = []\n",
    "    sankey_node_fullname = []\n",
    "    sankey_node_id = []\n",
    "    sankey_node_origin_id = []\n",
    "    sankey_node_col = []\n",
    "    sankey_node_x = []\n",
    "    sankey_node_y = []\n",
    "    sankey_node_level = []\n",
    "    \n",
    "    if go_dag is None:\n",
    "        sankey_node_fullname = None\n",
    "\n",
    "    id_current = 0\n",
    "    for node_index in node_tmp_list:\n",
    "        if node_index not in sankey_node_origin_id: # check if the current node index has been updated \n",
    "            sankey_node_label.append(node_label[node_index])\n",
    "            sankey_node_id.append(id_current)\n",
    "            sankey_node_origin_id.append(node_index)\n",
    "            sankey_node_col.append(node_col[node_index])\n",
    "            sankey_node_level.append(node_level[node_index])\n",
    "            \n",
    "            if go_dag is not None:\n",
    "                if node_label[node_index] in go_dag:\n",
    "                    sankey_node_fullname.append(go_dag[node_label[node_index]].name)\n",
    "                else:\n",
    "                    sankey_node_fullname.append(node_label[node_index])\n",
    "            \n",
    "            # For each node index, we reassign the updated index to source and target\n",
    "            sankey_plot_source_id[sankey_source_id[selected_edge_list] == node_index] = id_current\n",
    "            sankey_plot_target_id[sankey_target_id[selected_edge_list] == node_index] = id_current\n",
    "            \n",
    "            level_counter[node_level[node_index]] += 1\n",
    "            sankey_node_x.append(node_level[node_index]/(max(node_level) + 1))\n",
    "            sankey_node_y.append(level_counter[node_level[node_index]])\n",
    "            \n",
    "            id_current += 1\n",
    "\n",
    "    sankey_node_x = np.array(sankey_node_x).astype('float')\n",
    "    sankey_node_y = np.array(sankey_node_y).astype('float')\n",
    "    sankey_node_level = np.array(sankey_node_level).astype('float')\n",
    "    \n",
    "    if go_dag is not None:\n",
    "        node_hover = '%{label}: %{customdata}<extra></extra>' \n",
    "    else:\n",
    "        node_hover = None\n",
    "        \n",
    "    \n",
    "    for level in range(int(np.max(node_level) + 1)):\n",
    "        if np.sum(sankey_node_level == level) > 0:\n",
    "            sankey_node_y[sankey_node_level == level] = sankey_node_y[sankey_node_level == level]/np.max(sankey_node_y[sankey_node_level == level] )\n",
    "    sankey_node_y[-1] = 0.5\n",
    "    \n",
    "    fig = go.Figure(data=[go.Sankey(\n",
    "        arrangement = \"snap\",\n",
    "        node = dict(\n",
    "            pad = 15,\n",
    "            thickness = 20,\n",
    "            # line = dict(color = \"black\", width = 0.5),\n",
    "            label = sankey_node_label, #node_label,\n",
    "            color = sankey_node_col, #node_col,\n",
    "            # groups = node_groups,\n",
    "            x = (sankey_node_x + 0.01) if x_loc_by_level else None,  #(np.array(node_x)+0.0001),\n",
    "            y = sankey_node_y - 0.01, # [0.2] * len(sankey_node_x.tolist())   # ,  #(np.array(node_y)+0.0001)\n",
    "            customdata = sankey_node_fullname,\n",
    "            hovertemplate = node_hover),\n",
    "            link = dict(\n",
    "                source = sankey_plot_source_id, #, # np.array(sankey_source_id), # indices correspond to labels, eg A1, A2, A1, B1, ...\n",
    "                target = sankey_plot_target_id, # sankey_target_id,\n",
    "                value = sankey_plot_value_id,\n",
    "            # color = sankey_color\n",
    "            )\n",
    "        )])\n",
    "\n",
    "    fig.update_layout(font_size=font_size,\n",
    "                      hoverlabel=dict(\n",
    "                          font_size=font_size,\n",
    "                          )\n",
    "                      )\n",
    "    fig.write_html(filename + \".html\")\n",
    "    fig.show()\n",
    "    \n",
    "    if not verbose:\n",
    "        return fig\n",
    "    else:\n",
    "        node = dict(\n",
    "            pad = 15,\n",
    "            thickness = 20,\n",
    "            # line = dict(color = \"black\", width = 0.5),\n",
    "            label = sankey_node_label, #node_label,\n",
    "            color = sankey_node_col, #node_col,\n",
    "            # groups = node_groups,\n",
    "            x = (sankey_node_x + 0.01) if x_loc_by_level else None,  #(np.array(node_x)+0.0001),\n",
    "            y = sankey_node_y - 0.01, # [0.2] * len(sankey_node_x.tolist())   # ,  #(np.array(node_y)+0.0001)\n",
    "            customdata = sankey_node_fullname,\n",
    "            hovertemplate = node_hover)\n",
    "        link = dict(\n",
    "                source = sankey_plot_source_id, #, # np.array(sankey_source_id), # indices correspond to labels, eg A1, A2, A1, B1, ...\n",
    "                target = sankey_plot_target_id, # sankey_target_id,\n",
    "                value = sankey_plot_value_id,\n",
    "            # color = sankey_color\n",
    "            )\n",
    "        \n",
    "        return node, link\n",
    "        "
   ]
  },
  {
   "cell_type": "markdown",
   "metadata": {},
   "source": [
    "# Draw the plot"
   ]
  },
  {
   "cell_type": "markdown",
   "metadata": {},
   "source": [
    "## Load model"
   ]
  },
  {
   "cell_type": "code",
   "execution_count": 18,
   "metadata": {
    "scrolled": true,
    "tags": []
   },
   "outputs": [],
   "source": [
    "class Drugcell_Vae(nn.Module):\n",
    "\n",
    "    def __init__(self, term_size_map, term_direct_gene_map, dG, ngene, ndrug, root, \n",
    "                 num_hiddens_genotype, num_hiddens_drug, num_hiddens_final, \n",
    "                 n_class, inter_loss_penalty = 0.2):\n",
    "\n",
    "        super().__init__()\n",
    "\n",
    "        self.root = root\n",
    "        self.num_hiddens_genotype = num_hiddens_genotype\n",
    "        self.num_hiddens_drug = num_hiddens_drug\n",
    "        \n",
    "        \n",
    "        self.num_hiddens_final = num_hiddens_final\n",
    "        self.n_class = n_class\n",
    "        self.inter_loss_penalty = inter_loss_penalty\n",
    "        self.dG = copy.deepcopy(dG)\n",
    "\n",
    "        # dictionary from terms to genes directly annotated with the term\n",
    "        self.term_direct_gene_map = term_direct_gene_map\n",
    "\n",
    "        self.term_visit_count = {}\n",
    "        self.init_term_visits(term_size_map)\n",
    "        \n",
    "        # calculate the number of values in a state (term): term_size_map is the number of all genes annotated with the term\n",
    "        self.term_dim_map = {}\n",
    "        self.cal_term_dim(term_size_map)\n",
    "\n",
    "        # ngenes, gene_dim are the number of all genes\n",
    "        self.gene_dim = ngene\n",
    "        self.drug_dim = ndrug\n",
    "\n",
    "        # add modules for neural networks to process genotypes\n",
    "        self.contruct_direct_gene_layer()\n",
    "        self.construct_NN_graph(self.dG)\n",
    "\n",
    "        # add modules for neural networks to process drugs\n",
    "        self.construct_NN_drug()\n",
    "\n",
    "        # add modules for final layer TODO: modify it into VAE\n",
    "        final_input_size = num_hiddens_genotype + num_hiddens_drug[-1]\n",
    "        self.add_module('final_linear_layer', nn.Linear(final_input_size, num_hiddens_final * 2))\n",
    "        self.add_module('final_batchnorm_layer', nn.BatchNorm1d(num_hiddens_final * 2))\n",
    "        self.add_module('final_aux_linear_layer', nn.Linear(num_hiddens_final * 2, 1))\n",
    "        self.add_module('final_linear_layer_output', nn.Linear(1, 1))\n",
    "        \n",
    "        self.decoder_affine = nn.Linear(num_hiddens_final, 1)\n",
    "\n",
    "    def init_term_visits(self, term_size_map):\n",
    "        \n",
    "        for term in term_size_map:\n",
    "            self.term_visit_count[term] = 0\n",
    "    \n",
    "    # calculate the number of values in a state (term)\n",
    "    def cal_term_dim(self, term_size_map):\n",
    "\n",
    "        for term, term_size in term_size_map.items():\n",
    "            num_output = self.num_hiddens_genotype\n",
    "\n",
    "            # log the number of hidden variables per each term\n",
    "            num_output = int(num_output)\n",
    "#            print(\"term\\t%s\\tterm_size\\t%d\\tnum_hiddens\\t%d\" % (term, term_size, num_output))\n",
    "            self.term_dim_map[term] = num_output\n",
    "\n",
    "\n",
    "    # build a layer for forwarding gene that are directly annotated with the term\n",
    "    def contruct_direct_gene_layer(self):\n",
    "\n",
    "        for term, gene_set in self.term_direct_gene_map.items():\n",
    "            if len(gene_set) == 0:\n",
    "                print('There are no directed asscoiated genes for', term)\n",
    "                sys.exit(1)\n",
    "\n",
    "            # if there are some genes directly annotated with the term, add a layer taking in all genes and forwarding out only those genes\n",
    "            self.add_module(term+'_direct_gene_layer', nn.Linear(self.gene_dim, len(gene_set)))\n",
    "\n",
    "\n",
    "    # add modules for fully connected neural networks for drug processing\n",
    "    def construct_NN_drug(self):\n",
    "        input_size = self.drug_dim\n",
    "\n",
    "        for i in range(len(self.num_hiddens_drug)):\n",
    "            self.add_module('drug_linear_layer_' + str(i+1), nn.Linear(input_size, self.num_hiddens_drug[i]))\n",
    "            self.add_module('drug_batchnorm_layer_' + str(i+1), nn.BatchNorm1d(self.num_hiddens_drug[i]))\n",
    "            self.add_module('drug_aux_linear_layer1_' + str(i+1), nn.Linear(self.num_hiddens_drug[i],1))\n",
    "            self.add_module('drug_aux_linear_layer2_' + str(i+1), nn.Linear(1,1))\n",
    "\n",
    "            input_size = self.num_hiddens_drug[i]\n",
    "\n",
    "    # start from bottom (leaves), and start building a neural network using the given ontology\n",
    "    # adding modules --- the modules are not connected yet\n",
    "    def construct_NN_graph(self, dG):\n",
    "\n",
    "        self.term_layer_list = []   # term_layer_list stores the built neural network\n",
    "        self.term_neighbor_map = {}\n",
    "\n",
    "        # term_neighbor_map records all children of each term\n",
    "        for term in dG.nodes():\n",
    "            self.term_neighbor_map[term] = []\n",
    "            for child in dG.neighbors(term):\n",
    "                self.term_neighbor_map[term].append(child)\n",
    "\n",
    "        while True:\n",
    "            leaves = [n for n in dG.nodes() if dG.out_degree(n) == 0]\n",
    "            #leaves = [n for n,d in dG.out_degree().items() if d==0]\n",
    "            #leaves = [n for n,d in dG.out_degree() if d==0]\n",
    "\n",
    "            if len(leaves) == 0:\n",
    "                break\n",
    "\n",
    "            self.term_layer_list.append(leaves)\n",
    "\n",
    "            for term in leaves:\n",
    "\n",
    "                # input size will be #chilren + #genes directly annotated by the term\n",
    "                input_size = 0\n",
    "\n",
    "                for child in self.term_neighbor_map[term]:\n",
    "                    input_size += self.term_dim_map[child]\n",
    "\n",
    "                if term in self.term_direct_gene_map:\n",
    "                    input_size += len(self.term_direct_gene_map[term])\n",
    "\n",
    "                # term_hidden is the number of the hidden variables in each state\n",
    "                term_hidden = self.term_dim_map[term]\n",
    "\n",
    "                self.add_module(term+'_linear_layer', nn.Linear(input_size, term_hidden))\n",
    "                self.add_module(term+'_batchnorm_layer', nn.BatchNorm1d(term_hidden))\n",
    "                self.add_module(term+'_aux_linear_layer1', nn.Linear(term_hidden, term_hidden))\n",
    "                self.add_module(term+'_aux_linear_layer2', nn.Linear(term_hidden, 1))\n",
    "\n",
    "            dG.remove_nodes_from(leaves)\n",
    "\n",
    "\n",
    "    # definition of encoder\n",
    "    def encoder(self, x):\n",
    "        gene_input = x.narrow(1, 0, self.gene_dim)\n",
    "        drug_input = x.narrow(1, self.gene_dim, self.drug_dim)\n",
    "        \n",
    "        # define forward function for genotype dcell #############################################\n",
    "        term_gene_out_map = {}\n",
    "\n",
    "        for term, _ in self.term_direct_gene_map.items():\n",
    "            term_gene_out_map[term] = self._modules[term + '_direct_gene_layer'](gene_input)\n",
    "\n",
    "        term_NN_out_map = {}\n",
    "        aux_out_map = {}\n",
    "\n",
    "        for i, layer in enumerate(self.term_layer_list):\n",
    "\n",
    "            for term in layer:\n",
    "\n",
    "                child_input_list = []\n",
    "\n",
    "                self.term_visit_count[term] += 1\n",
    "                \n",
    "                for child in self.term_neighbor_map[term]:\n",
    "                    child_input_list.append(term_NN_out_map[child])\n",
    "\n",
    "                if term in self.term_direct_gene_map:\n",
    "                    child_input_list.append(term_gene_out_map[term])\n",
    "\n",
    "                child_input = torch.cat(child_input_list,1)\n",
    "\n",
    "                term_NN_out = self._modules[term+'_linear_layer'](child_input)\n",
    "\n",
    "                Tanh_out = torch.tanh(term_NN_out)\n",
    "                term_NN_out_map[term] = self._modules[term+'_batchnorm_layer'](Tanh_out)\n",
    "                aux_layer1_out = torch.tanh(self._modules[term+'_aux_linear_layer1'](term_NN_out_map[term]))\n",
    "                aux_out_map[term] = self._modules[term+'_aux_linear_layer2'](aux_layer1_out)\n",
    "\n",
    "        drug_out = drug_input\n",
    "\n",
    "        for i in range(1, len(self.num_hiddens_drug)+1, 1):\n",
    "            drug_out = self._modules['drug_batchnorm_layer_'+str(i)]( torch.tanh(self._modules['drug_linear_layer_' + str(i)](drug_out)))\n",
    "            term_NN_out_map['drug_'+str(i)] = drug_out\n",
    "\n",
    "            aux_layer1_out = torch.tanh(self._modules['drug_aux_linear_layer1_'+str(i)](drug_out))\n",
    "            aux_out_map['drug_'+str(i)] = self._modules['drug_aux_linear_layer2_'+str(i)](aux_layer1_out)\n",
    "\n",
    "\n",
    "        # connect two neural networks at the top #################################################\n",
    "        final_input = torch.cat((term_NN_out_map[self.root], drug_out), 1)\n",
    "\n",
    "        out = self._modules['final_batchnorm_layer'](torch.tanh(self._modules['final_linear_layer'](final_input)))\n",
    "        term_NN_out_map['final'] = out\n",
    "\n",
    "        aux_layer_out = torch.tanh(self._modules['final_aux_linear_layer'](out))\n",
    "        aux_out_map['final'] = self._modules['final_linear_layer_output'](aux_layer_out)\n",
    "\n",
    "        return aux_out_map, term_NN_out_map\n",
    "    \n",
    "    def forward(self, x):\n",
    "        \n",
    "        aux_out_map, term_NN_out_map = self.encoder(x)\n",
    "        \n",
    "        mu = term_NN_out_map['final'][..., :self.num_hiddens_final]\n",
    "        log_var = term_NN_out_map['final'][..., :self.num_hiddens_final]  # T X batch X z_dim\n",
    "        std_dec = log_var.mul(0.5).exp_()\n",
    "        # std_dec = 1\n",
    "        \n",
    "        latent = MultivariateNormal(loc = mu, \n",
    "                                    scale_tril=torch.diag_embed(std_dec))\n",
    "        z = latent.rsample()\n",
    "        \n",
    "        recon_mean = self.decoder_affine(z)\n",
    "        recon_mean = F.sigmoid(recon_mean)\n",
    "\n",
    "        return recon_mean# , mu, log_var, aux_out_map, term_NN_out_map\n",
    "    \n",
    "    def loss_log_vae(self, recon_mean, y, mu, log_var, beta = 0.001):\n",
    "        # y: true labels\n",
    "        ori_y_shape = y.shape\n",
    "        \n",
    "        class_loss = F.mse_loss(recon_mean.view(-1), \n",
    "                                     y.reshape(-1), reduction = 'none').div(np.log(2)).view(*ori_y_shape)\n",
    "        \n",
    "        KLD = -0.5 * torch.sum(1 + log_var - mu.pow(2) - log_var.exp(), \n",
    "                              dim = -1)\n",
    "        \n",
    "        log_loss = class_loss + beta * KLD\n",
    "        log_loss = torch.mean(torch.logsumexp(log_loss, 0))\n",
    "        \n",
    "        return log_loss\n",
    "    \n",
    "    def intermediate_loss(self, aux_out_map, y):\n",
    "        \n",
    "        inter_loss = 0\n",
    "        for name, output in aux_out_map.items():\n",
    "            if name == 'final':\n",
    "                inter_loss += 0\n",
    "            else: # change 0.2 to smaller one for big terms\n",
    "                ori_y_shape = y.shape\n",
    "        \n",
    "                term_loss = F.mse_loss(output.view(-1), \n",
    "                                             y.reshape(-1), \n",
    "                                             reduction = 'none').div(np.log(2)).view(*ori_y_shape)\n",
    "                inter_loss += term_loss\n",
    "\n",
    "        return inter_loss\n",
    "\n"
   ]
  },
  {
   "cell_type": "code",
   "execution_count": 21,
   "metadata": {},
   "outputs": [],
   "source": [
    "drugcell = torch.load(\"gdsc_manual_hpo_20240516-082851.pt\", map_location=DEVICE)"
   ]
  },
  {
   "cell_type": "markdown",
   "metadata": {},
   "source": [
    "## Data Preparation"
   ]
  },
  {
   "cell_type": "code",
   "execution_count": 20,
   "metadata": {
    "tags": []
   },
   "outputs": [],
   "source": [
    "GDSC_cell_list = pd.read_csv('data/GDSC/GDSC_Cell_List.csv')"
   ]
  },
  {
   "cell_type": "code",
   "execution_count": 18,
   "metadata": {
    "tags": []
   },
   "outputs": [],
   "source": [
    "gdsc_tcga_label = pd.merge(gdsc, GDSC_cell_list, how=\"left\", left_on=[\"SangerModelID\"], right_on=['Model ID'])\n",
    "gdsc_tcga_label = gdsc_tcga_label.drop_duplicates(['Model ID', 'ModelID'])\n",
    "gdsc_tcga_label.index = gdsc.index"
   ]
  },
  {
   "cell_type": "code",
   "execution_count": 19,
   "metadata": {
    "tags": []
   },
   "outputs": [
    {
     "data": {
      "text/html": [
       "<div>\n",
       "<style scoped>\n",
       "    .dataframe tbody tr th:only-of-type {\n",
       "        vertical-align: middle;\n",
       "    }\n",
       "\n",
       "    .dataframe tbody tr th {\n",
       "        vertical-align: top;\n",
       "    }\n",
       "\n",
       "    .dataframe thead th {\n",
       "        text-align: right;\n",
       "    }\n",
       "</style>\n",
       "<table border=\"1\" class=\"dataframe\">\n",
       "  <thead>\n",
       "    <tr style=\"text-align: right;\">\n",
       "      <th></th>\n",
       "      <th>TSPAN6</th>\n",
       "      <th>TNMD</th>\n",
       "      <th>DPM1</th>\n",
       "      <th>SCYL3</th>\n",
       "      <th>C1orf112</th>\n",
       "      <th>FGR</th>\n",
       "      <th>CFH</th>\n",
       "      <th>FUCA2</th>\n",
       "      <th>GCLC</th>\n",
       "      <th>NFYA</th>\n",
       "      <th>...</th>\n",
       "      <th>OncotreePrimaryDisease</th>\n",
       "      <th>OncotreeLineage</th>\n",
       "      <th>Cell line Name</th>\n",
       "      <th>Model ID</th>\n",
       "      <th>COSMIC ID</th>\n",
       "      <th>TCGA Classfication</th>\n",
       "      <th>Tissue</th>\n",
       "      <th>Tissue sub-type</th>\n",
       "      <th>Datasets</th>\n",
       "      <th>number of drugs</th>\n",
       "    </tr>\n",
       "  </thead>\n",
       "  <tbody>\n",
       "    <tr>\n",
       "      <th>0</th>\n",
       "      <td>4.189825</td>\n",
       "      <td>0.0</td>\n",
       "      <td>6.126601</td>\n",
       "      <td>2.114367</td>\n",
       "      <td>2.235727</td>\n",
       "      <td>0.000000</td>\n",
       "      <td>7.094553</td>\n",
       "      <td>5.907131</td>\n",
       "      <td>6.029453</td>\n",
       "      <td>3.669027</td>\n",
       "      <td>...</td>\n",
       "      <td>Renal Cell Carcinoma</td>\n",
       "      <td>Kidney</td>\n",
       "      <td>NaN</td>\n",
       "      <td>NaN</td>\n",
       "      <td>NaN</td>\n",
       "      <td>NaN</td>\n",
       "      <td>NaN</td>\n",
       "      <td>NaN</td>\n",
       "      <td>NaN</td>\n",
       "      <td>NaN</td>\n",
       "    </tr>\n",
       "    <tr>\n",
       "      <th>1</th>\n",
       "      <td>0.070389</td>\n",
       "      <td>0.0</td>\n",
       "      <td>5.883376</td>\n",
       "      <td>3.549669</td>\n",
       "      <td>5.307064</td>\n",
       "      <td>0.028569</td>\n",
       "      <td>0.070389</td>\n",
       "      <td>0.286881</td>\n",
       "      <td>4.758090</td>\n",
       "      <td>5.542568</td>\n",
       "      <td>...</td>\n",
       "      <td>B-Lymphoblastic Leukemia/Lymphoma</td>\n",
       "      <td>Lymphoid</td>\n",
       "      <td>NaN</td>\n",
       "      <td>NaN</td>\n",
       "      <td>NaN</td>\n",
       "      <td>NaN</td>\n",
       "      <td>NaN</td>\n",
       "      <td>NaN</td>\n",
       "      <td>NaN</td>\n",
       "      <td>NaN</td>\n",
       "    </tr>\n",
       "    <tr>\n",
       "      <th>2</th>\n",
       "      <td>4.682573</td>\n",
       "      <td>0.0</td>\n",
       "      <td>6.949185</td>\n",
       "      <td>1.823749</td>\n",
       "      <td>3.837943</td>\n",
       "      <td>0.028569</td>\n",
       "      <td>0.790772</td>\n",
       "      <td>6.224002</td>\n",
       "      <td>4.825786</td>\n",
       "      <td>4.408032</td>\n",
       "      <td>...</td>\n",
       "      <td>Non-Small Cell Lung Cancer</td>\n",
       "      <td>Lung</td>\n",
       "      <td>NaN</td>\n",
       "      <td>NaN</td>\n",
       "      <td>NaN</td>\n",
       "      <td>NaN</td>\n",
       "      <td>NaN</td>\n",
       "      <td>NaN</td>\n",
       "      <td>NaN</td>\n",
       "      <td>NaN</td>\n",
       "    </tr>\n",
       "    <tr>\n",
       "      <th>3</th>\n",
       "      <td>3.499527</td>\n",
       "      <td>0.0</td>\n",
       "      <td>6.612647</td>\n",
       "      <td>1.952334</td>\n",
       "      <td>2.726831</td>\n",
       "      <td>0.070389</td>\n",
       "      <td>5.630813</td>\n",
       "      <td>6.098664</td>\n",
       "      <td>5.210623</td>\n",
       "      <td>3.148934</td>\n",
       "      <td>...</td>\n",
       "      <td>Non-Cancerous</td>\n",
       "      <td>Fibroblast</td>\n",
       "      <td>NaN</td>\n",
       "      <td>NaN</td>\n",
       "      <td>NaN</td>\n",
       "      <td>NaN</td>\n",
       "      <td>NaN</td>\n",
       "      <td>NaN</td>\n",
       "      <td>NaN</td>\n",
       "      <td>NaN</td>\n",
       "    </tr>\n",
       "    <tr>\n",
       "      <th>4</th>\n",
       "      <td>4.262283</td>\n",
       "      <td>0.0</td>\n",
       "      <td>6.536985</td>\n",
       "      <td>2.087463</td>\n",
       "      <td>4.051372</td>\n",
       "      <td>0.028569</td>\n",
       "      <td>2.807355</td>\n",
       "      <td>6.387328</td>\n",
       "      <td>3.507160</td>\n",
       "      <td>4.163499</td>\n",
       "      <td>...</td>\n",
       "      <td>Non-Cancerous</td>\n",
       "      <td>Kidney</td>\n",
       "      <td>NaN</td>\n",
       "      <td>NaN</td>\n",
       "      <td>NaN</td>\n",
       "      <td>NaN</td>\n",
       "      <td>NaN</td>\n",
       "      <td>NaN</td>\n",
       "      <td>NaN</td>\n",
       "      <td>NaN</td>\n",
       "    </tr>\n",
       "    <tr>\n",
       "      <th>...</th>\n",
       "      <td>...</td>\n",
       "      <td>...</td>\n",
       "      <td>...</td>\n",
       "      <td>...</td>\n",
       "      <td>...</td>\n",
       "      <td>...</td>\n",
       "      <td>...</td>\n",
       "      <td>...</td>\n",
       "      <td>...</td>\n",
       "      <td>...</td>\n",
       "      <td>...</td>\n",
       "      <td>...</td>\n",
       "      <td>...</td>\n",
       "      <td>...</td>\n",
       "      <td>...</td>\n",
       "      <td>...</td>\n",
       "      <td>...</td>\n",
       "      <td>...</td>\n",
       "      <td>...</td>\n",
       "      <td>...</td>\n",
       "      <td>...</td>\n",
       "    </tr>\n",
       "    <tr>\n",
       "      <th>1002</th>\n",
       "      <td>4.161888</td>\n",
       "      <td>0.0</td>\n",
       "      <td>6.267349</td>\n",
       "      <td>2.572890</td>\n",
       "      <td>3.729009</td>\n",
       "      <td>0.163499</td>\n",
       "      <td>0.903038</td>\n",
       "      <td>6.166715</td>\n",
       "      <td>4.543496</td>\n",
       "      <td>3.340562</td>\n",
       "      <td>...</td>\n",
       "      <td>Melanoma</td>\n",
       "      <td>Skin</td>\n",
       "      <td>NaN</td>\n",
       "      <td>NaN</td>\n",
       "      <td>NaN</td>\n",
       "      <td>NaN</td>\n",
       "      <td>NaN</td>\n",
       "      <td>NaN</td>\n",
       "      <td>NaN</td>\n",
       "      <td>NaN</td>\n",
       "    </tr>\n",
       "    <tr>\n",
       "      <th>1003</th>\n",
       "      <td>3.581351</td>\n",
       "      <td>0.0</td>\n",
       "      <td>6.933809</td>\n",
       "      <td>1.859970</td>\n",
       "      <td>3.560715</td>\n",
       "      <td>0.000000</td>\n",
       "      <td>3.979111</td>\n",
       "      <td>4.281698</td>\n",
       "      <td>3.405992</td>\n",
       "      <td>4.519164</td>\n",
       "      <td>...</td>\n",
       "      <td>Anaplastic Thyroid Cancer</td>\n",
       "      <td>Thyroid</td>\n",
       "      <td>8305C</td>\n",
       "      <td>SIDM00997</td>\n",
       "      <td>906795.0</td>\n",
       "      <td>THCA</td>\n",
       "      <td>thyroid</td>\n",
       "      <td>thyroid</td>\n",
       "      <td>GDSC1</td>\n",
       "      <td>353.0</td>\n",
       "    </tr>\n",
       "    <tr>\n",
       "      <th>1004</th>\n",
       "      <td>3.988230</td>\n",
       "      <td>0.0</td>\n",
       "      <td>7.027464</td>\n",
       "      <td>1.835924</td>\n",
       "      <td>3.704872</td>\n",
       "      <td>0.000000</td>\n",
       "      <td>0.485427</td>\n",
       "      <td>5.891905</td>\n",
       "      <td>3.667892</td>\n",
       "      <td>4.064366</td>\n",
       "      <td>...</td>\n",
       "      <td>Anaplastic Thyroid Cancer</td>\n",
       "      <td>Thyroid</td>\n",
       "      <td>8505C</td>\n",
       "      <td>SIDM00996</td>\n",
       "      <td>924102.0</td>\n",
       "      <td>THCA</td>\n",
       "      <td>thyroid</td>\n",
       "      <td>thyroid</td>\n",
       "      <td>GDSC1</td>\n",
       "      <td>341.0</td>\n",
       "    </tr>\n",
       "    <tr>\n",
       "      <th>1005</th>\n",
       "      <td>3.983678</td>\n",
       "      <td>0.0</td>\n",
       "      <td>6.610287</td>\n",
       "      <td>2.330558</td>\n",
       "      <td>3.770829</td>\n",
       "      <td>0.056584</td>\n",
       "      <td>1.855990</td>\n",
       "      <td>7.816856</td>\n",
       "      <td>5.713421</td>\n",
       "      <td>4.729553</td>\n",
       "      <td>...</td>\n",
       "      <td>Hepatocellular Carcinoma</td>\n",
       "      <td>Liver</td>\n",
       "      <td>NaN</td>\n",
       "      <td>NaN</td>\n",
       "      <td>NaN</td>\n",
       "      <td>NaN</td>\n",
       "      <td>NaN</td>\n",
       "      <td>NaN</td>\n",
       "      <td>NaN</td>\n",
       "      <td>NaN</td>\n",
       "    </tr>\n",
       "    <tr>\n",
       "      <th>1006</th>\n",
       "      <td>1.000000</td>\n",
       "      <td>0.0</td>\n",
       "      <td>6.280771</td>\n",
       "      <td>3.393691</td>\n",
       "      <td>4.115200</td>\n",
       "      <td>0.028569</td>\n",
       "      <td>4.385431</td>\n",
       "      <td>5.188638</td>\n",
       "      <td>5.536675</td>\n",
       "      <td>5.106013</td>\n",
       "      <td>...</td>\n",
       "      <td>Medullary Thyroid Cancer</td>\n",
       "      <td>Thyroid</td>\n",
       "      <td>TT</td>\n",
       "      <td>SIDM00484</td>\n",
       "      <td>930299.0</td>\n",
       "      <td>THCA</td>\n",
       "      <td>thyroid</td>\n",
       "      <td>thyroid</td>\n",
       "      <td>GDSC1</td>\n",
       "      <td>350.0</td>\n",
       "    </tr>\n",
       "  </tbody>\n",
       "</table>\n",
       "<p>1007 rows × 30843 columns</p>\n",
       "</div>"
      ],
      "text/plain": [
       "        TSPAN6  TNMD      DPM1     SCYL3  C1orf112       FGR       CFH  \\\n",
       "0     4.189825   0.0  6.126601  2.114367  2.235727  0.000000  7.094553   \n",
       "1     0.070389   0.0  5.883376  3.549669  5.307064  0.028569  0.070389   \n",
       "2     4.682573   0.0  6.949185  1.823749  3.837943  0.028569  0.790772   \n",
       "3     3.499527   0.0  6.612647  1.952334  2.726831  0.070389  5.630813   \n",
       "4     4.262283   0.0  6.536985  2.087463  4.051372  0.028569  2.807355   \n",
       "...        ...   ...       ...       ...       ...       ...       ...   \n",
       "1002  4.161888   0.0  6.267349  2.572890  3.729009  0.163499  0.903038   \n",
       "1003  3.581351   0.0  6.933809  1.859970  3.560715  0.000000  3.979111   \n",
       "1004  3.988230   0.0  7.027464  1.835924  3.704872  0.000000  0.485427   \n",
       "1005  3.983678   0.0  6.610287  2.330558  3.770829  0.056584  1.855990   \n",
       "1006  1.000000   0.0  6.280771  3.393691  4.115200  0.028569  4.385431   \n",
       "\n",
       "         FUCA2      GCLC      NFYA  ...             OncotreePrimaryDisease  \\\n",
       "0     5.907131  6.029453  3.669027  ...               Renal Cell Carcinoma   \n",
       "1     0.286881  4.758090  5.542568  ...  B-Lymphoblastic Leukemia/Lymphoma   \n",
       "2     6.224002  4.825786  4.408032  ...         Non-Small Cell Lung Cancer   \n",
       "3     6.098664  5.210623  3.148934  ...                      Non-Cancerous   \n",
       "4     6.387328  3.507160  4.163499  ...                      Non-Cancerous   \n",
       "...        ...       ...       ...  ...                                ...   \n",
       "1002  6.166715  4.543496  3.340562  ...                           Melanoma   \n",
       "1003  4.281698  3.405992  4.519164  ...          Anaplastic Thyroid Cancer   \n",
       "1004  5.891905  3.667892  4.064366  ...          Anaplastic Thyroid Cancer   \n",
       "1005  7.816856  5.713421  4.729553  ...           Hepatocellular Carcinoma   \n",
       "1006  5.188638  5.536675  5.106013  ...           Medullary Thyroid Cancer   \n",
       "\n",
       "      OncotreeLineage  Cell line Name   Model ID   COSMIC ID  \\\n",
       "0              Kidney             NaN        NaN         NaN   \n",
       "1            Lymphoid             NaN        NaN         NaN   \n",
       "2                Lung             NaN        NaN         NaN   \n",
       "3          Fibroblast             NaN        NaN         NaN   \n",
       "4              Kidney             NaN        NaN         NaN   \n",
       "...               ...             ...        ...         ...   \n",
       "1002             Skin             NaN        NaN         NaN   \n",
       "1003          Thyroid           8305C  SIDM00997    906795.0   \n",
       "1004          Thyroid           8505C  SIDM00996    924102.0   \n",
       "1005            Liver             NaN        NaN         NaN   \n",
       "1006          Thyroid              TT  SIDM00484    930299.0   \n",
       "\n",
       "       TCGA Classfication   Tissue  Tissue sub-type   Datasets  \\\n",
       "0                     NaN      NaN              NaN        NaN   \n",
       "1                     NaN      NaN              NaN        NaN   \n",
       "2                     NaN      NaN              NaN        NaN   \n",
       "3                     NaN      NaN              NaN        NaN   \n",
       "4                     NaN      NaN              NaN        NaN   \n",
       "...                   ...      ...              ...        ...   \n",
       "1002                  NaN      NaN              NaN        NaN   \n",
       "1003                 THCA  thyroid          thyroid      GDSC1   \n",
       "1004                 THCA  thyroid          thyroid      GDSC1   \n",
       "1005                  NaN      NaN              NaN        NaN   \n",
       "1006                 THCA  thyroid          thyroid      GDSC1   \n",
       "\n",
       "       number of drugs  \n",
       "0                  NaN  \n",
       "1                  NaN  \n",
       "2                  NaN  \n",
       "3                  NaN  \n",
       "4                  NaN  \n",
       "...                ...  \n",
       "1002               NaN  \n",
       "1003             353.0  \n",
       "1004             341.0  \n",
       "1005               NaN  \n",
       "1006             350.0  \n",
       "\n",
       "[1007 rows x 30843 columns]"
      ]
     },
     "execution_count": 19,
     "metadata": {},
     "output_type": "execute_result"
    }
   ],
   "source": [
    "gdsc_tcga_label"
   ]
  },
  {
   "cell_type": "code",
   "execution_count": 20,
   "metadata": {
    "tags": []
   },
   "outputs": [],
   "source": [
    "train_index_set = response_gdcs2[torch.isin(response_gdcs2[:,0], train_gdcs_idx)].float()\n",
    "test_index_set = response_gdcs2[torch.isin(response_gdcs2[:,0], test_gdcs_idx)].float()"
   ]
  },
  {
   "cell_type": "code",
   "execution_count": 21,
   "metadata": {
    "tags": []
   },
   "outputs": [],
   "source": [
    "selected_key_list = gdsc_tcga_label[gdsc_tcga_label[' TCGA Classfication'] == 'OV']['ModelID'].to_list()\n",
    "selected_ID_list = [gdsc_row_key_id[key] for key in selected_key_list]"
   ]
  },
  {
   "cell_type": "code",
   "execution_count": 22,
   "metadata": {
    "tags": []
   },
   "outputs": [],
   "source": [
    "drug_subset_index = train_index_set[np.isin(train_index_set[:,0].numpy(), selected_ID_list), :]"
   ]
  },
  {
   "cell_type": "code",
   "execution_count": 23,
   "metadata": {
    "tags": []
   },
   "outputs": [
    {
     "data": {
      "text/plain": [
       "tensor([   2.,    9.,   35.,   56.,   86.,   89.,   99.,  102.,  118.,  120.,\n",
       "         124.,  132.,  139.,  140.,  144.,  164.,  171.,  186.,  201.,  206.,\n",
       "         212.,  214.,  219.,  224.,  225.,  241.,  245.,  255.,  273.,  274.,\n",
       "         279.,  293.,  295.,  308.,  316.,  337.,  350.,  363.,  366.,  375.,\n",
       "         389.,  395.,  398.,  401.,  403.,  406.,  417.,  426.,  429.,  437.,\n",
       "         453.,  458.,  467.,  471.,  472.,  473.,  487.,  489.,  500.,  512.,\n",
       "         519.,  528.,  540.,  543.,  566.,  600.,  622.,  647.,  655.,  661.,\n",
       "         672.,  674.,  680.,  698.,  721.,  729.,  730.,  738.,  765.,  771.,\n",
       "         781.,  808.,  819.,  837.,  848.,  855.,  860.,  872.,  881.,  882.,\n",
       "         903.,  915.,  939.,  978.,  990.,  999., 1005., 1011., 1013., 1030.,\n",
       "        1034., 1048., 1067., 1068., 1075., 1082., 1090., 1091., 1124., 1133.,\n",
       "        1158., 1165., 1218., 1229., 1237., 1249., 1250., 1257., 1270., 1280.,\n",
       "        1286., 1294., 1308., 1323., 1325., 1327., 1328., 1350., 1361., 1365.,\n",
       "        1397., 1415., 1416., 1427., 1428., 1436., 1438., 1441., 1443., 1449.,\n",
       "        1451., 1461., 1464., 1490., 1494., 1496., 1519., 1523., 1537., 1544.,\n",
       "        1552.])"
      ]
     },
     "execution_count": 23,
     "metadata": {},
     "output_type": "execute_result"
    }
   ],
   "source": [
    "torch.unique(drug_subset_index[:,1])"
   ]
  },
  {
   "cell_type": "code",
   "execution_count": 24,
   "metadata": {
    "tags": []
   },
   "outputs": [],
   "source": [
    "drug_key_list = [chem_row_id_key[idx.item()] for idx in torch.unique(drug_subset_index[:,1])]"
   ]
  },
  {
   "cell_type": "code",
   "execution_count": 25,
   "metadata": {
    "tags": []
   },
   "outputs": [
    {
     "data": {
      "text/html": [
       "<div>\n",
       "<style scoped>\n",
       "    .dataframe tbody tr th:only-of-type {\n",
       "        vertical-align: middle;\n",
       "    }\n",
       "\n",
       "    .dataframe tbody tr th {\n",
       "        vertical-align: top;\n",
       "    }\n",
       "\n",
       "    .dataframe thead th {\n",
       "        text-align: right;\n",
       "    }\n",
       "</style>\n",
       "<table border=\"1\" class=\"dataframe\">\n",
       "  <thead>\n",
       "    <tr style=\"text-align: right;\">\n",
       "      <th></th>\n",
       "      <th>DrugID</th>\n",
       "      <th>SMILES</th>\n",
       "      <th>canSMILES</th>\n",
       "      <th>NAME</th>\n",
       "      <th>PUBCHEM_ID</th>\n",
       "      <th>CAS_ID</th>\n",
       "      <th>improve_chem_id</th>\n",
       "    </tr>\n",
       "  </thead>\n",
       "  <tbody>\n",
       "    <tr>\n",
       "      <th>3</th>\n",
       "      <td>CCLE.12</td>\n",
       "      <td>CNC(=O)C1=NC=CC(=C1)OC2=CC=C(C=C2)NC(=O)NC3=CC...</td>\n",
       "      <td>CNC(=O)c1cc(Oc2ccc(NC(=O)Nc3ccc(Cl)c(C(F)(F)F)...</td>\n",
       "      <td>Sorafenib</td>\n",
       "      <td>NaN</td>\n",
       "      <td>NaN</td>\n",
       "      <td>Drug_558</td>\n",
       "    </tr>\n",
       "    <tr>\n",
       "      <th>4</th>\n",
       "      <td>CCLE.13</td>\n",
       "      <td>CCC1=C2C=C(C=CC2=NC3=C1CN4C3=CC5=C(C4=O)COC(=O...</td>\n",
       "      <td>CCc1c2c(nc3ccc(OC(=O)N4CCC(N5CCCCC5)CC4)cc13)-...</td>\n",
       "      <td>Irinotecan</td>\n",
       "      <td>NaN</td>\n",
       "      <td>NaN</td>\n",
       "      <td>Drug_895</td>\n",
       "    </tr>\n",
       "    <tr>\n",
       "      <th>5</th>\n",
       "      <td>CCLE.14</td>\n",
       "      <td>CCC1(C2=C(COC1=O)C(=O)N3CC4=C(C3=C2)[NH+]=C5C=...</td>\n",
       "      <td>CCC1(O)C(=O)OCc2c1cc1n(c2=O)Cc2cc3c(CN(C)C)c(O...</td>\n",
       "      <td>Topotecan</td>\n",
       "      <td>NaN</td>\n",
       "      <td>NaN</td>\n",
       "      <td>Drug_195</td>\n",
       "    </tr>\n",
       "    <tr>\n",
       "      <th>7</th>\n",
       "      <td>CCLE.16</td>\n",
       "      <td>C1=CC(=C(C=C1I)F)NC2=C(C=CC(=C2F)F)C(=O)NOCC(CO)O</td>\n",
       "      <td>O=C(NOCC(O)CO)c1ccc(F)c(F)c1Nc1ccc(I)cc1F</td>\n",
       "      <td>PD-0325901</td>\n",
       "      <td>NaN</td>\n",
       "      <td>NaN</td>\n",
       "      <td>Drug_1087</td>\n",
       "    </tr>\n",
       "    <tr>\n",
       "      <th>8</th>\n",
       "      <td>CCLE.17</td>\n",
       "      <td>CC1=C(C(=O)N(C2=NC(=NC=C12)NC3=NC=C(C=C3)N4CCN...</td>\n",
       "      <td>CC(=O)c1c(C)c2cnc(Nc3ccc(N4CCNCC4)cn3)nc2n(C2C...</td>\n",
       "      <td>PD-0332991</td>\n",
       "      <td>NaN</td>\n",
       "      <td>NaN</td>\n",
       "      <td>Drug_768</td>\n",
       "    </tr>\n",
       "    <tr>\n",
       "      <th>...</th>\n",
       "      <td>...</td>\n",
       "      <td>...</td>\n",
       "      <td>...</td>\n",
       "      <td>...</td>\n",
       "      <td>...</td>\n",
       "      <td>...</td>\n",
       "      <td>...</td>\n",
       "    </tr>\n",
       "    <tr>\n",
       "      <th>2139</th>\n",
       "      <td>gCSI.4</td>\n",
       "      <td>CC1=C2C(C(=O)C3(C(CC4C(C3C(C(C2(C)C)(CC1OC(=O)...</td>\n",
       "      <td>CC(=O)OC12COC1CC(O)C1(C)C(=O)C(O)C3=C(C)C(OC(=...</td>\n",
       "      <td>Docetaxel</td>\n",
       "      <td>NaN</td>\n",
       "      <td>NaN</td>\n",
       "      <td>Drug_1105</td>\n",
       "    </tr>\n",
       "    <tr>\n",
       "      <th>2141</th>\n",
       "      <td>gCSI.6</td>\n",
       "      <td>COCCOC1=C(C=C2C(=C1)C(=NC=N2)NC3=CC=CC(=C3)C#C...</td>\n",
       "      <td>C#Cc1cccc(Nc2ncnc3cc(OCCOC)c(OCCOC)cc23)c1.Cl</td>\n",
       "      <td>Erlotinib</td>\n",
       "      <td>NaN</td>\n",
       "      <td>NaN</td>\n",
       "      <td>Drug_883</td>\n",
       "    </tr>\n",
       "    <tr>\n",
       "      <th>2142</th>\n",
       "      <td>gCSI.7</td>\n",
       "      <td>CS(=O)(=O)N1CCN(CC1)CC2=CC3=C(S2)C(=NC(=N3)C4=...</td>\n",
       "      <td>CS(=O)(=O)N1CCN(Cc2cc3nc(-c4cccc5[nH]ncc45)nc(...</td>\n",
       "      <td>GDC-0941</td>\n",
       "      <td>NaN</td>\n",
       "      <td>NaN</td>\n",
       "      <td>Drug_501</td>\n",
       "    </tr>\n",
       "    <tr>\n",
       "      <th>2143</th>\n",
       "      <td>gCSI.8</td>\n",
       "      <td>C1=CN(C(=O)N=C1N)C2C(C(C(O2)CO)O)(F)F.Cl</td>\n",
       "      <td>Cl.Nc1ccn(C2OC(CO)C(O)C2(F)F)c(=O)n1</td>\n",
       "      <td>Gemcitabine</td>\n",
       "      <td>NaN</td>\n",
       "      <td>NaN</td>\n",
       "      <td>Drug_865</td>\n",
       "    </tr>\n",
       "    <tr>\n",
       "      <th>2144</th>\n",
       "      <td>gCSI.9</td>\n",
       "      <td>CCC1=C2C=C(C=CC2=NC3=C1CN4C3=CC5=C(C4=O)COC(=O...</td>\n",
       "      <td>CCc1c2c(nc3ccc(OC(=O)N4CCC(N5CCCCC5)CC4)cc13)-...</td>\n",
       "      <td>Irinotecan</td>\n",
       "      <td>NaN</td>\n",
       "      <td>NaN</td>\n",
       "      <td>Drug_895</td>\n",
       "    </tr>\n",
       "  </tbody>\n",
       "</table>\n",
       "<p>391 rows × 7 columns</p>\n",
       "</div>"
      ],
      "text/plain": [
       "       DrugID                                             SMILES  \\\n",
       "3     CCLE.12  CNC(=O)C1=NC=CC(=C1)OC2=CC=C(C=C2)NC(=O)NC3=CC...   \n",
       "4     CCLE.13  CCC1=C2C=C(C=CC2=NC3=C1CN4C3=CC5=C(C4=O)COC(=O...   \n",
       "5     CCLE.14  CCC1(C2=C(COC1=O)C(=O)N3CC4=C(C3=C2)[NH+]=C5C=...   \n",
       "7     CCLE.16  C1=CC(=C(C=C1I)F)NC2=C(C=CC(=C2F)F)C(=O)NOCC(CO)O   \n",
       "8     CCLE.17  CC1=C(C(=O)N(C2=NC(=NC=C12)NC3=NC=C(C=C3)N4CCN...   \n",
       "...       ...                                                ...   \n",
       "2139   gCSI.4  CC1=C2C(C(=O)C3(C(CC4C(C3C(C(C2(C)C)(CC1OC(=O)...   \n",
       "2141   gCSI.6  COCCOC1=C(C=C2C(=C1)C(=NC=N2)NC3=CC=CC(=C3)C#C...   \n",
       "2142   gCSI.7  CS(=O)(=O)N1CCN(CC1)CC2=CC3=C(S2)C(=NC(=N3)C4=...   \n",
       "2143   gCSI.8           C1=CN(C(=O)N=C1N)C2C(C(C(O2)CO)O)(F)F.Cl   \n",
       "2144   gCSI.9  CCC1=C2C=C(C=CC2=NC3=C1CN4C3=CC5=C(C4=O)COC(=O...   \n",
       "\n",
       "                                              canSMILES         NAME  \\\n",
       "3     CNC(=O)c1cc(Oc2ccc(NC(=O)Nc3ccc(Cl)c(C(F)(F)F)...    Sorafenib   \n",
       "4     CCc1c2c(nc3ccc(OC(=O)N4CCC(N5CCCCC5)CC4)cc13)-...   Irinotecan   \n",
       "5     CCC1(O)C(=O)OCc2c1cc1n(c2=O)Cc2cc3c(CN(C)C)c(O...    Topotecan   \n",
       "7             O=C(NOCC(O)CO)c1ccc(F)c(F)c1Nc1ccc(I)cc1F   PD-0325901   \n",
       "8     CC(=O)c1c(C)c2cnc(Nc3ccc(N4CCNCC4)cn3)nc2n(C2C...   PD-0332991   \n",
       "...                                                 ...          ...   \n",
       "2139  CC(=O)OC12COC1CC(O)C1(C)C(=O)C(O)C3=C(C)C(OC(=...    Docetaxel   \n",
       "2141      C#Cc1cccc(Nc2ncnc3cc(OCCOC)c(OCCOC)cc23)c1.Cl    Erlotinib   \n",
       "2142  CS(=O)(=O)N1CCN(Cc2cc3nc(-c4cccc5[nH]ncc45)nc(...     GDC-0941   \n",
       "2143               Cl.Nc1ccn(C2OC(CO)C(O)C2(F)F)c(=O)n1  Gemcitabine   \n",
       "2144  CCc1c2c(nc3ccc(OC(=O)N4CCC(N5CCCCC5)CC4)cc13)-...   Irinotecan   \n",
       "\n",
       "      PUBCHEM_ID CAS_ID improve_chem_id  \n",
       "3            NaN    NaN        Drug_558  \n",
       "4            NaN    NaN        Drug_895  \n",
       "5            NaN    NaN        Drug_195  \n",
       "7            NaN    NaN       Drug_1087  \n",
       "8            NaN    NaN        Drug_768  \n",
       "...          ...    ...             ...  \n",
       "2139         NaN    NaN       Drug_1105  \n",
       "2141         NaN    NaN        Drug_883  \n",
       "2142         NaN    NaN        Drug_501  \n",
       "2143         NaN    NaN        Drug_865  \n",
       "2144         NaN    NaN        Drug_895  \n",
       "\n",
       "[391 rows x 7 columns]"
      ]
     },
     "execution_count": 25,
     "metadata": {},
     "output_type": "execute_result"
    }
   ],
   "source": [
    "drug_info_data[drug_info_data.improve_chem_id.isin(drug_key_list)]"
   ]
  },
  {
   "cell_type": "code",
   "execution_count": 26,
   "metadata": {},
   "outputs": [
    {
     "data": {
      "text/plain": [
       "OV    3515\n",
       "Name:  TCGA Classfication, dtype: int64"
      ]
     },
     "execution_count": 26,
     "metadata": {},
     "output_type": "execute_result"
    }
   ],
   "source": [
    "gdsc_tcga_label.loc[drug_subset_index[:,0].numpy(),' TCGA Classfication'].value_counts()"
   ]
  },
  {
   "cell_type": "code",
   "execution_count": 27,
   "metadata": {
    "tags": []
   },
   "outputs": [],
   "source": [
    "test_index_set = response_gdcs2[torch.isin(response_gdcs2[:,0], test_gdcs_idx)].float()"
   ]
  },
  {
   "cell_type": "code",
   "execution_count": 28,
   "metadata": {
    "tags": []
   },
   "outputs": [],
   "source": [
    "gdsc_row_key_id = {k: v for v, k in enumerate(gene_express.index)}\n",
    "gdsc_row_id_key = {v: k for v, k in enumerate(gene_express.index)}\n",
    "\n",
    "chem_row_key_id = {k: v for v, k in enumerate(drug_ecfp4_nbits512.index)}\n",
    "chem_row_id_key = {v: k for v, k in enumerate(drug_ecfp4_nbits512.index)}"
   ]
  },
  {
   "cell_type": "code",
   "execution_count": 29,
   "metadata": {
    "tags": []
   },
   "outputs": [],
   "source": [
    "drug_id_all, drug_counts_all = np.unique(train_index_set[:,1], return_counts = True)"
   ]
  },
  {
   "cell_type": "code",
   "execution_count": 30,
   "metadata": {
    "tags": []
   },
   "outputs": [],
   "source": [
    "drug_improve_id_list = [chem_row_id_key[idx] for idx in drug_id_all[np.argsort(-drug_counts_all)][:30]]"
   ]
  },
  {
   "cell_type": "code",
   "execution_count": 31,
   "metadata": {
    "tags": []
   },
   "outputs": [],
   "source": [
    "drug_top_list = []\n",
    "for top_improve_id in drug_improve_id_list:\n",
    "    drug_top_list.append(drug_info_data[drug_info_data['improve_chem_id'] == top_improve_id].NAME.to_list())"
   ]
  },
  {
   "cell_type": "code",
   "execution_count": 32,
   "metadata": {
    "tags": []
   },
   "outputs": [
    {
     "data": {
      "text/plain": [
       "[['BIBW2992', 'Afatinib', 'Afatinib', 'afatinib'],\n",
       " ['Camptothecin', '(.+-.)-Camptothecin', 'Camptothecin'],\n",
       " ['PD-0325901', 'PD0325901', 'PD-0325901', 'PD-0325901'],\n",
       " ['Nutlin-3',\n",
       "  'Nutlin-3',\n",
       "  'Nutlin-3a (-)',\n",
       "  'Nutlin-3',\n",
       "  '(+/-)-nutlin-3',\n",
       "  '(-)-nutlin-3',\n",
       "  '(+)-Nutlin-3'],\n",
       " ['GSK1120212', 'Trametinib', 'trametinib'],\n",
       " ['5-FU', '5-Fluorouracil', '5-Fluorouracil'],\n",
       " ['Cisplatin'],\n",
       " ['OSI-906', 'Linsitinib', 'Linsitinib', 'linsitinib'],\n",
       " ['Taselisib', 'taselisib'],\n",
       " ['LGK974', 'LGK974', 'LGK-974'],\n",
       " ['Docetaxel', 'Docetaxel', 'Docetaxel', 'Docetaxel', 'Docetaxel'],\n",
       " ['Fulvestrant', 'Fulvestrant', 'Fulvestrant', 'Fulvestrant'],\n",
       " ['Oxaliplatin', 'Oxaliplatin', 'Oxaliplatin'],\n",
       " ['MK-1775', 'MK-1775', 'MK-1775'],\n",
       " ['MK-2206', 'MK-2206'],\n",
       " ['PD-0332991', 'Palbociclib', 'palbociclib', 'PD-0332991'],\n",
       " ['Sapitinib', 'sapitinib'],\n",
       " ['SCH772984', 'SCH-772984'],\n",
       " ['GDC-0941', 'Pictilisib', 'Pictilisib', 'pictilisib', 'GDC-0941'],\n",
       " ['Gemcitabine', 'Gemcitabine', 'Gemcitabine', 'Gemcitabine'],\n",
       " ['Ulixertinib', 'Ulixertinib', 'ulixertinib'],\n",
       " ['Luminespib', 'Luminespib'],\n",
       " ['BYL-719', 'Alpelisib', 'BYL-719'],\n",
       " ['Dasatinib', 'Dasatinib', 'Dasatinib', 'Dasatinib'],\n",
       " ['AZD3759', 'AZD-3759'],\n",
       " ['Uprosertib', 'Uprosertib', 'GSK-2141795'],\n",
       " ['EPZ004777', 'EPZ-004777'],\n",
       " ['GSK1904529A', 'GSK1904529A', 'GSK-1904529A'],\n",
       " ['EPZ5676', 'EPZ-5676'],\n",
       " ['Irinotecan', 'Irinotecan', 'irinotecan', 'Irinotecan', 'Irinotecan']]"
      ]
     },
     "execution_count": 32,
     "metadata": {},
     "output_type": "execute_result"
    }
   ],
   "source": [
    "drug_top_list"
   ]
  },
  {
   "cell_type": "code",
   "execution_count": 33,
   "metadata": {
    "tags": []
   },
   "outputs": [],
   "source": [
    "drug_improve_id = drug_info_data[drug_info_data['NAME'] == 'Vinorelbine']['improve_chem_id'].iloc[0]\n",
    "drug_index = chem_row_key_id[drug_improve_id]"
   ]
  },
  {
   "cell_type": "code",
   "execution_count": 34,
   "metadata": {
    "tags": []
   },
   "outputs": [
    {
     "data": {
      "text/plain": [
       "600"
      ]
     },
     "execution_count": 34,
     "metadata": {},
     "output_type": "execute_result"
    }
   ],
   "source": [
    "drug_index"
   ]
  },
  {
   "cell_type": "code",
   "execution_count": 325,
   "metadata": {
    "scrolled": true,
    "tags": []
   },
   "outputs": [],
   "source": [
    "drug_subset_index = train_index_set[train_index_set[:,1] == drug_index, :]"
   ]
  },
  {
   "cell_type": "code",
   "execution_count": 326,
   "metadata": {
    "tags": []
   },
   "outputs": [
    {
     "data": {
      "text/html": [
       "<div>\n",
       "<style scoped>\n",
       "    .dataframe tbody tr th:only-of-type {\n",
       "        vertical-align: middle;\n",
       "    }\n",
       "\n",
       "    .dataframe tbody tr th {\n",
       "        vertical-align: top;\n",
       "    }\n",
       "\n",
       "    .dataframe thead th {\n",
       "        text-align: right;\n",
       "    }\n",
       "</style>\n",
       "<table border=\"1\" class=\"dataframe\">\n",
       "  <thead>\n",
       "    <tr style=\"text-align: right;\">\n",
       "      <th></th>\n",
       "      <th>DrugID</th>\n",
       "      <th>SMILES</th>\n",
       "      <th>canSMILES</th>\n",
       "      <th>NAME</th>\n",
       "      <th>PUBCHEM_ID</th>\n",
       "      <th>CAS_ID</th>\n",
       "      <th>improve_chem_id</th>\n",
       "    </tr>\n",
       "  </thead>\n",
       "  <tbody>\n",
       "    <tr>\n",
       "      <th>647</th>\n",
       "      <td>GDSC.140</td>\n",
       "      <td>CCC1=CC2CC(C3=C(CN(C2)C1)C4=CC=CC=C4N3)(C5=C(C...</td>\n",
       "      <td>CCC1=CC2CN(C1)Cc1c([nH]c3ccccc13)C(C(=O)OC)(c1...</td>\n",
       "      <td>Vinorelbine</td>\n",
       "      <td>NaN</td>\n",
       "      <td>NaN</td>\n",
       "      <td>Drug_1538</td>\n",
       "    </tr>\n",
       "    <tr>\n",
       "      <th>794</th>\n",
       "      <td>GDSC.2048</td>\n",
       "      <td>CCC1=CC2CC(C3=C(CN(C2)C1)C4=CC=CC=C4N3)(C5=C(C...</td>\n",
       "      <td>CCC1=CC2CN(C1)Cc1c([nH]c3ccccc13)C(C(=O)OC)(c1...</td>\n",
       "      <td>Vinorelbine</td>\n",
       "      <td>NaN</td>\n",
       "      <td>NaN</td>\n",
       "      <td>Drug_1538</td>\n",
       "    </tr>\n",
       "  </tbody>\n",
       "</table>\n",
       "</div>"
      ],
      "text/plain": [
       "        DrugID                                             SMILES  \\\n",
       "647   GDSC.140  CCC1=CC2CC(C3=C(CN(C2)C1)C4=CC=CC=C4N3)(C5=C(C...   \n",
       "794  GDSC.2048  CCC1=CC2CC(C3=C(CN(C2)C1)C4=CC=CC=C4N3)(C5=C(C...   \n",
       "\n",
       "                                             canSMILES         NAME  \\\n",
       "647  CCC1=CC2CN(C1)Cc1c([nH]c3ccccc13)C(C(=O)OC)(c1...  Vinorelbine   \n",
       "794  CCC1=CC2CN(C1)Cc1c([nH]c3ccccc13)C(C(=O)OC)(c1...  Vinorelbine   \n",
       "\n",
       "     PUBCHEM_ID CAS_ID improve_chem_id  \n",
       "647         NaN    NaN       Drug_1538  \n",
       "794         NaN    NaN       Drug_1538  "
      ]
     },
     "execution_count": 326,
     "metadata": {},
     "output_type": "execute_result"
    }
   ],
   "source": [
    "drug_info_data[drug_info_data['improve_chem_id'] == chem_row_id_key[drug_subset_index[0,1].item()]]"
   ]
  },
  {
   "cell_type": "code",
   "execution_count": 327,
   "metadata": {
    "tags": []
   },
   "outputs": [
    {
     "data": {
      "text/plain": [
       "COREAD          104\n",
       "UNCLASSIFIED     82\n",
       "LUAD             38\n",
       "BRCA             32\n",
       "SCLC             25\n",
       "OV               22\n",
       "PAAD             21\n",
       "SKCM             18\n",
       "ESCA             16\n",
       "MM               12\n",
       "BLCA             12\n",
       "LAML             12\n",
       "GBM              11\n",
       "HNSC             10\n",
       "STAD             10\n",
       "ALL              10\n",
       "LCML             10\n",
       "LIHC              9\n",
       "DLBC              8\n",
       "LUSC              8\n",
       "KIRC              7\n",
       "NB                7\n",
       "LGG               5\n",
       "MESO              4\n",
       "UCEC              4\n",
       "THCA              3\n",
       "MB                3\n",
       "CLL               3\n",
       "PRAD              2\n",
       "Name:  TCGA Classfication, dtype: int64"
      ]
     },
     "execution_count": 327,
     "metadata": {},
     "output_type": "execute_result"
    }
   ],
   "source": [
    "gdsc_tcga_label.loc[drug_subset_index[:,0].numpy(),' TCGA Classfication'].value_counts()"
   ]
  },
  {
   "cell_type": "code",
   "execution_count": 328,
   "metadata": {
    "tags": []
   },
   "outputs": [],
   "source": [
    "gdsc_drug_subset = gdsc_tcga_label.loc[drug_subset_index[:,0].numpy(),]"
   ]
  },
  {
   "cell_type": "code",
   "execution_count": 329,
   "metadata": {
    "tags": []
   },
   "outputs": [
    {
     "data": {
      "text/html": [
       "<div>\n",
       "<style scoped>\n",
       "    .dataframe tbody tr th:only-of-type {\n",
       "        vertical-align: middle;\n",
       "    }\n",
       "\n",
       "    .dataframe tbody tr th {\n",
       "        vertical-align: top;\n",
       "    }\n",
       "\n",
       "    .dataframe thead th {\n",
       "        text-align: right;\n",
       "    }\n",
       "</style>\n",
       "<table border=\"1\" class=\"dataframe\">\n",
       "  <thead>\n",
       "    <tr style=\"text-align: right;\">\n",
       "      <th></th>\n",
       "      <th>ModelID</th>\n",
       "      <th>Model ID</th>\n",
       "    </tr>\n",
       "  </thead>\n",
       "  <tbody>\n",
       "    <tr>\n",
       "      <th>282</th>\n",
       "      <td>ACH-000210</td>\n",
       "      <td>SIDM00961</td>\n",
       "    </tr>\n",
       "    <tr>\n",
       "      <th>681</th>\n",
       "      <td>ACH-000662</td>\n",
       "      <td>SIDM00512</td>\n",
       "    </tr>\n",
       "    <tr>\n",
       "      <th>795</th>\n",
       "      <td>ACH-000786</td>\n",
       "      <td>SIDM00845</td>\n",
       "    </tr>\n",
       "    <tr>\n",
       "      <th>590</th>\n",
       "      <td>ACH-000560</td>\n",
       "      <td>SIDM00280</td>\n",
       "    </tr>\n",
       "    <tr>\n",
       "      <th>903</th>\n",
       "      <td>ACH-000906</td>\n",
       "      <td>SIDM00861</td>\n",
       "    </tr>\n",
       "    <tr>\n",
       "      <th>...</th>\n",
       "      <td>...</td>\n",
       "      <td>...</td>\n",
       "    </tr>\n",
       "    <tr>\n",
       "      <th>416</th>\n",
       "      <td>ACH-000364</td>\n",
       "      <td>SIDM01191</td>\n",
       "    </tr>\n",
       "    <tr>\n",
       "      <th>416</th>\n",
       "      <td>ACH-000364</td>\n",
       "      <td>SIDM01191</td>\n",
       "    </tr>\n",
       "    <tr>\n",
       "      <th>416</th>\n",
       "      <td>ACH-000364</td>\n",
       "      <td>SIDM01191</td>\n",
       "    </tr>\n",
       "    <tr>\n",
       "      <th>416</th>\n",
       "      <td>ACH-000364</td>\n",
       "      <td>SIDM01191</td>\n",
       "    </tr>\n",
       "    <tr>\n",
       "      <th>416</th>\n",
       "      <td>ACH-000364</td>\n",
       "      <td>SIDM01191</td>\n",
       "    </tr>\n",
       "  </tbody>\n",
       "</table>\n",
       "<p>82 rows × 2 columns</p>\n",
       "</div>"
      ],
      "text/plain": [
       "        ModelID   Model ID\n",
       "282  ACH-000210  SIDM00961\n",
       "681  ACH-000662  SIDM00512\n",
       "795  ACH-000786  SIDM00845\n",
       "590  ACH-000560  SIDM00280\n",
       "903  ACH-000906  SIDM00861\n",
       "..          ...        ...\n",
       "416  ACH-000364  SIDM01191\n",
       "416  ACH-000364  SIDM01191\n",
       "416  ACH-000364  SIDM01191\n",
       "416  ACH-000364  SIDM01191\n",
       "416  ACH-000364  SIDM01191\n",
       "\n",
       "[82 rows x 2 columns]"
      ]
     },
     "execution_count": 329,
     "metadata": {},
     "output_type": "execute_result"
    }
   ],
   "source": [
    "gdsc_drug_subset[gdsc_drug_subset[' TCGA Classfication'] == 'UNCLASSIFIED'][['ModelID', 'Model ID']]"
   ]
  },
  {
   "cell_type": "code",
   "execution_count": 330,
   "metadata": {
    "tags": []
   },
   "outputs": [],
   "source": [
    "uniqle_cell_id = gdsc_drug_subset[gdsc_drug_subset[' TCGA Classfication'] == 'UNCLASSIFIED']['ModelID'].unique()"
   ]
  },
  {
   "cell_type": "code",
   "execution_count": 331,
   "metadata": {
    "tags": []
   },
   "outputs": [
    {
     "data": {
      "text/plain": [
       "array(['ACH-000210', 'ACH-000662', 'ACH-000786', 'ACH-000560',\n",
       "       'ACH-000906', 'ACH-000913', 'ACH-000082', 'ACH-000096',\n",
       "       'ACH-000375', 'ACH-000162', 'ACH-000835', 'ACH-000624',\n",
       "       'ACH-000267', 'ACH-000061', 'ACH-000825', 'ACH-000613',\n",
       "       'ACH-000054', 'ACH-000976', 'ACH-000672', 'ACH-000815',\n",
       "       'ACH-001106', 'ACH-000607', 'ACH-000702', 'ACH-000754',\n",
       "       'ACH-000806', 'ACH-000627', 'ACH-000596', 'ACH-000438',\n",
       "       'ACH-000449', 'ACH-000359', 'ACH-000020', 'ACH-000351',\n",
       "       'ACH-000938', 'ACH-000944', 'ACH-000980', 'ACH-000434',\n",
       "       'ACH-000628', 'ACH-000853', 'ACH-000775', 'ACH-000789',\n",
       "       'ACH-000169', 'ACH-000960', 'ACH-000505', 'ACH-000965',\n",
       "       'ACH-000719', 'ACH-000654', 'ACH-000748', 'ACH-000087',\n",
       "       'ACH-000939', 'ACH-000338', 'ACH-000567', 'ACH-000226',\n",
       "       'ACH-000410', 'ACH-000430', 'ACH-000364'], dtype=object)"
      ]
     },
     "execution_count": 331,
     "metadata": {},
     "output_type": "execute_result"
    }
   ],
   "source": [
    "uniqle_cell_id"
   ]
  },
  {
   "cell_type": "code",
   "execution_count": 332,
   "metadata": {
    "tags": []
   },
   "outputs": [],
   "source": [
    "cell_index = [gdsc_row_key_id[key] for key in uniqle_cell_id]"
   ]
  },
  {
   "cell_type": "code",
   "execution_count": 333,
   "metadata": {
    "tags": []
   },
   "outputs": [
    {
     "data": {
      "text/plain": [
       "[282,\n",
       " 681,\n",
       " 795,\n",
       " 590,\n",
       " 903,\n",
       " 908,\n",
       " 176,\n",
       " 187,\n",
       " 427,\n",
       " 245,\n",
       " 839,\n",
       " 649,\n",
       " 332,\n",
       " 161,\n",
       " 829,\n",
       " 638,\n",
       " 154,\n",
       " 969,\n",
       " 691,\n",
       " 819,\n",
       " 993,\n",
       " 633,\n",
       " 720,\n",
       " 764,\n",
       " 812,\n",
       " 652,\n",
       " 624,\n",
       " 483,\n",
       " 494,\n",
       " 411,\n",
       " 126,\n",
       " 403,\n",
       " 932,\n",
       " 938,\n",
       " 972,\n",
       " 479,\n",
       " 653,\n",
       " 854,\n",
       " 784,\n",
       " 798,\n",
       " 250,\n",
       " 953,\n",
       " 542,\n",
       " 958,\n",
       " 735,\n",
       " 674,\n",
       " 758,\n",
       " 180,\n",
       " 933,\n",
       " 391,\n",
       " 595,\n",
       " 295,\n",
       " 459,\n",
       " 475,\n",
       " 416]"
      ]
     },
     "execution_count": 333,
     "metadata": {},
     "output_type": "execute_result"
    }
   ],
   "source": [
    "cell_index"
   ]
  },
  {
   "cell_type": "code",
   "execution_count": 334,
   "metadata": {
    "tags": []
   },
   "outputs": [],
   "source": [
    "cell_drug_pair_subset = train_index_set[np.isin(train_index_set[:,0], cell_index) & (train_index_set[:,1] == drug_index).numpy(), :]"
   ]
  },
  {
   "cell_type": "code",
   "execution_count": 335,
   "metadata": {
    "tags": []
   },
   "outputs": [],
   "source": [
    "sample_pair_size = cell_drug_pair_subset.shape[0]"
   ]
  },
  {
   "cell_type": "code",
   "execution_count": 336,
   "metadata": {
    "tags": []
   },
   "outputs": [
    {
     "data": {
      "text/plain": [
       "82"
      ]
     },
     "execution_count": 336,
     "metadata": {},
     "output_type": "execute_result"
    }
   ],
   "source": [
    "sample_pair_size"
   ]
  },
  {
   "cell_type": "code",
   "execution_count": 337,
   "metadata": {
    "tags": []
   },
   "outputs": [],
   "source": [
    "gdsc_sample = GDSCData(torch.cat([cell_drug_pair_subset,\n",
    "                                  response_gdcs2[:sample_pair_size * 2]]), \n",
    "                       gdsc_tensor, drug_tensor)\n",
    "\n",
    "sample_loader = DataLoader(gdsc_sample,\n",
    "                          batch_size=len(gdsc_sample), shuffle=False)\n",
    "\n",
    "(sample_data, sample_response) = next(iter(sample_loader))"
   ]
  },
  {
   "cell_type": "code",
   "execution_count": 19,
   "metadata": {},
   "outputs": [],
   "source": [
    "def GDSC_data_select(drug_name, cancer_type,\n",
    "                     gdsc, GDSC_cell_list, response_gdcs2, gene_express, drug_ecfp4_nbits512, drug_info_data):\n",
    "    gdsc_tcga_label = pd.merge(gdsc, GDSC_cell_list, how=\"left\", left_on=[\"SangerModelID\"], right_on=['Model ID'])\n",
    "    gdsc_tcga_label = gdsc_tcga_label.drop_duplicates(['Model ID', 'ModelID'])\n",
    "    gdsc_tcga_label.index = gdsc.index\n",
    "    \n",
    "    gdsc_row_key_id = {k: v for v, k in enumerate(gene_express.index)}\n",
    "    gdsc_row_id_key = {v: k for v, k in enumerate(gene_express.index)}\n",
    "\n",
    "    chem_row_key_id = {k: v for v, k in enumerate(drug_ecfp4_nbits512.index)}\n",
    "    chem_row_id_key = {v: k for v, k in enumerate(drug_ecfp4_nbits512.index)}\n",
    "    \n",
    "    train_index_set = response_gdcs2[torch.isin(response_gdcs2[:,0], train_gdcs_idx)].float()\n",
    "    test_index_set = response_gdcs2[torch.isin(response_gdcs2[:,0], test_gdcs_idx)].float()\n",
    "    \n",
    "    selected_key_list = gdsc_tcga_label[gdsc_tcga_label[' TCGA Classfication'] == 'OV']['ModelID'].to_list()\n",
    "    selected_ID_list = [gdsc_row_key_id[key] for key in selected_key_list]\n",
    "    \n",
    "    drug_subset_index = train_index_set[np.isin(train_index_set[:,0].numpy(), selected_ID_list), :]\n",
    "    drug_key_list = [chem_row_id_key[idx.item()] for idx in torch.unique(drug_subset_index[:,1])]\n",
    "    \n",
    "    drug_id_all, drug_counts_all = np.unique(train_index_set[:,1], return_counts = True)\n",
    "    drug_improve_id_list = [chem_row_id_key[idx] for idx in drug_id_all[np.argsort(-drug_counts_all)][:30]]\n",
    "\n",
    "    drug_improve_id = drug_info_data[drug_info_data['NAME'] == drug_name]['improve_chem_id'].iloc[0]\n",
    "    drug_index = chem_row_key_id[drug_improve_id]\n",
    "    drug_subset_index = train_index_set[train_index_set[:,1] == drug_index, :]\n",
    "    \n",
    "    gdsc_drug_subset = gdsc_tcga_label.loc[drug_subset_index[:,0].numpy(),]\n",
    "    \n",
    "    print(gdsc_tcga_label.loc[drug_subset_index[:,0].numpy(),' TCGA Classfication'].value_counts())\n",
    "    \n",
    "    uniqle_cell_id = gdsc_drug_subset[gdsc_drug_subset[' TCGA Classfication'] == cancer_type]['ModelID'].unique()\n",
    "    \n",
    "    cell_index = [gdsc_row_key_id[key] for key in uniqle_cell_id]\n",
    "    cell_drug_pair_subset = train_index_set[np.isin(train_index_set[:,0], cell_index) & (train_index_set[:,1] == drug_index).numpy(), :]\n",
    "    sample_pair_size = cell_drug_pair_subset.shape[0]\n",
    "    \n",
    "    gdsc_sample = GDSCData(torch.cat([cell_drug_pair_subset,\n",
    "                                  response_gdcs2[:sample_pair_size * 2]]), \n",
    "                       gdsc_tensor, drug_tensor)\n",
    "\n",
    "    sample_loader = DataLoader(gdsc_sample,\n",
    "                          batch_size=len(gdsc_sample), shuffle=False)\n",
    "\n",
    "    (sample_data, sample_response) = next(iter(sample_loader))\n",
    "    \n",
    "    return sample_data, sample_response"
   ]
  },
  {
   "cell_type": "markdown",
   "metadata": {},
   "source": [
    "## Plot"
   ]
  },
  {
   "cell_type": "code",
   "execution_count": 63,
   "metadata": {},
   "outputs": [],
   "source": [
    "drug_name = ['Vinblastine', 'Vincristine', 'Vinorelbine', 'Docetaxel', 'Epirubicin', 'Teniposide'][3]\n",
    "cancer_type = 'BRCA'"
   ]
  },
  {
   "cell_type": "code",
   "execution_count": 64,
   "metadata": {},
   "outputs": [
    {
     "name": "stdout",
     "output_type": "stream",
     "text": [
      "UNCLASSIFIED    232\n",
      "COREAD          195\n",
      "BRCA            155\n",
      "LUAD            109\n",
      "SCLC             79\n",
      "OV               56\n",
      "PAAD             56\n",
      "SKCM             55\n",
      "ESCA             53\n",
      "LAML             36\n",
      "GBM              33\n",
      "BLCA             31\n",
      "MM               31\n",
      "ALL              31\n",
      "HNSC             30\n",
      "STAD             30\n",
      "LCML             26\n",
      "LIHC             26\n",
      "DLBC             25\n",
      "LUSC             25\n",
      "NB               21\n",
      "KIRC             19\n",
      "LGG              15\n",
      "MESO             13\n",
      "UCEC             12\n",
      "THCA             10\n",
      "MB                9\n",
      "CLL               9\n",
      "PRAD              6\n",
      "Name:  TCGA Classfication, dtype: int64\n"
     ]
    }
   ],
   "source": [
    "torch.manual_seed(0)\n",
    "\n",
    "sample_data, sample_response = GDSC_data_select(drug_name, cancer_type,\n",
    "                                                gdsc, GDSC_cell_list, response_gdcs2, gene_express, drug_ecfp4_nbits512, drug_info_data)"
   ]
  },
  {
   "cell_type": "code",
   "execution_count": 65,
   "metadata": {
    "tags": []
   },
   "outputs": [
    {
     "data": {
      "text/plain": [
       "torch.Size([465, 3520])"
      ]
     },
     "execution_count": 65,
     "metadata": {},
     "output_type": "execute_result"
    }
   ],
   "source": [
    "sample_data.shape"
   ]
  },
  {
   "cell_type": "code",
   "execution_count": 66,
   "metadata": {
    "tags": []
   },
   "outputs": [
    {
     "name": "stderr",
     "output_type": "stream",
     "text": [
      "/homes/ac.tfeng/miniconda3/envs/general/lib/python3.9/site-packages/captum/attr/_core/layer/layer_integrated_gradients.py:101: UserWarning:\n",
      "\n",
      "Multiple layers provided. Please ensure that each layer is**not** solely dependent on the outputs ofanother layer. Please refer to the documentation for moredetail.\n",
      "\n",
      "/homes/ac.tfeng/miniconda3/envs/general/lib/python3.9/site-packages/torch/nn/functional.py:1967: UserWarning:\n",
      "\n",
      "nn.functional.sigmoid is deprecated. Use torch.sigmoid instead.\n",
      "\n",
      "Level1: 357it [00:00, 3602.69it/s]\n",
      "Level2: 183it [00:00, 2296.21it/s]\n",
      "Level3: 115it [00:00, 2102.90it/s]\n",
      "Level4: 66it [00:00, 2100.56it/s]\n",
      "Level5: 1it [00:00, 58.17it/s]\n"
     ]
    }
   ],
   "source": [
    "torch.manual_seed(0)\n",
    "\n",
    "sankey_value, sankey_source, sankey_target, \\\n",
    "        node_label_id, node_label, node_col, node_level\\\n",
    "                = prepare_node_edge(drugcell.to(DEVICE), sample_data.to(DEVICE))"
   ]
  },
  {
   "cell_type": "code",
   "execution_count": 67,
   "metadata": {
    "tags": []
   },
   "outputs": [
    {
     "data": {
      "text/plain": [
       "(3167, 465)"
      ]
     },
     "execution_count": 67,
     "metadata": {},
     "output_type": "execute_result"
    }
   ],
   "source": [
    "sankey_value.shape"
   ]
  },
  {
   "cell_type": "code",
   "execution_count": 72,
   "metadata": {
    "tags": []
   },
   "outputs": [
    {
     "name": "stderr",
     "output_type": "stream",
     "text": [
      "2024-05-17 13:43:19,575 - DEBUG - 4250719506.py:sankey_backward_trace - 180\n",
      "2024-05-17 13:43:19,576 - DEBUG - 4250719506.py:sankey_backward_trace - 45\n",
      "2024-05-17 13:43:19,577 - DEBUG - 4250719506.py:sankey_backward_trace - 12\n",
      "2024-05-17 13:43:19,578 - DEBUG - 4250719506.py:sankey_backward_trace - 4\n",
      "2024-05-17 13:43:19,578 - DEBUG - 4250719506.py:sankey_backward_trace - 0\n"
     ]
    }
   ],
   "source": [
    "torch.manual_seed(0)\n",
    "\n",
    "sankey_value_tracing_ov, sankey_source_tracing_ov, sankey_target_tracing_ov, back_tracing_level_tracing_ov, back_tracing_color_tracing_ov \\\n",
    "    = sankey_backward_trace(sankey_value[:, :].mean(axis=1, keepdims=True),  # sankey_value[:, :sample_pair_size].mean(axis=1, keepdims=True), \n",
    "                            sankey_source, sankey_target, \n",
    "                            node_label_id,\n",
    "                            sample_id=0, \n",
    "                            percent_keep = 0.15, min_num=20)"
   ]
  },
  {
   "cell_type": "code",
   "execution_count": 73,
   "metadata": {
    "tags": []
   },
   "outputs": [
    {
     "data": {
      "application/vnd.plotly.v1+json": {
       "config": {
        "plotlyServerURL": "https://plot.ly"
       },
       "data": [
        {
         "arrangement": "snap",
         "link": {
          "source": [
           0,
           1,
           2,
           3,
           4,
           5,
           6,
           7,
           8,
           9,
           10,
           11,
           12,
           13,
           14,
           15,
           16,
           17,
           18,
           19,
           20,
           21,
           22,
           23,
           24,
           25,
           26,
           27,
           28,
           29,
           30,
           31,
           32,
           33,
           34,
           35,
           36,
           37,
           38,
           39,
           40,
           41,
           42,
           43,
           44,
           45,
           46,
           47,
           48,
           49,
           50,
           51,
           52,
           53,
           54,
           55,
           56,
           57,
           58,
           59,
           60,
           61,
           62,
           63,
           64,
           65,
           58,
           66,
           67,
           68,
           69,
           70,
           71,
           69,
           72,
           73,
           74,
           75,
           76,
           77,
           78,
           79,
           80,
           81,
           82,
           83,
           84,
           85,
           86,
           87,
           88,
           89,
           90,
           91,
           92,
           93,
           94,
           95,
           96,
           97,
           98,
           99,
           61,
           100,
           101,
           83,
           102,
           103,
           104,
           105,
           106,
           107,
           108,
           109
          ],
          "target": [
           110,
           110,
           110,
           110,
           110,
           110,
           110,
           110,
           110,
           110,
           110,
           110,
           110,
           110,
           110,
           110,
           110,
           110,
           110,
           110,
           110,
           110,
           110,
           110,
           110,
           110,
           110,
           110,
           110,
           110,
           110,
           110,
           110,
           110,
           110,
           110,
           110,
           110,
           110,
           110,
           110,
           110,
           110,
           110,
           110,
           110,
           110,
           110,
           110,
           110,
           110,
           110,
           110,
           110,
           110,
           110,
           110,
           110,
           0,
           7,
           3,
           2,
           1,
           27,
           50,
           5,
           20,
           13,
           55,
           8,
           17,
           10,
           10,
           56,
           53,
           51,
           32,
           56,
           38,
           52,
           42,
           23,
           35,
           56,
           22,
           61,
           69,
           59,
           58,
           58,
           60,
           78,
           74,
           73,
           74,
           67,
           58,
           60,
           60,
           58,
           77,
           67,
           73,
           58,
           62,
           61,
           88,
           84,
           88,
           90,
           92,
           90,
           90,
           102
          ],
          "value": [
           0.00013108858934060086,
           0.00007042496193357404,
           0.00006496569955189125,
           0.000054857459272217527,
           0.00005093279578181504,
           0.00004855242838765909,
           0.000048387192192617726,
           0.00004826633490786741,
           0.000047661595049265934,
           0.000046891927474885754,
           0.00004478223425049423,
           0.000041944811528895736,
           0.00003836777074370651,
           0.000037886435857089904,
           0.00003724763754026013,
           0.00003324396705944789,
           0.00003231329808160234,
           0.00003224303781815285,
           0.000031884652399591986,
           0.000031501301486228075,
           0.00003146562292408579,
           0.000031170605484681024,
           0.000030468786850178875,
           0.000030360287590699526,
           0.000030100465664082665,
           0.00002947417679434706,
           0.000028899139877802872,
           0.000028723361225815745,
           0.000028658866116225997,
           0.000028340339440107695,
           0.000027454534004232816,
           0.000027365201653851308,
           0.000026705314929639485,
           0.0000262272465645524,
           0.000025891292698066624,
           0.000025169216542454085,
           0.000025017741345533486,
           0.000024883657689934047,
           0.000024115332119753732,
           0.000023474334405293288,
           0.000023397581266247903,
           0.00002255152518933866,
           0.000021529184143757595,
           0.0000203638372055482,
           0.00002033741183760364,
           0.00002000290276450733,
           0.000019734771820750115,
           0.00001960819525907378,
           0.000019530202686357303,
           0.00001947625892763864,
           0.00001944164056630718,
           0.000018645896511749385,
           0.00001827183839338191,
           0.000017767854654741422,
           0.000017476726204284986,
           0.00001738013652742489,
           0.000017288995917851593,
           0.000017085392686133268,
           0.00008833717895787875,
           0.000034260522221916054,
           0.000029154252596548088,
           0.000026256302804995004,
           0.000023451413716618502,
           0.000020718216463582248,
           0.000019560484480221816,
           0.000019187281610408435,
           0.000018036773379419436,
           0.00001781036720902354,
           0.000017072966423834566,
           0.000016479337016167387,
           0.000013865289015808346,
           0.000013395912801891925,
           0.000013281248510587168,
           0.000012559190126395525,
           0.000012522106011549518,
           0.000012468746010552212,
           0.000012021351415975374,
           0.000011547566296589365,
           0.000011487441032981413,
           0.00001117040077931029,
           0.000010470547500355897,
           0.000010438726488927868,
           0.00001000984754765114,
           0.000008996630568967789,
           0.000008801727508601416,
           0.000046755358158946866,
           0.000035120758033508274,
           0.000028470054155300385,
           0.000025441585465864305,
           0.00002505233571216847,
           0.000015853094575605613,
           0.00001315630034793716,
           0.000013028601223890854,
           0.000011982761227277915,
           0.000010479965937363574,
           0.000008649516112523661,
           0.000008449391280317774,
           0.000006816972889370901,
           0.000005977287807355189,
           0.000004372909947744531,
           0.00000309614874013147,
           0.0000028172102960076982,
           0.000002727771902123763,
           0.0000024835664961943054,
           0.0000015203391045513503,
           0.000046755358158946866,
           0.000013846949085843672,
           0.0000074700300651996725,
           0.0000013062940325473896,
           0.0000010680275856353948,
           0.0000010034545696377259,
           3.752150850982862e-7,
           1.9594245849791108e-7,
           0.00000894291155015283
          ]
         },
         "node": {
          "color": [
           "#EF553B",
           "#EF553B",
           "#EF553B",
           "#EF553B",
           "#EF553B",
           "#EF553B",
           "#EF553B",
           "#EF553B",
           "#EF553B",
           "#EF553B",
           "#EF553B",
           "#EF553B",
           "#EF553B",
           "#EF553B",
           "#EF553B",
           "#EF553B",
           "#EF553B",
           "#EF553B",
           "#EF553B",
           "#EF553B",
           "#EF553B",
           "#EF553B",
           "#EF553B",
           "#EF553B",
           "#EF553B",
           "#EF553B",
           "#EF553B",
           "#EF553B",
           "#EF553B",
           "#EF553B",
           "#EF553B",
           "#EF553B",
           "#EF553B",
           "#EF553B",
           "#EF553B",
           "#EF553B",
           "#EF553B",
           "#EF553B",
           "#EF553B",
           "#EF553B",
           "#EF553B",
           "#EF553B",
           "#EF553B",
           "#EF553B",
           "#EF553B",
           "#EF553B",
           "#EF553B",
           "#EF553B",
           "#EF553B",
           "#EF553B",
           "#EF553B",
           "#EF553B",
           "#EF553B",
           "#EF553B",
           "#EF553B",
           "#EF553B",
           "#EF553B",
           "#EF553B",
           "#00CC96",
           "#00CC96",
           "#00CC96",
           "#AB63FA",
           "#00CC96",
           "#00CC96",
           "#00CC96",
           "#00CC96",
           "#00CC96",
           "#00CC96",
           "#00CC96",
           "#00CC96",
           "#00CC96",
           "#00CC96",
           "#00CC96",
           "#00CC96",
           "#00CC96",
           "#00CC96",
           "#00CC96",
           "#00CC96",
           "#00CC96",
           "#00CC96",
           "#00CC96",
           "#00CC96",
           "#00CC96",
           "#FFA15A",
           "#AB63FA",
           "#AB63FA",
           "#AB63FA",
           "#AB63FA",
           "#AB63FA",
           "#AB63FA",
           "#AB63FA",
           "#AB63FA",
           "#AB63FA",
           "#AB63FA",
           "#AB63FA",
           "#AB63FA",
           "#AB63FA",
           "#AB63FA",
           "#AB63FA",
           "#AB63FA",
           "#AB63FA",
           "#AB63FA",
           "#FFA15A",
           "#FFA15A",
           "#FFA15A",
           "#FFA15A",
           "#FFA15A",
           "#FFA15A",
           "#FFA15A",
           "#19D3F3",
           "#636EFA"
          ],
          "customdata": [
           "circulatory system development",
           "response to other organism",
           "proteolysis",
           "negative regulation of protein metabolic process",
           "regulation of vesicle-mediated transport",
           "demethylation",
           "digestive system development",
           "macromolecule deacylation",
           "organophosphate metabolic process",
           "positive regulation of cellular biosynthetic process",
           "regulation of sequestering of calcium ion",
           "positive regulation of cell activation",
           "response to organophosphorus",
           "cellular component disassembly",
           "GO:0051181",
           "somatic diversification of immunoglobulins",
           "response to antibiotic",
           "import into cell",
           "response to xenobiotic stimulus",
           "triglyceride homeostasis",
           "animal organ development",
           "macroautophagy",
           "neurotransmitter transport",
           "response to ammonium ion",
           "cellular localization",
           "GO:0035637",
           "cellular response to organonitrogen compound",
           "cellular modified amino acid metabolic process",
           "hair cycle",
           "male gonad development",
           "aorta development",
           "meiosis I",
           "regulation of catabolic process",
           "response to estrogen",
           "T cell homeostasis",
           "response to xenobiotic stimulus",
           "regulation of G protein-coupled receptor signaling pathway",
           "regulation of cell maturation",
           "carbohydrate homeostasis",
           "ribosome biogenesis",
           "positive regulation of behavior",
           "amyloid-beta clearance",
           "appendage development",
           "negative regulation of reactive oxygen species biosynthetic process",
           "regulation of signal transduction by p53 class mediator",
           "negative regulation of lipid storage",
           "regulation of cellular localization",
           "collagen catabolic process",
           "regulation of ossification",
           "vitamin transport",
           "regulation of canonical Wnt signaling pathway",
           "cellular catabolic process",
           "response to topologically incorrect protein",
           "GO:0043900",
           "carbohydrate derivative metabolic process",
           "response to organic cyclic compound",
           "vesicle-mediated transport",
           "antigen processing and presentation of exogenous peptide antigen via MHC class II",
           "heart development",
           "protein deacylation",
           "negative regulation of protein modification process",
           "modification-dependent protein catabolic process",
           "defense response to other organism",
           "folic acid-containing compound metabolic process",
           "negative regulation of canonical Wnt signaling pathway",
           "protein demethylation",
           "extracellular matrix disassembly",
           "cellular response to organic cyclic compound",
           "organophosphate biosynthetic process",
           "endocytosis",
           "regulation of release of sequestered calcium ion into cytosol by sarcoplasmic reticulum",
           "release of sequestered calcium ion into cytosol",
           "GO:0043902",
           "GO:0044265",
           "regulation of cellular catabolic process",
           "endoplasmic reticulum to Golgi vesicle-mediated transport",
           "glucose homeostasis",
           "response to unfolded protein",
           "limb development",
           "response to cocaine",
           "cellular response to xenobiotic stimulus",
           "phagocytosis",
           "neurotransmitter secretion",
           "ubiquitin-dependent protein catabolic process",
           "receptor-mediated endocytosis",
           "protein deacetylation",
           "cardiac muscle cell development",
           "heart morphogenesis",
           "negative regulation of protein phosphorylation",
           "limb morphogenesis",
           "regulation of autophagy",
           "protein catabolic process",
           "positive regulation of cellular catabolic process",
           "cellular response to estradiol stimulus",
           "cardiac septum development",
           "negative regulation of protein ubiquitination",
           "negative regulation of phosphoprotein phosphatase activity",
           "cardiac atrium morphogenesis",
           "cellular response to unfolded protein",
           "cellular response to purine-containing compound",
           "aortic valve morphogenesis",
           "defense response to virus",
           "negative regulation of MAPK cascade",
           "receptor internalization",
           "negative regulation of peptidyl-tyrosine phosphorylation",
           "positive regulation of macroautophagy",
           "positive regulation of glycolytic process",
           "negative regulation of autophagy",
           "regulation of autophagy of mitochondrion",
           "negative regulation of ERK1 and ERK2 cascade",
           "biological_process"
          ],
          "hovertemplate": "%{label}: %{customdata}<extra></extra>",
          "label": [
           "GO:0072359",
           "GO:0051707",
           "GO:0006508",
           "GO:0032269",
           "GO:0060627",
           "GO:0070988",
           "GO:0055123",
           "GO:0098732",
           "GO:0019637",
           "GO:0031328",
           "GO:0051282",
           "GO:0050867",
           "GO:0046683",
           "GO:0022411",
           "GO:0051181",
           "GO:0016445",
           "GO:0046677",
           "GO:0098657",
           "GO:0042493",
           "GO:0070328",
           "GO:0048513",
           "GO:0016236",
           "GO:0006836",
           "GO:0060359",
           "GO:0051641",
           "GO:0035637",
           "GO:0071417",
           "GO:0006575",
           "GO:0042633",
           "GO:0008584",
           "GO:0035904",
           "GO:0007127",
           "GO:0009894",
           "GO:0043627",
           "GO:0043029",
           "GO:0009410",
           "GO:0008277",
           "GO:1903429",
           "GO:0033500",
           "GO:0042254",
           "GO:0048520",
           "GO:0097242",
           "GO:0048736",
           "GO:1903427",
           "GO:1901796",
           "GO:0010888",
           "GO:0060341",
           "GO:0030574",
           "GO:0030278",
           "GO:0051180",
           "GO:0060828",
           "GO:0044248",
           "GO:0035966",
           "GO:0043900",
           "GO:1901135",
           "GO:0014070",
           "GO:0016192",
           "GO:0019886",
           "GO:0007507",
           "GO:0035601",
           "GO:0031400",
           "GO:0019941",
           "GO:0098542",
           "GO:0006760",
           "GO:0090090",
           "GO:0006482",
           "GO:0022617",
           "GO:0071407",
           "GO:0090407",
           "GO:0006897",
           "GO:0010880",
           "GO:0051209",
           "GO:0043902",
           "GO:0044265",
           "GO:0031329",
           "GO:0006888",
           "GO:0042593",
           "GO:0006986",
           "GO:0060173",
           "GO:0042220",
           "GO:0071466",
           "GO:0006909",
           "GO:0007269",
           "GO:0006511",
           "GO:0006898",
           "GO:0006476",
           "GO:0055013",
           "GO:0003007",
           "GO:0001933",
           "GO:0035108",
           "GO:0010506",
           "GO:0044257",
           "GO:0031331",
           "GO:0071392",
           "GO:0003279",
           "GO:0031397",
           "GO:0032515",
           "GO:0003209",
           "GO:0034620",
           "GO:0071415",
           "GO:0003180",
           "GO:0051607",
           "GO:0043409",
           "GO:0031623",
           "GO:0050732",
           "GO:0016239",
           "GO:0045821",
           "GO:0010507",
           "GO:1903146",
           "GO:0070373",
           "GO:0008150"
          ],
          "pad": 15,
          "thickness": 20,
          "x": [
           0.6766666666666666,
           0.6766666666666666,
           0.6766666666666666,
           0.6766666666666666,
           0.6766666666666666,
           0.6766666666666666,
           0.6766666666666666,
           0.6766666666666666,
           0.6766666666666666,
           0.6766666666666666,
           0.6766666666666666,
           0.6766666666666666,
           0.6766666666666666,
           0.6766666666666666,
           0.6766666666666666,
           0.6766666666666666,
           0.6766666666666666,
           0.6766666666666666,
           0.6766666666666666,
           0.6766666666666666,
           0.6766666666666666,
           0.6766666666666666,
           0.6766666666666666,
           0.6766666666666666,
           0.6766666666666666,
           0.6766666666666666,
           0.6766666666666666,
           0.6766666666666666,
           0.6766666666666666,
           0.6766666666666666,
           0.6766666666666666,
           0.6766666666666666,
           0.6766666666666666,
           0.6766666666666666,
           0.6766666666666666,
           0.6766666666666666,
           0.6766666666666666,
           0.6766666666666666,
           0.6766666666666666,
           0.6766666666666666,
           0.6766666666666666,
           0.6766666666666666,
           0.6766666666666666,
           0.6766666666666666,
           0.6766666666666666,
           0.6766666666666666,
           0.6766666666666666,
           0.6766666666666666,
           0.6766666666666666,
           0.6766666666666666,
           0.6766666666666666,
           0.6766666666666666,
           0.6766666666666666,
           0.6766666666666666,
           0.6766666666666666,
           0.6766666666666666,
           0.6766666666666666,
           0.6766666666666666,
           0.51,
           0.51,
           0.51,
           0.3433333333333333,
           0.51,
           0.51,
           0.51,
           0.51,
           0.51,
           0.51,
           0.51,
           0.51,
           0.51,
           0.51,
           0.51,
           0.51,
           0.51,
           0.51,
           0.51,
           0.51,
           0.51,
           0.51,
           0.51,
           0.51,
           0.51,
           0.17666666666666667,
           0.3433333333333333,
           0.3433333333333333,
           0.3433333333333333,
           0.3433333333333333,
           0.3433333333333333,
           0.3433333333333333,
           0.3433333333333333,
           0.3433333333333333,
           0.3433333333333333,
           0.3433333333333333,
           0.3433333333333333,
           0.3433333333333333,
           0.3433333333333333,
           0.3433333333333333,
           0.3433333333333333,
           0.3433333333333333,
           0.3433333333333333,
           0.3433333333333333,
           0.17666666666666667,
           0.17666666666666667,
           0.17666666666666667,
           0.17666666666666667,
           0.17666666666666667,
           0.17666666666666667,
           0.17666666666666667,
           0.01,
           0.8433333333333334
          ],
          "y": [
           0.007241379310344827,
           0.024482758620689653,
           0.04172413793103448,
           0.05896551724137931,
           0.07620689655172415,
           0.09344827586206897,
           0.1106896551724138,
           0.1279310344827586,
           0.14517241379310344,
           0.16241379310344828,
           0.17965517241379308,
           0.19689655172413792,
           0.21413793103448275,
           0.2313793103448276,
           0.24862068965517242,
           0.26586206896551723,
           0.28310344827586204,
           0.3003448275862069,
           0.3175862068965517,
           0.33482758620689657,
           0.3520689655172414,
           0.3693103448275862,
           0.38655172413793104,
           0.40379310344827585,
           0.42103448275862065,
           0.4382758620689655,
           0.4555172413793103,
           0.4727586206896552,
           0.49,
           0.5072413793103449,
           0.5244827586206896,
           0.5417241379310345,
           0.5589655172413793,
           0.5762068965517241,
           0.5934482758620689,
           0.6106896551724138,
           0.6279310344827587,
           0.6451724137931034,
           0.6624137931034483,
           0.6796551724137931,
           0.6968965517241379,
           0.7141379310344828,
           0.7313793103448276,
           0.7486206896551724,
           0.7658620689655172,
           0.7831034482758621,
           0.8003448275862068,
           0.8175862068965517,
           0.8348275862068966,
           0.8520689655172413,
           0.8693103448275862,
           0.886551724137931,
           0.9037931034482759,
           0.9210344827586207,
           0.9382758620689655,
           0.9555172413793104,
           0.9727586206896551,
           0.99,
           0.03166666666666666,
           0.07333333333333333,
           0.115,
           0.042631578947368416,
           0.15666666666666665,
           0.19833333333333333,
           0.24,
           0.2816666666666667,
           0.3233333333333333,
           0.365,
           0.4066666666666667,
           0.4483333333333333,
           0.49,
           0.5316666666666666,
           0.5733333333333334,
           0.615,
           0.6566666666666666,
           0.6983333333333334,
           0.74,
           0.7816666666666666,
           0.8233333333333334,
           0.865,
           0.9066666666666666,
           0.9483333333333334,
           0.99,
           0.115,
           0.09526315789473684,
           0.14789473684210525,
           0.20052631578947366,
           0.2531578947368421,
           0.3057894736842105,
           0.3584210526315789,
           0.41105263157894734,
           0.46368421052631575,
           0.5163157894736842,
           0.5689473684210526,
           0.621578947368421,
           0.6742105263157895,
           0.7268421052631578,
           0.7794736842105263,
           0.8321052631578947,
           0.8847368421052632,
           0.9373684210526315,
           0.99,
           0.24,
           0.365,
           0.49,
           0.615,
           0.74,
           0.865,
           0.99,
           0.99,
           0.49
          ]
         },
         "type": "sankey"
        }
       ],
       "layout": {
        "font": {
         "size": 15
        },
        "hoverlabel": {
         "font": {
          "size": 15
         }
        },
        "template": {
         "data": {
          "bar": [
           {
            "error_x": {
             "color": "#2a3f5f"
            },
            "error_y": {
             "color": "#2a3f5f"
            },
            "marker": {
             "line": {
              "color": "#E5ECF6",
              "width": 0.5
             },
             "pattern": {
              "fillmode": "overlay",
              "size": 10,
              "solidity": 0.2
             }
            },
            "type": "bar"
           }
          ],
          "barpolar": [
           {
            "marker": {
             "line": {
              "color": "#E5ECF6",
              "width": 0.5
             },
             "pattern": {
              "fillmode": "overlay",
              "size": 10,
              "solidity": 0.2
             }
            },
            "type": "barpolar"
           }
          ],
          "carpet": [
           {
            "aaxis": {
             "endlinecolor": "#2a3f5f",
             "gridcolor": "white",
             "linecolor": "white",
             "minorgridcolor": "white",
             "startlinecolor": "#2a3f5f"
            },
            "baxis": {
             "endlinecolor": "#2a3f5f",
             "gridcolor": "white",
             "linecolor": "white",
             "minorgridcolor": "white",
             "startlinecolor": "#2a3f5f"
            },
            "type": "carpet"
           }
          ],
          "choropleth": [
           {
            "colorbar": {
             "outlinewidth": 0,
             "ticks": ""
            },
            "type": "choropleth"
           }
          ],
          "contour": [
           {
            "colorbar": {
             "outlinewidth": 0,
             "ticks": ""
            },
            "colorscale": [
             [
              0,
              "#0d0887"
             ],
             [
              0.1111111111111111,
              "#46039f"
             ],
             [
              0.2222222222222222,
              "#7201a8"
             ],
             [
              0.3333333333333333,
              "#9c179e"
             ],
             [
              0.4444444444444444,
              "#bd3786"
             ],
             [
              0.5555555555555556,
              "#d8576b"
             ],
             [
              0.6666666666666666,
              "#ed7953"
             ],
             [
              0.7777777777777778,
              "#fb9f3a"
             ],
             [
              0.8888888888888888,
              "#fdca26"
             ],
             [
              1,
              "#f0f921"
             ]
            ],
            "type": "contour"
           }
          ],
          "contourcarpet": [
           {
            "colorbar": {
             "outlinewidth": 0,
             "ticks": ""
            },
            "type": "contourcarpet"
           }
          ],
          "heatmap": [
           {
            "colorbar": {
             "outlinewidth": 0,
             "ticks": ""
            },
            "colorscale": [
             [
              0,
              "#0d0887"
             ],
             [
              0.1111111111111111,
              "#46039f"
             ],
             [
              0.2222222222222222,
              "#7201a8"
             ],
             [
              0.3333333333333333,
              "#9c179e"
             ],
             [
              0.4444444444444444,
              "#bd3786"
             ],
             [
              0.5555555555555556,
              "#d8576b"
             ],
             [
              0.6666666666666666,
              "#ed7953"
             ],
             [
              0.7777777777777778,
              "#fb9f3a"
             ],
             [
              0.8888888888888888,
              "#fdca26"
             ],
             [
              1,
              "#f0f921"
             ]
            ],
            "type": "heatmap"
           }
          ],
          "heatmapgl": [
           {
            "colorbar": {
             "outlinewidth": 0,
             "ticks": ""
            },
            "colorscale": [
             [
              0,
              "#0d0887"
             ],
             [
              0.1111111111111111,
              "#46039f"
             ],
             [
              0.2222222222222222,
              "#7201a8"
             ],
             [
              0.3333333333333333,
              "#9c179e"
             ],
             [
              0.4444444444444444,
              "#bd3786"
             ],
             [
              0.5555555555555556,
              "#d8576b"
             ],
             [
              0.6666666666666666,
              "#ed7953"
             ],
             [
              0.7777777777777778,
              "#fb9f3a"
             ],
             [
              0.8888888888888888,
              "#fdca26"
             ],
             [
              1,
              "#f0f921"
             ]
            ],
            "type": "heatmapgl"
           }
          ],
          "histogram": [
           {
            "marker": {
             "pattern": {
              "fillmode": "overlay",
              "size": 10,
              "solidity": 0.2
             }
            },
            "type": "histogram"
           }
          ],
          "histogram2d": [
           {
            "colorbar": {
             "outlinewidth": 0,
             "ticks": ""
            },
            "colorscale": [
             [
              0,
              "#0d0887"
             ],
             [
              0.1111111111111111,
              "#46039f"
             ],
             [
              0.2222222222222222,
              "#7201a8"
             ],
             [
              0.3333333333333333,
              "#9c179e"
             ],
             [
              0.4444444444444444,
              "#bd3786"
             ],
             [
              0.5555555555555556,
              "#d8576b"
             ],
             [
              0.6666666666666666,
              "#ed7953"
             ],
             [
              0.7777777777777778,
              "#fb9f3a"
             ],
             [
              0.8888888888888888,
              "#fdca26"
             ],
             [
              1,
              "#f0f921"
             ]
            ],
            "type": "histogram2d"
           }
          ],
          "histogram2dcontour": [
           {
            "colorbar": {
             "outlinewidth": 0,
             "ticks": ""
            },
            "colorscale": [
             [
              0,
              "#0d0887"
             ],
             [
              0.1111111111111111,
              "#46039f"
             ],
             [
              0.2222222222222222,
              "#7201a8"
             ],
             [
              0.3333333333333333,
              "#9c179e"
             ],
             [
              0.4444444444444444,
              "#bd3786"
             ],
             [
              0.5555555555555556,
              "#d8576b"
             ],
             [
              0.6666666666666666,
              "#ed7953"
             ],
             [
              0.7777777777777778,
              "#fb9f3a"
             ],
             [
              0.8888888888888888,
              "#fdca26"
             ],
             [
              1,
              "#f0f921"
             ]
            ],
            "type": "histogram2dcontour"
           }
          ],
          "mesh3d": [
           {
            "colorbar": {
             "outlinewidth": 0,
             "ticks": ""
            },
            "type": "mesh3d"
           }
          ],
          "parcoords": [
           {
            "line": {
             "colorbar": {
              "outlinewidth": 0,
              "ticks": ""
             }
            },
            "type": "parcoords"
           }
          ],
          "pie": [
           {
            "automargin": true,
            "type": "pie"
           }
          ],
          "scatter": [
           {
            "fillpattern": {
             "fillmode": "overlay",
             "size": 10,
             "solidity": 0.2
            },
            "type": "scatter"
           }
          ],
          "scatter3d": [
           {
            "line": {
             "colorbar": {
              "outlinewidth": 0,
              "ticks": ""
             }
            },
            "marker": {
             "colorbar": {
              "outlinewidth": 0,
              "ticks": ""
             }
            },
            "type": "scatter3d"
           }
          ],
          "scattercarpet": [
           {
            "marker": {
             "colorbar": {
              "outlinewidth": 0,
              "ticks": ""
             }
            },
            "type": "scattercarpet"
           }
          ],
          "scattergeo": [
           {
            "marker": {
             "colorbar": {
              "outlinewidth": 0,
              "ticks": ""
             }
            },
            "type": "scattergeo"
           }
          ],
          "scattergl": [
           {
            "marker": {
             "colorbar": {
              "outlinewidth": 0,
              "ticks": ""
             }
            },
            "type": "scattergl"
           }
          ],
          "scattermapbox": [
           {
            "marker": {
             "colorbar": {
              "outlinewidth": 0,
              "ticks": ""
             }
            },
            "type": "scattermapbox"
           }
          ],
          "scatterpolar": [
           {
            "marker": {
             "colorbar": {
              "outlinewidth": 0,
              "ticks": ""
             }
            },
            "type": "scatterpolar"
           }
          ],
          "scatterpolargl": [
           {
            "marker": {
             "colorbar": {
              "outlinewidth": 0,
              "ticks": ""
             }
            },
            "type": "scatterpolargl"
           }
          ],
          "scatterternary": [
           {
            "marker": {
             "colorbar": {
              "outlinewidth": 0,
              "ticks": ""
             }
            },
            "type": "scatterternary"
           }
          ],
          "surface": [
           {
            "colorbar": {
             "outlinewidth": 0,
             "ticks": ""
            },
            "colorscale": [
             [
              0,
              "#0d0887"
             ],
             [
              0.1111111111111111,
              "#46039f"
             ],
             [
              0.2222222222222222,
              "#7201a8"
             ],
             [
              0.3333333333333333,
              "#9c179e"
             ],
             [
              0.4444444444444444,
              "#bd3786"
             ],
             [
              0.5555555555555556,
              "#d8576b"
             ],
             [
              0.6666666666666666,
              "#ed7953"
             ],
             [
              0.7777777777777778,
              "#fb9f3a"
             ],
             [
              0.8888888888888888,
              "#fdca26"
             ],
             [
              1,
              "#f0f921"
             ]
            ],
            "type": "surface"
           }
          ],
          "table": [
           {
            "cells": {
             "fill": {
              "color": "#EBF0F8"
             },
             "line": {
              "color": "white"
             }
            },
            "header": {
             "fill": {
              "color": "#C8D4E3"
             },
             "line": {
              "color": "white"
             }
            },
            "type": "table"
           }
          ]
         },
         "layout": {
          "annotationdefaults": {
           "arrowcolor": "#2a3f5f",
           "arrowhead": 0,
           "arrowwidth": 1
          },
          "autotypenumbers": "strict",
          "coloraxis": {
           "colorbar": {
            "outlinewidth": 0,
            "ticks": ""
           }
          },
          "colorscale": {
           "diverging": [
            [
             0,
             "#8e0152"
            ],
            [
             0.1,
             "#c51b7d"
            ],
            [
             0.2,
             "#de77ae"
            ],
            [
             0.3,
             "#f1b6da"
            ],
            [
             0.4,
             "#fde0ef"
            ],
            [
             0.5,
             "#f7f7f7"
            ],
            [
             0.6,
             "#e6f5d0"
            ],
            [
             0.7,
             "#b8e186"
            ],
            [
             0.8,
             "#7fbc41"
            ],
            [
             0.9,
             "#4d9221"
            ],
            [
             1,
             "#276419"
            ]
           ],
           "sequential": [
            [
             0,
             "#0d0887"
            ],
            [
             0.1111111111111111,
             "#46039f"
            ],
            [
             0.2222222222222222,
             "#7201a8"
            ],
            [
             0.3333333333333333,
             "#9c179e"
            ],
            [
             0.4444444444444444,
             "#bd3786"
            ],
            [
             0.5555555555555556,
             "#d8576b"
            ],
            [
             0.6666666666666666,
             "#ed7953"
            ],
            [
             0.7777777777777778,
             "#fb9f3a"
            ],
            [
             0.8888888888888888,
             "#fdca26"
            ],
            [
             1,
             "#f0f921"
            ]
           ],
           "sequentialminus": [
            [
             0,
             "#0d0887"
            ],
            [
             0.1111111111111111,
             "#46039f"
            ],
            [
             0.2222222222222222,
             "#7201a8"
            ],
            [
             0.3333333333333333,
             "#9c179e"
            ],
            [
             0.4444444444444444,
             "#bd3786"
            ],
            [
             0.5555555555555556,
             "#d8576b"
            ],
            [
             0.6666666666666666,
             "#ed7953"
            ],
            [
             0.7777777777777778,
             "#fb9f3a"
            ],
            [
             0.8888888888888888,
             "#fdca26"
            ],
            [
             1,
             "#f0f921"
            ]
           ]
          },
          "colorway": [
           "#636efa",
           "#EF553B",
           "#00cc96",
           "#ab63fa",
           "#FFA15A",
           "#19d3f3",
           "#FF6692",
           "#B6E880",
           "#FF97FF",
           "#FECB52"
          ],
          "font": {
           "color": "#2a3f5f"
          },
          "geo": {
           "bgcolor": "white",
           "lakecolor": "white",
           "landcolor": "#E5ECF6",
           "showlakes": true,
           "showland": true,
           "subunitcolor": "white"
          },
          "hoverlabel": {
           "align": "left"
          },
          "hovermode": "closest",
          "mapbox": {
           "style": "light"
          },
          "paper_bgcolor": "white",
          "plot_bgcolor": "#E5ECF6",
          "polar": {
           "angularaxis": {
            "gridcolor": "white",
            "linecolor": "white",
            "ticks": ""
           },
           "bgcolor": "#E5ECF6",
           "radialaxis": {
            "gridcolor": "white",
            "linecolor": "white",
            "ticks": ""
           }
          },
          "scene": {
           "xaxis": {
            "backgroundcolor": "#E5ECF6",
            "gridcolor": "white",
            "gridwidth": 2,
            "linecolor": "white",
            "showbackground": true,
            "ticks": "",
            "zerolinecolor": "white"
           },
           "yaxis": {
            "backgroundcolor": "#E5ECF6",
            "gridcolor": "white",
            "gridwidth": 2,
            "linecolor": "white",
            "showbackground": true,
            "ticks": "",
            "zerolinecolor": "white"
           },
           "zaxis": {
            "backgroundcolor": "#E5ECF6",
            "gridcolor": "white",
            "gridwidth": 2,
            "linecolor": "white",
            "showbackground": true,
            "ticks": "",
            "zerolinecolor": "white"
           }
          },
          "shapedefaults": {
           "line": {
            "color": "#2a3f5f"
           }
          },
          "ternary": {
           "aaxis": {
            "gridcolor": "white",
            "linecolor": "white",
            "ticks": ""
           },
           "baxis": {
            "gridcolor": "white",
            "linecolor": "white",
            "ticks": ""
           },
           "bgcolor": "#E5ECF6",
           "caxis": {
            "gridcolor": "white",
            "linecolor": "white",
            "ticks": ""
           }
          },
          "title": {
           "x": 0.05
          },
          "xaxis": {
           "automargin": true,
           "gridcolor": "white",
           "linecolor": "white",
           "ticks": "",
           "title": {
            "standoff": 15
           },
           "zerolinecolor": "white",
           "zerolinewidth": 2
          },
          "yaxis": {
           "automargin": true,
           "gridcolor": "white",
           "linecolor": "white",
           "ticks": "",
           "title": {
            "standoff": 15
           },
           "zerolinecolor": "white",
           "zerolinewidth": 2
          }
         }
        }
       }
      }
     },
     "metadata": {},
     "output_type": "display_data"
    }
   ],
   "source": [
    "node, link = plot_sankey(sankey_value_tracing_ov, sankey_source_tracing_ov, sankey_target_tracing_ov,\n",
    "                node_label, back_tracing_color_tracing_ov, back_tracing_level_tracing_ov, positive_flow=True, go_dag=go_dag, \n",
    "                filename=f'html_files/Sankey_Tracing_{drug_name}_{cancer_type}',\n",
    "                       verbose = True)"
   ]
  },
  {
   "cell_type": "code",
   "execution_count": 369,
   "metadata": {
    "tags": []
   },
   "outputs": [
    {
     "data": {
      "text/plain": [
       "array([0., 1., 2., 3., 4., 5.])"
      ]
     },
     "execution_count": 369,
     "metadata": {},
     "output_type": "execute_result"
    }
   ],
   "source": [
    "np.unique(back_tracing_level_tracing_ov)"
   ]
  },
  {
   "cell_type": "markdown",
   "metadata": {},
   "source": [
    "## For drug specific"
   ]
  },
  {
   "cell_type": "code",
   "execution_count": 233,
   "metadata": {},
   "outputs": [],
   "source": [
    "drug_name = ['Vinblastine', 'Vincristine', 'Vinorelbine', 'Docetaxel', 'Epirubicin'][4]\n"
   ]
  },
  {
   "cell_type": "code",
   "execution_count": 234,
   "metadata": {
    "tags": []
   },
   "outputs": [],
   "source": [
    "drug_improve_id = drug_info_data[drug_info_data['NAME'] == drug_name]['improve_chem_id'].iloc[0]\n",
    "drug_index = chem_row_key_id[drug_improve_id]"
   ]
  },
  {
   "cell_type": "code",
   "execution_count": 235,
   "metadata": {
    "tags": []
   },
   "outputs": [
    {
     "data": {
      "text/plain": [
       "406"
      ]
     },
     "execution_count": 235,
     "metadata": {},
     "output_type": "execute_result"
    }
   ],
   "source": [
    "drug_index"
   ]
  },
  {
   "cell_type": "code",
   "execution_count": 236,
   "metadata": {
    "scrolled": true,
    "tags": []
   },
   "outputs": [],
   "source": [
    "drug_subset_index = train_index_set[train_index_set[:,1] == drug_index, :]"
   ]
  },
  {
   "cell_type": "code",
   "execution_count": 237,
   "metadata": {
    "tags": []
   },
   "outputs": [
    {
     "data": {
      "text/html": [
       "<div>\n",
       "<style scoped>\n",
       "    .dataframe tbody tr th:only-of-type {\n",
       "        vertical-align: middle;\n",
       "    }\n",
       "\n",
       "    .dataframe tbody tr th {\n",
       "        vertical-align: top;\n",
       "    }\n",
       "\n",
       "    .dataframe thead th {\n",
       "        text-align: right;\n",
       "    }\n",
       "</style>\n",
       "<table border=\"1\" class=\"dataframe\">\n",
       "  <thead>\n",
       "    <tr style=\"text-align: right;\">\n",
       "      <th></th>\n",
       "      <th>DrugID</th>\n",
       "      <th>SMILES</th>\n",
       "      <th>canSMILES</th>\n",
       "      <th>NAME</th>\n",
       "      <th>PUBCHEM_ID</th>\n",
       "      <th>CAS_ID</th>\n",
       "      <th>improve_chem_id</th>\n",
       "    </tr>\n",
       "  </thead>\n",
       "  <tbody>\n",
       "    <tr>\n",
       "      <th>657</th>\n",
       "      <td>GDSC.1511</td>\n",
       "      <td>CC1C(C(CC(O1)OC2CC(CC3=C2C(=C4C(=C3O)C(=O)C5=C...</td>\n",
       "      <td>COc1cccc2c1C(=O)c1c(O)c3c(c(O)c1C2=O)CC(O)(C(=...</td>\n",
       "      <td>Epirubicin</td>\n",
       "      <td>NaN</td>\n",
       "      <td>NaN</td>\n",
       "      <td>Drug_1363</td>\n",
       "    </tr>\n",
       "    <tr>\n",
       "      <th>980</th>\n",
       "      <td>NSC.123127</td>\n",
       "      <td>COc1cccc2C(=O)c3c(O)c4C[C@](O)(C[C@H](OC5CC(N)...</td>\n",
       "      <td>COc1cccc2c1C(=O)c1c(O)c3c(c(O)c1C2=O)C[C@@](O)...</td>\n",
       "      <td>Doxorubicin hydrochloride</td>\n",
       "      <td>NaN</td>\n",
       "      <td>25316-40-9</td>\n",
       "      <td>Drug_1363</td>\n",
       "    </tr>\n",
       "    <tr>\n",
       "      <th>1028</th>\n",
       "      <td>NSC.256942</td>\n",
       "      <td>COc1cccc2C(=O)c3c(O)c4C[C@](O)(C[C@H](OC5CC(N)...</td>\n",
       "      <td>COc1cccc2c1C(=O)c1c(O)c3c(c(O)c1C2=O)C[C@@](O)...</td>\n",
       "      <td>4'-Epiadriamycin</td>\n",
       "      <td>92764132.0</td>\n",
       "      <td>56390-09-1</td>\n",
       "      <td>Drug_1363</td>\n",
       "    </tr>\n",
       "  </tbody>\n",
       "</table>\n",
       "</div>"
      ],
      "text/plain": [
       "          DrugID                                             SMILES  \\\n",
       "657    GDSC.1511  CC1C(C(CC(O1)OC2CC(CC3=C2C(=C4C(=C3O)C(=O)C5=C...   \n",
       "980   NSC.123127  COc1cccc2C(=O)c3c(O)c4C[C@](O)(C[C@H](OC5CC(N)...   \n",
       "1028  NSC.256942  COc1cccc2C(=O)c3c(O)c4C[C@](O)(C[C@H](OC5CC(N)...   \n",
       "\n",
       "                                              canSMILES  \\\n",
       "657   COc1cccc2c1C(=O)c1c(O)c3c(c(O)c1C2=O)CC(O)(C(=...   \n",
       "980   COc1cccc2c1C(=O)c1c(O)c3c(c(O)c1C2=O)C[C@@](O)...   \n",
       "1028  COc1cccc2c1C(=O)c1c(O)c3c(c(O)c1C2=O)C[C@@](O)...   \n",
       "\n",
       "                           NAME  PUBCHEM_ID      CAS_ID improve_chem_id  \n",
       "657                  Epirubicin         NaN         NaN       Drug_1363  \n",
       "980   Doxorubicin hydrochloride         NaN  25316-40-9       Drug_1363  \n",
       "1028           4'-Epiadriamycin  92764132.0  56390-09-1       Drug_1363  "
      ]
     },
     "execution_count": 237,
     "metadata": {},
     "output_type": "execute_result"
    }
   ],
   "source": [
    "drug_info_data[drug_info_data['improve_chem_id'] == chem_row_id_key[drug_subset_index[0,1].item()]]"
   ]
  },
  {
   "cell_type": "code",
   "execution_count": 238,
   "metadata": {
    "tags": []
   },
   "outputs": [
    {
     "data": {
      "text/plain": [
       "UNCLASSIFIED    75\n",
       "COREAD          70\n",
       "BRCA            38\n",
       "LUAD            38\n",
       "SCLC            29\n",
       "PAAD            20\n",
       "SKCM            20\n",
       "ESCA            20\n",
       "OV              19\n",
       "LAML            13\n",
       "ALL             12\n",
       "STAD            11\n",
       "GBM             11\n",
       "BLCA            10\n",
       "HNSC            10\n",
       "LUSC             9\n",
       "NB               9\n",
       "MM               9\n",
       "DLBC             9\n",
       "LIHC             8\n",
       "KIRC             7\n",
       "LCML             7\n",
       "MESO             6\n",
       "LGG              5\n",
       "THCA             4\n",
       "CLL              4\n",
       "UCEC             4\n",
       "MB               3\n",
       "PRAD             2\n",
       "Name:  TCGA Classfication, dtype: int64"
      ]
     },
     "execution_count": 238,
     "metadata": {},
     "output_type": "execute_result"
    }
   ],
   "source": [
    "gdsc_tcga_label.loc[drug_subset_index[:,0].numpy(),' TCGA Classfication'].value_counts()"
   ]
  },
  {
   "cell_type": "code",
   "execution_count": 239,
   "metadata": {
    "tags": []
   },
   "outputs": [],
   "source": [
    "gdsc_drug_subset = gdsc_tcga_label.loc[drug_subset_index[:,0].numpy(),]"
   ]
  },
  {
   "cell_type": "code",
   "execution_count": 240,
   "metadata": {
    "tags": []
   },
   "outputs": [],
   "source": [
    "cell_drug_pair_subset = train_index_set[(train_index_set[:,1] == drug_index).numpy(), :]"
   ]
  },
  {
   "cell_type": "code",
   "execution_count": 241,
   "metadata": {
    "tags": []
   },
   "outputs": [],
   "source": [
    "sample_pair_size = cell_drug_pair_subset.shape[0]"
   ]
  },
  {
   "cell_type": "code",
   "execution_count": 242,
   "metadata": {
    "tags": []
   },
   "outputs": [
    {
     "data": {
      "text/plain": [
       "487"
      ]
     },
     "execution_count": 242,
     "metadata": {},
     "output_type": "execute_result"
    }
   ],
   "source": [
    "sample_pair_size"
   ]
  },
  {
   "cell_type": "code",
   "execution_count": 243,
   "metadata": {
    "tags": []
   },
   "outputs": [
    {
     "data": {
      "text/plain": [
       "COREAD          24\n",
       "BRCA            21\n",
       "UNCLASSIFIED    13\n",
       "SCLC             9\n",
       "LUAD             7\n",
       "SKCM             4\n",
       "OV               4\n",
       "GBM              4\n",
       "HNSC             4\n",
       "LUSC             4\n",
       "LGG              3\n",
       "PAAD             2\n",
       "THCA             2\n",
       "DLBC             2\n",
       "ESCA             2\n",
       "UCEC             2\n",
       "LCML             2\n",
       "MB               2\n",
       "KIRC             1\n",
       "BLCA             1\n",
       "NB               1\n",
       "ALL              1\n",
       "MM               1\n",
       "STAD             1\n",
       "LAML             1\n",
       "Name:  TCGA Classfication, dtype: int64"
      ]
     },
     "execution_count": 243,
     "metadata": {},
     "output_type": "execute_result"
    }
   ],
   "source": [
    "gdsc_tcga_label.loc[cell_drug_pair_subset[:120,0].numpy(),' TCGA Classfication'].value_counts()"
   ]
  },
  {
   "cell_type": "code",
   "execution_count": 244,
   "metadata": {
    "tags": []
   },
   "outputs": [],
   "source": [
    "gdsc_sample = GDSCData(torch.cat([cell_drug_pair_subset[:120],\n",
    "                                  response_gdcs2[:120]]), \n",
    "                       gdsc_tensor, drug_tensor)\n",
    "\n",
    "sample_loader = DataLoader(gdsc_sample,\n",
    "                          batch_size=len(gdsc_sample), shuffle=False)\n",
    "\n",
    "(sample_data, sample_response) = next(iter(sample_loader))"
   ]
  },
  {
   "cell_type": "markdown",
   "metadata": {},
   "source": [
    "### Plot"
   ]
  },
  {
   "cell_type": "code",
   "execution_count": 245,
   "metadata": {
    "tags": []
   },
   "outputs": [
    {
     "data": {
      "text/plain": [
       "torch.Size([240, 3520])"
      ]
     },
     "execution_count": 245,
     "metadata": {},
     "output_type": "execute_result"
    }
   ],
   "source": [
    "sample_data.shape"
   ]
  },
  {
   "cell_type": "code",
   "execution_count": 246,
   "metadata": {
    "tags": []
   },
   "outputs": [
    {
     "name": "stderr",
     "output_type": "stream",
     "text": [
      "/homes/ac.tfeng/miniconda3/envs/general/lib/python3.9/site-packages/captum/attr/_core/layer/layer_integrated_gradients.py:101: UserWarning:\n",
      "\n",
      "Multiple layers provided. Please ensure that each layer is**not** solely dependent on the outputs ofanother layer. Please refer to the documentation for moredetail.\n",
      "\n",
      "/homes/ac.tfeng/miniconda3/envs/general/lib/python3.9/site-packages/torch/nn/functional.py:1967: UserWarning:\n",
      "\n",
      "nn.functional.sigmoid is deprecated. Use torch.sigmoid instead.\n",
      "\n",
      "Level1: 357it [00:00, 8430.74it/s]\n",
      "Level2: 183it [00:00, 5482.05it/s]\n",
      "Level3: 115it [00:00, 4247.00it/s]\n",
      "Level4: 66it [00:00, 3236.76it/s]\n",
      "Level5: 1it [00:00, 91.74it/s]\n"
     ]
    }
   ],
   "source": [
    "torch.manual_seed(0)\n",
    "\n",
    "sankey_value, sankey_source, sankey_target, \\\n",
    "        node_label_id, node_label, node_col, node_level\\\n",
    "                = prepare_node_edge(drugcell.to(DEVICE), sample_data.to(DEVICE))"
   ]
  },
  {
   "cell_type": "code",
   "execution_count": 247,
   "metadata": {
    "tags": []
   },
   "outputs": [
    {
     "data": {
      "text/plain": [
       "487"
      ]
     },
     "execution_count": 247,
     "metadata": {},
     "output_type": "execute_result"
    }
   ],
   "source": [
    "sample_pair_size"
   ]
  },
  {
   "cell_type": "code",
   "execution_count": 248,
   "metadata": {
    "tags": []
   },
   "outputs": [
    {
     "data": {
      "text/plain": [
       "(3167, 240)"
      ]
     },
     "execution_count": 248,
     "metadata": {},
     "output_type": "execute_result"
    }
   ],
   "source": [
    "sankey_value.shape"
   ]
  },
  {
   "cell_type": "code",
   "execution_count": 249,
   "metadata": {
    "tags": []
   },
   "outputs": [],
   "source": [
    "sankey_value_tracing_ov, sankey_source_tracing_ov, sankey_target_tracing_ov, back_tracing_level_tracing_ov, back_tracing_color_tracing_ov \\\n",
    "    = sankey_backward_trace(sankey_value[:, :120].mean(axis=1, keepdims=True),  # sankey_value[:, :sample_pair_size].mean(axis=1, keepdims=True), \n",
    "                            sankey_source, sankey_target, \n",
    "                            node_label_id,\n",
    "                            sample_id=0, \n",
    "                            percent_keep = 0.1, min_num=40)"
   ]
  },
  {
   "cell_type": "code",
   "execution_count": 250,
   "metadata": {
    "tags": []
   },
   "outputs": [
    {
     "data": {
      "application/vnd.plotly.v1+json": {
       "config": {
        "plotlyServerURL": "https://plot.ly"
       },
       "data": [
        {
         "arrangement": "snap",
         "link": {
          "source": [
           0,
           1,
           2,
           3,
           4,
           5,
           6,
           7,
           8,
           9,
           10,
           11,
           12,
           13,
           14,
           15,
           16,
           17,
           18,
           19,
           20,
           21,
           22,
           23,
           24,
           25,
           26,
           27,
           28,
           29,
           30,
           31,
           32,
           33,
           34,
           35,
           36,
           37,
           38,
           39,
           40,
           41,
           42,
           43,
           44,
           45,
           46,
           47,
           48,
           49,
           44,
           50,
           51,
           52,
           53,
           54,
           55,
           56,
           57,
           58,
           59,
           60,
           61,
           62,
           63,
           64,
           65,
           66,
           67,
           68,
           69,
           70,
           71,
           72,
           73,
           74,
           75,
           76,
           77,
           78,
           79,
           80,
           81,
           82,
           83,
           43,
           84,
           85,
           86,
           87,
           88,
           89,
           90,
           91,
           92,
           93,
           94,
           95,
           96,
           97,
           98,
           99,
           100,
           101,
           102,
           103,
           104,
           105,
           106,
           107,
           108,
           106,
           109,
           110,
           111,
           112,
           113,
           114,
           115,
           116,
           117,
           118,
           89,
           119,
           120,
           121,
           122,
           123,
           124,
           125,
           126,
           127,
           128,
           129,
           130,
           131,
           132,
           133,
           134,
           95,
           135,
           110,
           136,
           137,
           119
          ],
          "target": [
           138,
           138,
           138,
           138,
           138,
           138,
           138,
           138,
           138,
           138,
           138,
           138,
           138,
           138,
           138,
           138,
           138,
           138,
           138,
           138,
           138,
           138,
           138,
           138,
           138,
           138,
           138,
           138,
           138,
           138,
           138,
           138,
           138,
           138,
           138,
           138,
           138,
           138,
           138,
           138,
           5,
           25,
           23,
           7,
           0,
           17,
           12,
           25,
           11,
           25,
           1,
           3,
           28,
           16,
           6,
           22,
           21,
           0,
           2,
           9,
           36,
           16,
           16,
           4,
           8,
           19,
           14,
           8,
           9,
           18,
           9,
           5,
           28,
           7,
           23,
           16,
           6,
           9,
           1,
           14,
           51,
           42,
           42,
           69,
           62,
           72,
           44,
           46,
           59,
           69,
           53,
           46,
           78,
           72,
           52,
           53,
           42,
           42,
           42,
           55,
           69,
           59,
           78,
           60,
           77,
           63,
           42,
           60,
           47,
           60,
           67,
           41,
           65,
           53,
           72,
           52,
           53,
           53,
           42,
           55,
           103,
           83,
           85,
           89,
           87,
           79,
           101,
           101,
           107,
           86,
           90,
           83,
           97,
           81,
           80,
           81,
           116,
           80,
           97,
           80,
           80,
           114,
           114,
           118,
           89
          ],
          "value": [
           0.00007985380362507412,
           0.00007886289926310805,
           0.00005545996210378467,
           0.0000514112377218495,
           0.000048571784771751624,
           0.000046673519776833606,
           0.000043603032724229985,
           0.00004150866146854797,
           0.000041049781290519896,
           0.00003575706426844312,
           0.000035210090380738826,
           0.00003471968838282272,
           0.000034102588078399454,
           0.00003319495211716961,
           0.0000315669067674351,
           0.000031026896611503715,
           0.00003053090936344295,
           0.000030016024936112266,
           0.000029635800452088465,
           0.000026575751321000587,
           0.00002598597609278848,
           0.00002320021037915922,
           0.000021589883787762255,
           0.000021031732534562396,
           0.000020916553505998855,
           0.000020578192321501666,
           0.000020550323487101253,
           0.000020378738116091963,
           0.00002035875099583929,
           0.00002008566432559878,
           0.000019852526765148203,
           0.00001969545803791892,
           0.00001919664849100739,
           0.00001912858030056952,
           0.000018804753298236758,
           0.00001870072016171459,
           0.000018558404695661298,
           0.000018293918669872337,
           0.000017937219155384007,
           0.000017465637452600555,
           0.000025787768976948665,
           0.000021428687801173423,
           0.0000205328389656703,
           0.000014918185767174592,
           0.000014895201333578228,
           0.000014712546445750446,
           0.000013590886845013723,
           0.000012351721219985449,
           0.000011999997494719742,
           0.0000103212542836308,
           0.000010003181929205622,
           0.000009799118475898145,
           0.00000942319906577407,
           0.000008706936703725257,
           0.000008688997807657438,
           0.000008648966793258747,
           0.000008243253168336305,
           0.000008045071256984273,
           0.000007567536175467907,
           0.000006717231142071846,
           0.000006287345591200886,
           0.000006259257606651772,
           0.000006253648909538293,
           0.000005272107877856532,
           0.000005157582685759295,
           0.000005010709976573773,
           0.000004743494605502242,
           0.0000043060023284241135,
           0.000004175320993068888,
           0.000003722694693931608,
           0.000003597372098381913,
           0.0000035814926312170018,
           0.000003384430171096361,
           0.0000032710778122371996,
           0.000002948990318705561,
           0.0000028456389427130107,
           0.0000027787990386725006,
           0.0000027278611376415518,
           0.0000026578281345167638,
           0.0000025489479534733703,
           0.000017573245580699828,
           0.00001664723487663578,
           0.00001443482622482126,
           0.000010699485813500628,
           0.00000946390022831231,
           0.00000873348578857681,
           0.000008729391445113783,
           0.000008334688954458852,
           0.0000056686212596158035,
           0.0000056004718156438475,
           0.000005498702473672273,
           0.000005428190889950215,
           0.000005339926036175539,
           0.000004358387877195002,
           0.0000041657269543136156,
           0.0000039562604623691154,
           0.0000037160425052335905,
           0.00000368657649942229,
           0.0000034473983348212098,
           0.0000029623161642980613,
           0.0000028150677008331146,
           0.000002655931833716609,
           0.00000258696186917746,
           0.0000024801948720120728,
           0.000002240068255207405,
           0.000002161555889682972,
           0.0000021002607089997473,
           0.0000020704315411462136,
           0.0000013251855568542725,
           0.000001315109676242561,
           0.000001300263958237612,
           0.0000012112684248337516,
           0.0000010903169377031349,
           9.590293690712382e-7,
           8.930512414950428e-7,
           7.579929117383872e-7,
           7.002096176846833e-7,
           5.900799712729464e-7,
           5.697579732624614e-7,
           4.985262658604477e-7,
           0.00000868055555645628,
           0.000007772863226948196,
           0.000002826499065910913,
           0.000002777000959184058,
           0.000002776882350720566,
           0.0000021305648266019724,
           0.0000021301241077196943,
           0.000002115778013356013,
           0.0000020784662890919536,
           0.000001991783596786128,
           0.000001397928211236518,
           0.0000013617649841260756,
           0.0000011724927879429376,
           0.0000010381492575460105,
           7.591255742505222e-7,
           6.045022264800565e-7,
           5.924530904921053e-7,
           5.70228982029568e-7,
           4.166162990888184e-7,
           3.561328139417761e-7,
           2.1014620015331941e-7,
           2.0555343573853084e-7,
           1.080333137953528e-7,
           0.000004767991797008704,
           0.000002777000959184058
          ]
         },
         "node": {
          "color": [
           "#EF553B",
           "#EF553B",
           "#EF553B",
           "#EF553B",
           "#EF553B",
           "#EF553B",
           "#EF553B",
           "#EF553B",
           "#EF553B",
           "#EF553B",
           "#EF553B",
           "#EF553B",
           "#EF553B",
           "#EF553B",
           "#EF553B",
           "#EF553B",
           "#EF553B",
           "#EF553B",
           "#EF553B",
           "#EF553B",
           "#EF553B",
           "#EF553B",
           "#EF553B",
           "#EF553B",
           "#EF553B",
           "#EF553B",
           "#EF553B",
           "#EF553B",
           "#EF553B",
           "#EF553B",
           "#EF553B",
           "#EF553B",
           "#EF553B",
           "#EF553B",
           "#EF553B",
           "#EF553B",
           "#EF553B",
           "#EF553B",
           "#EF553B",
           "#EF553B",
           "#00CC96",
           "#00CC96",
           "#00CC96",
           "#AB63FA",
           "#00CC96",
           "#00CC96",
           "#00CC96",
           "#00CC96",
           "#00CC96",
           "#00CC96",
           "#00CC96",
           "#00CC96",
           "#00CC96",
           "#00CC96",
           "#00CC96",
           "#00CC96",
           "#00CC96",
           "#00CC96",
           "#00CC96",
           "#00CC96",
           "#00CC96",
           "#00CC96",
           "#00CC96",
           "#00CC96",
           "#00CC96",
           "#00CC96",
           "#00CC96",
           "#00CC96",
           "#00CC96",
           "#00CC96",
           "#00CC96",
           "#00CC96",
           "#00CC96",
           "#00CC96",
           "#00CC96",
           "#00CC96",
           "#00CC96",
           "#00CC96",
           "#00CC96",
           "#AB63FA",
           "#AB63FA",
           "#AB63FA",
           "#AB63FA",
           "#AB63FA",
           "#AB63FA",
           "#AB63FA",
           "#AB63FA",
           "#AB63FA",
           "#AB63FA",
           "#FFA15A",
           "#AB63FA",
           "#AB63FA",
           "#AB63FA",
           "#AB63FA",
           "#AB63FA",
           "#FFA15A",
           "#AB63FA",
           "#AB63FA",
           "#AB63FA",
           "#AB63FA",
           "#AB63FA",
           "#AB63FA",
           "#AB63FA",
           "#AB63FA",
           "#AB63FA",
           "#AB63FA",
           "#AB63FA",
           "#AB63FA",
           "#AB63FA",
           "#AB63FA",
           "#FFA15A",
           "#AB63FA",
           "#AB63FA",
           "#AB63FA",
           "#AB63FA",
           "#AB63FA",
           "#AB63FA",
           "#FFA15A",
           "#FFA15A",
           "#19D3F3",
           "#FFA15A",
           "#FFA15A",
           "#FFA15A",
           "#FFA15A",
           "#FFA15A",
           "#FFA15A",
           "#FFA15A",
           "#FFA15A",
           "#FFA15A",
           "#FFA15A",
           "#FFA15A",
           "#FFA15A",
           "#FFA15A",
           "#FFA15A",
           "#FFA15A",
           "#FFA15A",
           "#FFA15A",
           "#19D3F3",
           "#636EFA"
          ],
          "customdata": [
           "regulation of protein transport",
           "regulation of secretion by cell",
           "regulation of proteolysis",
           "regulation of sequestering of calcium ion",
           "intracellular chemical homeostasis",
           "response to alcohol",
           "organophosphate metabolic process",
           "regulation of lipid metabolic process",
           "positive regulation of transport",
           "regulation of cellular component organization",
           "hippocampus development",
           "regulation of hormone levels",
           "response to peptide",
           "carbohydrate homeostasis",
           "regulation of anatomical structure morphogenesis",
           "cellular component disassembly",
           "organic substance biosynthetic process",
           "response to hexose",
           "regulation of reactive oxygen species metabolic process",
           "regulation of generation of precursor metabolites and energy",
           "positive regulation of peptidyl-serine phosphorylation",
           "secretion",
           "demethylation",
           "negative regulation of signaling",
           "mammary gland alveolus development",
           "GO:0043900",
           "regulation of cell adhesion",
           "regulation of lipid localization",
           "small molecule catabolic process",
           "regulation of actin filament-based process",
           "tissue remodeling",
           "GO:0051181",
           "negative regulation of developmental process",
           "regulation of catabolic process",
           "alpha-amino acid metabolic process",
           "cellular localization",
           "muscle structure development",
           "macroautophagy",
           "response to antibiotic",
           "regulation of neurogenesis",
           "cellular response to alcohol",
           "GO:0043902",
           "negative regulation of signal transduction",
           "negative regulation of lipid biosynthetic process",
           "regulation of protein secretion",
           "cellular response to glucose stimulus",
           "response to peptide hormone",
           "regulation of biological process involved in symbiotic interaction",
           "hormone transport",
           "regulation of innate immune response",
           "release of sequestered calcium ion into cytosol",
           "carboxylic acid catabolic process",
           "GO:0034645",
           "nucleotide metabolic process",
           "protein demethylation",
           "secretion by cell",
           "negative regulation of protein transport",
           "positive regulation of proteolysis",
           "negative regulation of cell projection organization",
           "muscle organ development",
           "lipid biosynthetic process",
           "organic hydroxy compound biosynthetic process",
           "intracellular monoatomic ion homeostasis",
           "positive regulation of protein transport",
           "positive regulation of glycolytic process",
           "regulation of morphogenesis of an epithelium",
           "positive regulation of transporter activity",
           "regulation of organelle organization",
           "positive regulation of reactive oxygen species metabolic process",
           "regulation of cell growth",
           "response to cholesterol",
           "alcohol catabolic process",
           "regulation of lipid biosynthetic process",
           "negative regulation of hormone secretion",
           "fatty-acyl-CoA biosynthetic process",
           "inositol phosphate metabolic process",
           "negative regulation of supramolecular fiber organization",
           "regulation of exocytosis",
           "regulation of angiogenesis",
           "amino acid catabolic process",
           "negative regulation of apoptotic signaling pathway",
           "negative regulation of intracellular signal transduction",
           "negative regulation of cell growth",
           "intracellular calcium ion homeostasis",
           "negative regulation of insulin secretion",
           "cellular response to peptide hormone stimulus",
           "muscle organ morphogenesis",
           "positive regulation of cell growth",
           "ribonucleotide biosynthetic process",
           "cellular response to insulin stimulus",
           "positive regulation of angiogenesis",
           "regulation of fatty acid biosynthetic process",
           "DNA-templated DNA replication",
           "purine nucleotide biosynthetic process",
           "negative regulation of Notch signaling pathway",
           "negative regulation of extrinsic apoptotic signaling pathway in absence of ligand",
           "negative regulation of insulin receptor signaling pathway",
           "regulated exocytosis",
           "regulation of extent of cell growth",
           "skeletal muscle tissue development",
           "negative regulation of angiogenesis",
           "glycerophospholipid biosynthetic process",
           "regulation of synaptic vesicle exocytosis",
           "positive regulation of protein secretion",
           "negative regulation of BMP signaling pathway",
           "membrane lipid biosynthetic process",
           "positive regulation of viral genome replication",
           "steroid biosynthetic process",
           "negative regulation of mitochondrion organization",
           "positive regulation of morphogenesis of an epithelium",
           "cAMP metabolic process",
           "positive regulation of steroid biosynthetic process",
           "GO:0033692",
           "pyrimidine nucleotide biosynthetic process",
           "purine ribonucleotide metabolic process",
           "negative regulation of toll-like receptor signaling pathway",
           "signal release",
           "positive regulation of cytokine production",
           "positive regulation of cytosolic calcium ion concentration",
           "insulin receptor signaling pathway",
           "positive regulation of axon extension",
           "aromatic amino acid family catabolic process",
           "phosphatidylinositol biosynthetic process",
           "phosphatidylcholine biosynthetic process",
           "cholesterol biosynthetic process",
           "muscle tissue morphogenesis",
           "positive regulation of cell migration involved in sprouting angiogenesis",
           "endoplasmic reticulum calcium ion homeostasis",
           "platelet degranulation",
           "negative regulation of MAPK cascade",
           "negative regulation of extrinsic apoptotic signaling pathway via death domain receptors",
           "negative regulation of stress-activated protein kinase signaling cascade",
           "hormone secretion",
           "negative regulation of intrinsic apoptotic signaling pathway in response to DNA damage",
           "mast cell degranulation",
           "negative regulation of intrinsic apoptotic signaling pathway by p53 class mediator",
           "purine ribonucleotide catabolic process",
           "calcium ion transport into cytosol",
           "biological_process"
          ],
          "hovertemplate": "%{label}: %{customdata}<extra></extra>",
          "label": [
           "GO:0051223",
           "GO:1903530",
           "GO:0030162",
           "GO:0051282",
           "GO:0055082",
           "GO:0097305",
           "GO:0019637",
           "GO:0019216",
           "GO:0051050",
           "GO:0051128",
           "GO:0021766",
           "GO:0010817",
           "GO:1901652",
           "GO:0033500",
           "GO:0022603",
           "GO:0022411",
           "GO:1901576",
           "GO:0009746",
           "GO:2000377",
           "GO:0043467",
           "GO:0033138",
           "GO:0046903",
           "GO:0070988",
           "GO:0023057",
           "GO:0060749",
           "GO:0043900",
           "GO:0030155",
           "GO:1905952",
           "GO:0044282",
           "GO:0032970",
           "GO:0048771",
           "GO:0051181",
           "GO:0051093",
           "GO:0009894",
           "GO:1901605",
           "GO:0051641",
           "GO:0061061",
           "GO:0016236",
           "GO:0046677",
           "GO:0050767",
           "GO:0097306",
           "GO:0043902",
           "GO:0009968",
           "GO:0051055",
           "GO:0050708",
           "GO:0071333",
           "GO:0043434",
           "GO:0043903",
           "GO:0009914",
           "GO:0045088",
           "GO:0051209",
           "GO:0046395",
           "GO:0034645",
           "GO:0009117",
           "GO:0006482",
           "GO:0032940",
           "GO:0051224",
           "GO:0045862",
           "GO:0031345",
           "GO:0007517",
           "GO:0008610",
           "GO:1901617",
           "GO:0006873",
           "GO:0051222",
           "GO:0045821",
           "GO:1905330",
           "GO:0032411",
           "GO:0033043",
           "GO:2000379",
           "GO:0001558",
           "GO:0070723",
           "GO:0046164",
           "GO:0046890",
           "GO:0046888",
           "GO:0046949",
           "GO:0043647",
           "GO:1902904",
           "GO:0017157",
           "GO:0045765",
           "GO:0009063",
           "GO:2001234",
           "GO:1902532",
           "GO:0030308",
           "GO:0006874",
           "GO:0046676",
           "GO:0071375",
           "GO:0048644",
           "GO:0030307",
           "GO:0009260",
           "GO:0032869",
           "GO:0045766",
           "GO:0042304",
           "GO:0006261",
           "GO:0006164",
           "GO:0045746",
           "GO:2001240",
           "GO:0046627",
           "GO:0045055",
           "GO:0061387",
           "GO:0007519",
           "GO:0016525",
           "GO:0046474",
           "GO:2000300",
           "GO:0050714",
           "GO:0030514",
           "GO:0046467",
           "GO:0045070",
           "GO:0006694",
           "GO:0010823",
           "GO:1905332",
           "GO:0046058",
           "GO:0010893",
           "GO:0033692",
           "GO:0006221",
           "GO:0009150",
           "GO:0034122",
           "GO:0023061",
           "GO:0050715",
           "GO:0007204",
           "GO:0008286",
           "GO:0045773",
           "GO:0009074",
           "GO:0006661",
           "GO:0006656",
           "GO:0006695",
           "GO:0060415",
           "GO:0090050",
           "GO:0032469",
           "GO:0002576",
           "GO:0043409",
           "GO:1902042",
           "GO:0070303",
           "GO:0046879",
           "GO:1902230",
           "GO:0043303",
           "GO:1902254",
           "GO:0009154",
           "GO:0060402",
           "GO:0008150"
          ],
          "pad": 15,
          "thickness": 20,
          "x": [
           0.6766666666666666,
           0.6766666666666666,
           0.6766666666666666,
           0.6766666666666666,
           0.6766666666666666,
           0.6766666666666666,
           0.6766666666666666,
           0.6766666666666666,
           0.6766666666666666,
           0.6766666666666666,
           0.6766666666666666,
           0.6766666666666666,
           0.6766666666666666,
           0.6766666666666666,
           0.6766666666666666,
           0.6766666666666666,
           0.6766666666666666,
           0.6766666666666666,
           0.6766666666666666,
           0.6766666666666666,
           0.6766666666666666,
           0.6766666666666666,
           0.6766666666666666,
           0.6766666666666666,
           0.6766666666666666,
           0.6766666666666666,
           0.6766666666666666,
           0.6766666666666666,
           0.6766666666666666,
           0.6766666666666666,
           0.6766666666666666,
           0.6766666666666666,
           0.6766666666666666,
           0.6766666666666666,
           0.6766666666666666,
           0.6766666666666666,
           0.6766666666666666,
           0.6766666666666666,
           0.6766666666666666,
           0.6766666666666666,
           0.51,
           0.51,
           0.51,
           0.3433333333333333,
           0.51,
           0.51,
           0.51,
           0.51,
           0.51,
           0.51,
           0.51,
           0.51,
           0.51,
           0.51,
           0.51,
           0.51,
           0.51,
           0.51,
           0.51,
           0.51,
           0.51,
           0.51,
           0.51,
           0.51,
           0.51,
           0.51,
           0.51,
           0.51,
           0.51,
           0.51,
           0.51,
           0.51,
           0.51,
           0.51,
           0.51,
           0.51,
           0.51,
           0.51,
           0.51,
           0.3433333333333333,
           0.3433333333333333,
           0.3433333333333333,
           0.3433333333333333,
           0.3433333333333333,
           0.3433333333333333,
           0.3433333333333333,
           0.3433333333333333,
           0.3433333333333333,
           0.3433333333333333,
           0.17666666666666667,
           0.3433333333333333,
           0.3433333333333333,
           0.3433333333333333,
           0.3433333333333333,
           0.3433333333333333,
           0.17666666666666667,
           0.3433333333333333,
           0.3433333333333333,
           0.3433333333333333,
           0.3433333333333333,
           0.3433333333333333,
           0.3433333333333333,
           0.3433333333333333,
           0.3433333333333333,
           0.3433333333333333,
           0.3433333333333333,
           0.3433333333333333,
           0.3433333333333333,
           0.3433333333333333,
           0.3433333333333333,
           0.17666666666666667,
           0.3433333333333333,
           0.3433333333333333,
           0.3433333333333333,
           0.3433333333333333,
           0.3433333333333333,
           0.3433333333333333,
           0.17666666666666667,
           0.17666666666666667,
           0.01,
           0.17666666666666667,
           0.17666666666666667,
           0.17666666666666667,
           0.17666666666666667,
           0.17666666666666667,
           0.17666666666666667,
           0.17666666666666667,
           0.17666666666666667,
           0.17666666666666667,
           0.17666666666666667,
           0.17666666666666667,
           0.17666666666666667,
           0.17666666666666667,
           0.17666666666666667,
           0.17666666666666667,
           0.17666666666666667,
           0.17666666666666667,
           0.01,
           0.8433333333333334
          ],
          "y": [
           0.015000000000000001,
           0.04,
           0.065,
           0.09000000000000001,
           0.115,
           0.13999999999999999,
           0.16499999999999998,
           0.19,
           0.215,
           0.24,
           0.265,
           0.29,
           0.315,
           0.33999999999999997,
           0.365,
           0.39,
           0.415,
           0.44,
           0.46499999999999997,
           0.49,
           0.515,
           0.54,
           0.565,
           0.59,
           0.615,
           0.64,
           0.665,
           0.69,
           0.715,
           0.74,
           0.765,
           0.79,
           0.815,
           0.84,
           0.865,
           0.89,
           0.915,
           0.94,
           0.965,
           0.99,
           0.016315789473684207,
           0.042631578947368416,
           0.06894736842105263,
           0.017777777777777774,
           0.09526315789473684,
           0.12157894736842105,
           0.14789473684210525,
           0.17421052631578945,
           0.20052631578947366,
           0.22684210526315787,
           0.2531578947368421,
           0.2794736842105263,
           0.3057894736842105,
           0.33210526315789474,
           0.3584210526315789,
           0.38473684210526315,
           0.41105263157894734,
           0.4373684210526316,
           0.46368421052631575,
           0.49,
           0.5163157894736842,
           0.5426315789473685,
           0.5689473684210526,
           0.5952631578947368,
           0.621578947368421,
           0.6478947368421053,
           0.6742105263157895,
           0.7005263157894737,
           0.7268421052631578,
           0.7531578947368421,
           0.7794736842105263,
           0.8057894736842105,
           0.8321052631578947,
           0.858421052631579,
           0.8847368421052632,
           0.9110526315789473,
           0.9373684210526315,
           0.9636842105263158,
           0.99,
           0.04555555555555555,
           0.07333333333333333,
           0.10111111111111111,
           0.1288888888888889,
           0.15666666666666665,
           0.18444444444444444,
           0.2122222222222222,
           0.24,
           0.2677777777777778,
           0.29555555555555557,
           0.035454545454545454,
           0.3233333333333333,
           0.3511111111111111,
           0.3788888888888889,
           0.4066666666666667,
           0.4344444444444444,
           0.08090909090909092,
           0.4622222222222222,
           0.49,
           0.5177777777777778,
           0.5455555555555556,
           0.5733333333333334,
           0.6011111111111112,
           0.6288888888888888,
           0.6566666666666666,
           0.6844444444444444,
           0.7122222222222222,
           0.74,
           0.7677777777777778,
           0.7955555555555556,
           0.8233333333333334,
           0.12636363636363634,
           0.8511111111111112,
           0.8788888888888888,
           0.9066666666666666,
           0.9344444444444444,
           0.9622222222222222,
           0.99,
           0.17181818181818181,
           0.21727272727272726,
           0.49,
           0.2627272727272727,
           0.30818181818181817,
           0.35363636363636364,
           0.3990909090909091,
           0.4445454545454545,
           0.49,
           0.5354545454545454,
           0.5809090909090909,
           0.6263636363636363,
           0.6718181818181818,
           0.7172727272727273,
           0.7627272727272727,
           0.8081818181818182,
           0.8536363636363636,
           0.899090909090909,
           0.9445454545454546,
           0.99,
           0.99,
           0.49
          ]
         },
         "type": "sankey"
        }
       ],
       "layout": {
        "autosize": true,
        "font": {
         "size": 15
        },
        "hoverlabel": {
         "font": {
          "size": 15
         }
        },
        "template": {
         "data": {
          "bar": [
           {
            "error_x": {
             "color": "#2a3f5f"
            },
            "error_y": {
             "color": "#2a3f5f"
            },
            "marker": {
             "line": {
              "color": "#E5ECF6",
              "width": 0.5
             },
             "pattern": {
              "fillmode": "overlay",
              "size": 10,
              "solidity": 0.2
             }
            },
            "type": "bar"
           }
          ],
          "barpolar": [
           {
            "marker": {
             "line": {
              "color": "#E5ECF6",
              "width": 0.5
             },
             "pattern": {
              "fillmode": "overlay",
              "size": 10,
              "solidity": 0.2
             }
            },
            "type": "barpolar"
           }
          ],
          "carpet": [
           {
            "aaxis": {
             "endlinecolor": "#2a3f5f",
             "gridcolor": "white",
             "linecolor": "white",
             "minorgridcolor": "white",
             "startlinecolor": "#2a3f5f"
            },
            "baxis": {
             "endlinecolor": "#2a3f5f",
             "gridcolor": "white",
             "linecolor": "white",
             "minorgridcolor": "white",
             "startlinecolor": "#2a3f5f"
            },
            "type": "carpet"
           }
          ],
          "choropleth": [
           {
            "colorbar": {
             "outlinewidth": 0,
             "ticks": ""
            },
            "type": "choropleth"
           }
          ],
          "contour": [
           {
            "colorbar": {
             "outlinewidth": 0,
             "ticks": ""
            },
            "colorscale": [
             [
              0,
              "#0d0887"
             ],
             [
              0.1111111111111111,
              "#46039f"
             ],
             [
              0.2222222222222222,
              "#7201a8"
             ],
             [
              0.3333333333333333,
              "#9c179e"
             ],
             [
              0.4444444444444444,
              "#bd3786"
             ],
             [
              0.5555555555555556,
              "#d8576b"
             ],
             [
              0.6666666666666666,
              "#ed7953"
             ],
             [
              0.7777777777777778,
              "#fb9f3a"
             ],
             [
              0.8888888888888888,
              "#fdca26"
             ],
             [
              1,
              "#f0f921"
             ]
            ],
            "type": "contour"
           }
          ],
          "contourcarpet": [
           {
            "colorbar": {
             "outlinewidth": 0,
             "ticks": ""
            },
            "type": "contourcarpet"
           }
          ],
          "heatmap": [
           {
            "colorbar": {
             "outlinewidth": 0,
             "ticks": ""
            },
            "colorscale": [
             [
              0,
              "#0d0887"
             ],
             [
              0.1111111111111111,
              "#46039f"
             ],
             [
              0.2222222222222222,
              "#7201a8"
             ],
             [
              0.3333333333333333,
              "#9c179e"
             ],
             [
              0.4444444444444444,
              "#bd3786"
             ],
             [
              0.5555555555555556,
              "#d8576b"
             ],
             [
              0.6666666666666666,
              "#ed7953"
             ],
             [
              0.7777777777777778,
              "#fb9f3a"
             ],
             [
              0.8888888888888888,
              "#fdca26"
             ],
             [
              1,
              "#f0f921"
             ]
            ],
            "type": "heatmap"
           }
          ],
          "heatmapgl": [
           {
            "colorbar": {
             "outlinewidth": 0,
             "ticks": ""
            },
            "colorscale": [
             [
              0,
              "#0d0887"
             ],
             [
              0.1111111111111111,
              "#46039f"
             ],
             [
              0.2222222222222222,
              "#7201a8"
             ],
             [
              0.3333333333333333,
              "#9c179e"
             ],
             [
              0.4444444444444444,
              "#bd3786"
             ],
             [
              0.5555555555555556,
              "#d8576b"
             ],
             [
              0.6666666666666666,
              "#ed7953"
             ],
             [
              0.7777777777777778,
              "#fb9f3a"
             ],
             [
              0.8888888888888888,
              "#fdca26"
             ],
             [
              1,
              "#f0f921"
             ]
            ],
            "type": "heatmapgl"
           }
          ],
          "histogram": [
           {
            "marker": {
             "pattern": {
              "fillmode": "overlay",
              "size": 10,
              "solidity": 0.2
             }
            },
            "type": "histogram"
           }
          ],
          "histogram2d": [
           {
            "colorbar": {
             "outlinewidth": 0,
             "ticks": ""
            },
            "colorscale": [
             [
              0,
              "#0d0887"
             ],
             [
              0.1111111111111111,
              "#46039f"
             ],
             [
              0.2222222222222222,
              "#7201a8"
             ],
             [
              0.3333333333333333,
              "#9c179e"
             ],
             [
              0.4444444444444444,
              "#bd3786"
             ],
             [
              0.5555555555555556,
              "#d8576b"
             ],
             [
              0.6666666666666666,
              "#ed7953"
             ],
             [
              0.7777777777777778,
              "#fb9f3a"
             ],
             [
              0.8888888888888888,
              "#fdca26"
             ],
             [
              1,
              "#f0f921"
             ]
            ],
            "type": "histogram2d"
           }
          ],
          "histogram2dcontour": [
           {
            "colorbar": {
             "outlinewidth": 0,
             "ticks": ""
            },
            "colorscale": [
             [
              0,
              "#0d0887"
             ],
             [
              0.1111111111111111,
              "#46039f"
             ],
             [
              0.2222222222222222,
              "#7201a8"
             ],
             [
              0.3333333333333333,
              "#9c179e"
             ],
             [
              0.4444444444444444,
              "#bd3786"
             ],
             [
              0.5555555555555556,
              "#d8576b"
             ],
             [
              0.6666666666666666,
              "#ed7953"
             ],
             [
              0.7777777777777778,
              "#fb9f3a"
             ],
             [
              0.8888888888888888,
              "#fdca26"
             ],
             [
              1,
              "#f0f921"
             ]
            ],
            "type": "histogram2dcontour"
           }
          ],
          "mesh3d": [
           {
            "colorbar": {
             "outlinewidth": 0,
             "ticks": ""
            },
            "type": "mesh3d"
           }
          ],
          "parcoords": [
           {
            "line": {
             "colorbar": {
              "outlinewidth": 0,
              "ticks": ""
             }
            },
            "type": "parcoords"
           }
          ],
          "pie": [
           {
            "automargin": true,
            "type": "pie"
           }
          ],
          "scatter": [
           {
            "fillpattern": {
             "fillmode": "overlay",
             "size": 10,
             "solidity": 0.2
            },
            "type": "scatter"
           }
          ],
          "scatter3d": [
           {
            "line": {
             "colorbar": {
              "outlinewidth": 0,
              "ticks": ""
             }
            },
            "marker": {
             "colorbar": {
              "outlinewidth": 0,
              "ticks": ""
             }
            },
            "type": "scatter3d"
           }
          ],
          "scattercarpet": [
           {
            "marker": {
             "colorbar": {
              "outlinewidth": 0,
              "ticks": ""
             }
            },
            "type": "scattercarpet"
           }
          ],
          "scattergeo": [
           {
            "marker": {
             "colorbar": {
              "outlinewidth": 0,
              "ticks": ""
             }
            },
            "type": "scattergeo"
           }
          ],
          "scattergl": [
           {
            "marker": {
             "colorbar": {
              "outlinewidth": 0,
              "ticks": ""
             }
            },
            "type": "scattergl"
           }
          ],
          "scattermapbox": [
           {
            "marker": {
             "colorbar": {
              "outlinewidth": 0,
              "ticks": ""
             }
            },
            "type": "scattermapbox"
           }
          ],
          "scatterpolar": [
           {
            "marker": {
             "colorbar": {
              "outlinewidth": 0,
              "ticks": ""
             }
            },
            "type": "scatterpolar"
           }
          ],
          "scatterpolargl": [
           {
            "marker": {
             "colorbar": {
              "outlinewidth": 0,
              "ticks": ""
             }
            },
            "type": "scatterpolargl"
           }
          ],
          "scatterternary": [
           {
            "marker": {
             "colorbar": {
              "outlinewidth": 0,
              "ticks": ""
             }
            },
            "type": "scatterternary"
           }
          ],
          "surface": [
           {
            "colorbar": {
             "outlinewidth": 0,
             "ticks": ""
            },
            "colorscale": [
             [
              0,
              "#0d0887"
             ],
             [
              0.1111111111111111,
              "#46039f"
             ],
             [
              0.2222222222222222,
              "#7201a8"
             ],
             [
              0.3333333333333333,
              "#9c179e"
             ],
             [
              0.4444444444444444,
              "#bd3786"
             ],
             [
              0.5555555555555556,
              "#d8576b"
             ],
             [
              0.6666666666666666,
              "#ed7953"
             ],
             [
              0.7777777777777778,
              "#fb9f3a"
             ],
             [
              0.8888888888888888,
              "#fdca26"
             ],
             [
              1,
              "#f0f921"
             ]
            ],
            "type": "surface"
           }
          ],
          "table": [
           {
            "cells": {
             "fill": {
              "color": "#EBF0F8"
             },
             "line": {
              "color": "white"
             }
            },
            "header": {
             "fill": {
              "color": "#C8D4E3"
             },
             "line": {
              "color": "white"
             }
            },
            "type": "table"
           }
          ]
         },
         "layout": {
          "annotationdefaults": {
           "arrowcolor": "#2a3f5f",
           "arrowhead": 0,
           "arrowwidth": 1
          },
          "autotypenumbers": "strict",
          "coloraxis": {
           "colorbar": {
            "outlinewidth": 0,
            "ticks": ""
           }
          },
          "colorscale": {
           "diverging": [
            [
             0,
             "#8e0152"
            ],
            [
             0.1,
             "#c51b7d"
            ],
            [
             0.2,
             "#de77ae"
            ],
            [
             0.3,
             "#f1b6da"
            ],
            [
             0.4,
             "#fde0ef"
            ],
            [
             0.5,
             "#f7f7f7"
            ],
            [
             0.6,
             "#e6f5d0"
            ],
            [
             0.7,
             "#b8e186"
            ],
            [
             0.8,
             "#7fbc41"
            ],
            [
             0.9,
             "#4d9221"
            ],
            [
             1,
             "#276419"
            ]
           ],
           "sequential": [
            [
             0,
             "#0d0887"
            ],
            [
             0.1111111111111111,
             "#46039f"
            ],
            [
             0.2222222222222222,
             "#7201a8"
            ],
            [
             0.3333333333333333,
             "#9c179e"
            ],
            [
             0.4444444444444444,
             "#bd3786"
            ],
            [
             0.5555555555555556,
             "#d8576b"
            ],
            [
             0.6666666666666666,
             "#ed7953"
            ],
            [
             0.7777777777777778,
             "#fb9f3a"
            ],
            [
             0.8888888888888888,
             "#fdca26"
            ],
            [
             1,
             "#f0f921"
            ]
           ],
           "sequentialminus": [
            [
             0,
             "#0d0887"
            ],
            [
             0.1111111111111111,
             "#46039f"
            ],
            [
             0.2222222222222222,
             "#7201a8"
            ],
            [
             0.3333333333333333,
             "#9c179e"
            ],
            [
             0.4444444444444444,
             "#bd3786"
            ],
            [
             0.5555555555555556,
             "#d8576b"
            ],
            [
             0.6666666666666666,
             "#ed7953"
            ],
            [
             0.7777777777777778,
             "#fb9f3a"
            ],
            [
             0.8888888888888888,
             "#fdca26"
            ],
            [
             1,
             "#f0f921"
            ]
           ]
          },
          "colorway": [
           "#636efa",
           "#EF553B",
           "#00cc96",
           "#ab63fa",
           "#FFA15A",
           "#19d3f3",
           "#FF6692",
           "#B6E880",
           "#FF97FF",
           "#FECB52"
          ],
          "font": {
           "color": "#2a3f5f"
          },
          "geo": {
           "bgcolor": "white",
           "lakecolor": "white",
           "landcolor": "#E5ECF6",
           "showlakes": true,
           "showland": true,
           "subunitcolor": "white"
          },
          "hoverlabel": {
           "align": "left"
          },
          "hovermode": "closest",
          "mapbox": {
           "style": "light"
          },
          "paper_bgcolor": "white",
          "plot_bgcolor": "#E5ECF6",
          "polar": {
           "angularaxis": {
            "gridcolor": "white",
            "linecolor": "white",
            "ticks": ""
           },
           "bgcolor": "#E5ECF6",
           "radialaxis": {
            "gridcolor": "white",
            "linecolor": "white",
            "ticks": ""
           }
          },
          "scene": {
           "xaxis": {
            "backgroundcolor": "#E5ECF6",
            "gridcolor": "white",
            "gridwidth": 2,
            "linecolor": "white",
            "showbackground": true,
            "ticks": "",
            "zerolinecolor": "white"
           },
           "yaxis": {
            "backgroundcolor": "#E5ECF6",
            "gridcolor": "white",
            "gridwidth": 2,
            "linecolor": "white",
            "showbackground": true,
            "ticks": "",
            "zerolinecolor": "white"
           },
           "zaxis": {
            "backgroundcolor": "#E5ECF6",
            "gridcolor": "white",
            "gridwidth": 2,
            "linecolor": "white",
            "showbackground": true,
            "ticks": "",
            "zerolinecolor": "white"
           }
          },
          "shapedefaults": {
           "line": {
            "color": "#2a3f5f"
           }
          },
          "ternary": {
           "aaxis": {
            "gridcolor": "white",
            "linecolor": "white",
            "ticks": ""
           },
           "baxis": {
            "gridcolor": "white",
            "linecolor": "white",
            "ticks": ""
           },
           "bgcolor": "#E5ECF6",
           "caxis": {
            "gridcolor": "white",
            "linecolor": "white",
            "ticks": ""
           }
          },
          "title": {
           "x": 0.05
          },
          "xaxis": {
           "automargin": true,
           "gridcolor": "white",
           "linecolor": "white",
           "ticks": "",
           "title": {
            "standoff": 15
           },
           "zerolinecolor": "white",
           "zerolinewidth": 2
          },
          "yaxis": {
           "automargin": true,
           "gridcolor": "white",
           "linecolor": "white",
           "ticks": "",
           "title": {
            "standoff": 15
           },
           "zerolinecolor": "white",
           "zerolinewidth": 2
          }
         }
        }
       }
      },
      "image/png": "[encoded data removed]"
     },
     "metadata": {},
     "output_type": "display_data"
    }
   ],
   "source": [
    "node, link = plot_sankey(sankey_value_tracing_ov, sankey_source_tracing_ov, sankey_target_tracing_ov,\n",
    "                node_label, back_tracing_color_tracing_ov, back_tracing_level_tracing_ov, positive_flow=True, go_dag=go_dag, \n",
    "                filename='Sankey_Tracing_' + drug_name + '_all',\n",
    "                       verbose = True)"
   ]
  },
  {
   "cell_type": "code",
   "execution_count": 251,
   "metadata": {
    "tags": []
   },
   "outputs": [],
   "source": [
    "a = np.stack((node['label'], node['customdata']), axis = 1)\n",
    "np.savetxt('Sankey_Tracing_' +  drug_name  + '_all' + \".csv\", a, delimiter=\",\", fmt=\"%s\")"
   ]
  },
  {
   "cell_type": "code",
   "execution_count": null,
   "metadata": {},
   "outputs": [],
   "source": []
  },
  {
   "cell_type": "markdown",
   "metadata": {},
   "source": [
    "# For binary"
   ]
  },
  {
   "cell_type": "code",
   "execution_count": 52,
   "metadata": {
    "tags": []
   },
   "outputs": [],
   "source": [
    "class dcell_vae(nn.Module):\n",
    "\n",
    "    def __init__(self, term_size_map, term_direct_gene_map, dG, ngene, root, \n",
    "                 num_hiddens_genotype, num_hiddens_final, n_class, inter_loss_penalty = 0.2):\n",
    "\n",
    "        super(dcell_vae, self).__init__()\n",
    "\n",
    "        self.root = root\n",
    "        self.num_hiddens_genotype = num_hiddens_genotype\n",
    "        self.num_hiddens_final = num_hiddens_final\n",
    "        self.n_class = n_class\n",
    "        self.inter_loss_penalty = inter_loss_penalty\n",
    "        self.dG = copy.deepcopy(dG)\n",
    "\n",
    "        # dictionary from terms to genes directly annotated with the term\n",
    "        self.term_direct_gene_map = term_direct_gene_map\n",
    "\n",
    "        self.term_visit_count = {}\n",
    "        self.init_term_visits(term_size_map)\n",
    "        \n",
    "        # calculate the number of values in a state (term): term_size_map is the number of all genes annotated with the term\n",
    "        self.term_dim_map = {}\n",
    "        self.cal_term_dim(term_size_map)\n",
    "\n",
    "        # ngenes, gene_dim are the number of all genes\n",
    "        self.gene_dim = ngene\n",
    "\n",
    "        # add modules for neural networks to process genotypes\n",
    "        self.contruct_direct_gene_layer()\n",
    "        self.construct_NN_graph(self.dG)\n",
    "\n",
    "        # add modules for final layer TODO: modify it into VAE\n",
    "        final_input_size = num_hiddens_genotype # + num_hiddens_drug[-1]\n",
    "        self.add_module('final_linear_layer', nn.Linear(final_input_size, num_hiddens_final * 2))\n",
    "        self.add_module('final_batchnorm_layer', nn.BatchNorm1d(num_hiddens_final * 2))\n",
    "        self.add_module('final_aux_linear_layer', nn.Linear(num_hiddens_final * 2, 1))\n",
    "        self.add_module('final_linear_layer_output', nn.Linear(1, 1))\n",
    "        \n",
    "        self.decoder_affine = nn.Linear(num_hiddens_final, n_class)\n",
    "\n",
    "    def init_term_visits(self, term_size_map):\n",
    "        \n",
    "        for term in term_size_map:\n",
    "            self.term_visit_count[term] = 0\n",
    "    \n",
    "    # calculate the number of values in a state (term)\n",
    "    def cal_term_dim(self, term_size_map):\n",
    "\n",
    "        for term, term_size in term_size_map.items():\n",
    "            num_output = self.num_hiddens_genotype\n",
    "\n",
    "            # log the number of hidden variables per each term\n",
    "            num_output = int(num_output)\n",
    "#            print(\"term\\t%s\\tterm_size\\t%d\\tnum_hiddens\\t%d\" % (term, term_size, num_output))\n",
    "            self.term_dim_map[term] = num_output\n",
    "\n",
    "\n",
    "    # build a layer for forwarding gene that are directly annotated with the term\n",
    "    def contruct_direct_gene_layer(self):\n",
    "\n",
    "        for term, gene_set in self.term_direct_gene_map.items():\n",
    "            if len(gene_set) == 0:\n",
    "                print('There are no directed asscoiated genes for', term)\n",
    "                sys.exit(1)\n",
    "\n",
    "            # if there are some genes directly annotated with the term, add a layer taking in all genes and forwarding out only those genes\n",
    "            self.add_module(term+'_direct_gene_layer', nn.Linear(self.gene_dim, len(gene_set)))\n",
    "\n",
    "    # start from bottom (leaves), and start building a neural network using the given ontology\n",
    "    # adding modules --- the modules are not connected yet\n",
    "    def construct_NN_graph(self, dG):\n",
    "\n",
    "        self.term_layer_list = []   # term_layer_list stores the built neural network\n",
    "        self.term_neighbor_map = {}\n",
    "\n",
    "        # term_neighbor_map records all children of each term\n",
    "        for term in dG.nodes():\n",
    "            self.term_neighbor_map[term] = []\n",
    "            for child in dG.neighbors(term):\n",
    "                self.term_neighbor_map[term].append(child)\n",
    "\n",
    "        while True:\n",
    "            leaves = [n for n in dG.nodes() if dG.out_degree(n) == 0]\n",
    "            #leaves = [n for n,d in dG.out_degree().items() if d==0]\n",
    "            #leaves = [n for n,d in dG.out_degree() if d==0]\n",
    "\n",
    "            if len(leaves) == 0:\n",
    "                break\n",
    "\n",
    "            self.term_layer_list.append(leaves)\n",
    "\n",
    "            for term in leaves:\n",
    "\n",
    "                # input size will be #chilren + #genes directly annotated by the term\n",
    "                input_size = 0\n",
    "\n",
    "                for child in self.term_neighbor_map[term]:\n",
    "                    input_size += self.term_dim_map[child]\n",
    "\n",
    "                if term in self.term_direct_gene_map:\n",
    "                    input_size += len(self.term_direct_gene_map[term])\n",
    "\n",
    "                # term_hidden is the number of the hidden variables in each state\n",
    "                term_hidden = self.term_dim_map[term]\n",
    "\n",
    "                self.add_module(term+'_linear_layer', nn.Linear(input_size, term_hidden))\n",
    "                self.add_module(term+'_batchnorm_layer', nn.BatchNorm1d(term_hidden))\n",
    "                self.add_module(term+'_aux_linear_layer1', nn.Linear(term_hidden, self.n_class))\n",
    "                self.add_module(term+'_aux_linear_layer2', nn.Linear(self.n_class, self.n_class))\n",
    "\n",
    "            dG.remove_nodes_from(leaves)\n",
    "\n",
    "\n",
    "    # definition of encoder\n",
    "    def encoder(self, x):\n",
    "        gene_input = x.narrow(1, 0, self.gene_dim)\n",
    "\n",
    "        # define forward function for genotype dcell #############################################\n",
    "        term_gene_out_map = {}\n",
    "\n",
    "        for term, _ in self.term_direct_gene_map.items():\n",
    "            term_gene_out_map[term] = self._modules[term + '_direct_gene_layer'](gene_input)\n",
    "\n",
    "        term_NN_out_map = {}\n",
    "        aux_out_map = {}\n",
    "\n",
    "        for i, layer in enumerate(self.term_layer_list):\n",
    "\n",
    "            for term in layer:\n",
    "\n",
    "                child_input_list = []\n",
    "\n",
    "                self.term_visit_count[term] += 1\n",
    "                \n",
    "                for child in self.term_neighbor_map[term]:\n",
    "                    child_input_list.append(term_NN_out_map[child])\n",
    "\n",
    "                if term in self.term_direct_gene_map:\n",
    "                    child_input_list.append(term_gene_out_map[term])\n",
    "\n",
    "                child_input = torch.cat(child_input_list,1)\n",
    "\n",
    "                term_NN_out = self._modules[term+'_linear_layer'](child_input)\n",
    "\n",
    "                Tanh_out = torch.tanh(term_NN_out)\n",
    "                term_NN_out_map[term] = self._modules[term+'_batchnorm_layer'](Tanh_out)\n",
    "                aux_layer1_out = torch.tanh(self._modules[term+'_aux_linear_layer1'](term_NN_out_map[term]))\n",
    "                aux_out_map[term] = self._modules[term+'_aux_linear_layer2'](aux_layer1_out)\n",
    "\n",
    "        # connect two neural networks at the top #################################################\n",
    "        final_input = term_NN_out_map[self.root] # torch.cat((term_NN_out_map[self.root], drug_out), 1)\n",
    "\n",
    "        out = self._modules['final_batchnorm_layer'](torch.tanh(self._modules['final_linear_layer'](final_input)))\n",
    "        term_NN_out_map['final'] = out\n",
    "\n",
    "        aux_layer_out = torch.tanh(self._modules['final_aux_linear_layer'](out))\n",
    "        aux_out_map['final'] = self._modules['final_linear_layer_output'](aux_layer_out)\n",
    "\n",
    "        return aux_out_map, term_NN_out_map\n",
    "    \n",
    "    def forward(self, x):\n",
    "        \n",
    "        aux_out_map, term_NN_out_map = self.encoder(x)\n",
    "        \n",
    "        mu = term_NN_out_map['final'][..., :self.num_hiddens_final]\n",
    "        log_var = term_NN_out_map['final'][..., :self.num_hiddens_final]  # T X batch X z_dim\n",
    "        std_dec = log_var.mul(0.5).exp_()\n",
    "        # std_dec = 1\n",
    "        \n",
    "        latent = MultivariateNormal(loc = mu, \n",
    "                                    scale_tril=torch.diag_embed(std_dec))\n",
    "        z = latent.rsample()\n",
    "        \n",
    "        recon_mean = self.decoder_affine(z)\n",
    "        logits = F.softmax(recon_mean, -1)\n",
    "\n",
    "        return logits # , mu, log_var, aux_out_map, term_NN_out_map\n",
    "    \n",
    "    def loss_log_vae(self, logits, y, mu, log_var, beta = 0.001):\n",
    "        # y: true labels\n",
    "        ori_y_shape = y.shape\n",
    "        \n",
    "        class_loss = F.cross_entropy(logits.view(-1, logits.shape[-1]), \n",
    "                                     y.reshape(-1), reduction = 'none').div(np.log(2)).view(*ori_y_shape)\n",
    "        \n",
    "        KLD = -0.5 * torch.sum(1 + log_var - mu.pow(2) - log_var.exp(), \n",
    "                              dim = -1)\n",
    "        \n",
    "        log_loss = class_loss + beta * KLD\n",
    "        log_loss = torch.mean(torch.logsumexp(log_loss, 0))\n",
    "        \n",
    "        return log_loss\n",
    "    \n",
    "    def intermediate_loss(self, aux_out_map, y):\n",
    "        \n",
    "        inter_loss = 0\n",
    "        for name, output in aux_out_map.items():\n",
    "            if name == 'final':\n",
    "                inter_loss += 0\n",
    "            else: # change 0.2 to smaller one for big terms\n",
    "                ori_y_shape = y.shape\n",
    "        \n",
    "                term_loss = F.cross_entropy(output, \n",
    "                                             y, \n",
    "                                             reduction = 'none').div(np.log(2)).view(*ori_y_shape)\n",
    "                inter_loss += term_loss\n",
    "\n",
    "        return inter_loss\n",
    "\n",
    "model = torch.load(\"gdsc_50_top5_\"+str(4)+\".pt\").to(DEVICE)\n"
   ]
  },
  {
   "cell_type": "code",
   "execution_count": 53,
   "metadata": {
    "tags": []
   },
   "outputs": [],
   "source": [
    "\n",
    "X = np.array(gdsc_tensor)\n",
    "y = np.array(cancer_type_idx)\n",
    "\n",
    "X_train = X[:700,:]\n",
    "y_train = y[:700]\n",
    "\n",
    "X_test = X[700:,:]\n",
    "y_test = y[700:]\n",
    "\n",
    "y_top5 = copy.deepcopy(y)\n",
    "\n",
    "for idx, y_tmp in enumerate(y):\n",
    "    if y_tmp in [2,13,24,30,14]:\n",
    "        y_top5[idx] = 1\n",
    "    else:\n",
    "        y_top5[idx] = 0\n",
    "    \n",
    "y_top5_train = y_top5[:700]\n",
    "y_top5_test = y_top5[700:]"
   ]
  },
  {
   "cell_type": "code",
   "execution_count": 54,
   "metadata": {
    "tags": []
   },
   "outputs": [
    {
     "data": {
      "text/plain": [
       "array([0, 0, 1, ..., 0, 0, 0])"
      ]
     },
     "execution_count": 54,
     "metadata": {},
     "output_type": "execute_result"
    }
   ],
   "source": [
    "y_top5"
   ]
  },
  {
   "cell_type": "code",
   "execution_count": 56,
   "metadata": {
    "tags": []
   },
   "outputs": [],
   "source": [
    "torch.manual_seed(1)\n",
    "\n",
    "with torch.no_grad():\n",
    "    recon_mean = model(torch.tensor(X_test).to(DEVICE))\n",
    "    auc_avg = roc_auc_score(y_top5_test, recon_mean.cpu().detach()[:,1])\n"
   ]
  },
  {
   "cell_type": "code",
   "execution_count": 57,
   "metadata": {
    "tags": []
   },
   "outputs": [
    {
     "data": {
      "text/plain": [
       "0.9082268108816781"
      ]
     },
     "execution_count": 57,
     "metadata": {},
     "output_type": "execute_result"
    }
   ],
   "source": [
    "auc_avg"
   ]
  },
  {
   "cell_type": "code",
   "execution_count": 58,
   "metadata": {
    "tags": []
   },
   "outputs": [
    {
     "name": "stderr",
     "output_type": "stream",
     "text": [
      "/homes/ac.tfeng/miniconda3/envs/general/lib/python3.9/site-packages/captum/attr/_core/layer/layer_integrated_gradients.py:101: UserWarning: Multiple layers provided. Please ensure that each layer is**not** solely dependent on the outputs ofanother layer. Please refer to the documentation for moredetail.\n",
      "  warnings.warn(\n",
      "Level1: 357it [00:00, 9318.53it/s]\n",
      "Level2: 183it [00:00, 6417.28it/s]\n",
      "Level3: 115it [00:00, 5170.27it/s]\n",
      "Level4: 66it [00:00, 4379.57it/s]\n",
      "Level5: 1it [00:00, 93.01it/s]\n"
     ]
    }
   ],
   "source": [
    "torch.manual_seed(0)\n",
    "\n",
    "sankey_value, sankey_source, sankey_target, \\\n",
    "        node_label_id, node_label, node_col, node_level\\\n",
    "                = prepare_node_edge(model, torch.tensor(X[:100]).to(DEVICE), target=torch.tensor(y_top5[:100]).to(DEVICE))"
   ]
  },
  {
   "cell_type": "code",
   "execution_count": 59,
   "metadata": {
    "tags": []
   },
   "outputs": [
    {
     "data": {
      "text/plain": [
       "(3167, 100)"
      ]
     },
     "execution_count": 59,
     "metadata": {},
     "output_type": "execute_result"
    }
   ],
   "source": [
    "sankey_value.shape"
   ]
  },
  {
   "cell_type": "code",
   "execution_count": 64,
   "metadata": {
    "tags": []
   },
   "outputs": [],
   "source": [
    "sankey_value_tracing, sankey_source_tracing, sankey_target_tracing, back_tracing_level_tracing, back_tracing_color_tracing \\\n",
    "    = sankey_backward_trace(sankey_value[:, y_top5[:100] == 1].mean(axis=1, keepdims=True), \n",
    "                            sankey_source, sankey_target, \n",
    "                            node_label_id,\n",
    "                            sample_id=0, \n",
    "                            percent_keep = 0.1, min_num=20)"
   ]
  },
  {
   "cell_type": "code",
   "execution_count": 65,
   "metadata": {
    "tags": []
   },
   "outputs": [
    {
     "data": {
      "application/vnd.plotly.v1+json": {
       "config": {
        "plotlyServerURL": "https://plot.ly"
       },
       "data": [
        {
         "arrangement": "snap",
         "link": {
          "source": [
           0,
           1,
           2,
           3,
           4,
           5,
           6,
           7,
           8,
           9,
           10,
           11,
           12,
           13,
           14,
           15,
           16,
           17,
           18,
           19,
           20,
           21,
           22,
           23,
           24,
           25,
           26,
           27,
           28,
           29,
           30,
           31,
           32,
           33,
           34,
           35,
           36,
           37,
           38,
           39,
           40,
           41,
           42,
           43,
           44,
           45,
           46,
           47,
           48,
           49,
           50,
           47,
           51,
           52,
           53,
           54,
           55,
           56,
           57,
           58,
           46,
           40,
           59,
           60,
           61,
           62,
           63,
           64,
           62,
           65,
           66,
           67,
           68,
           68,
           62,
           68,
           69,
           70,
           71,
           58,
           64,
           72,
           73,
           74,
           75,
           76,
           77,
           78,
           79,
           80,
           71,
           81,
           82,
           83,
           84,
           85,
           86,
           87,
           88,
           79,
           82,
           89,
           86,
           90,
           91,
           92,
           93,
           94,
           95,
           96
          ],
          "target": [
           97,
           97,
           97,
           97,
           97,
           97,
           97,
           97,
           97,
           97,
           97,
           97,
           97,
           97,
           97,
           97,
           97,
           97,
           97,
           97,
           97,
           97,
           97,
           97,
           97,
           97,
           97,
           97,
           97,
           97,
           97,
           97,
           97,
           97,
           97,
           97,
           97,
           97,
           1,
           0,
           7,
           2,
           20,
           16,
           0,
           23,
           4,
           6,
           12,
           9,
           14,
           10,
           13,
           8,
           11,
           15,
           12,
           17,
           19,
           40,
           41,
           52,
           47,
           50,
           54,
           38,
           57,
           46,
           43,
           45,
           42,
           53,
           48,
           51,
           52,
           55,
           57,
           53,
           46,
           40,
           46,
           62,
           60,
           61,
           59,
           65,
           63,
           59,
           58,
           63,
           46,
           46,
           64,
           61,
           67,
           63,
           71,
           66,
           62,
           58,
           64,
           77,
           71,
           74,
           73,
           73,
           84,
           84,
           84,
           84
          ],
          "value": [
           0.04273667639168048,
           0.03273498064472973,
           0.03256923749752828,
           0.031037582318239502,
           0.030410023957082827,
           0.024280146427165368,
           0.023449455791043225,
           0.023069589962904428,
           0.02156491900604293,
           0.02121815881245863,
           0.020771624411865267,
           0.020562930948233613,
           0.019884099948712302,
           0.019879757899382806,
           0.018344782839754152,
           0.01713213131944404,
           0.016943150610642683,
           0.01676196179919396,
           0.01658212745937059,
           0.016482551510561085,
           0.016010604412073644,
           0.015470819863857028,
           0.01485276235231119,
           0.014335108289497083,
           0.013897586263876542,
           0.013140556901939547,
           0.012548837863014549,
           0.012258139449456333,
           0.01216592577808074,
           0.01214862874997249,
           0.011695503987739794,
           0.010552429524626147,
           0.009654215934358385,
           0.009637912559282685,
           0.009594061468080669,
           0.00953652098490739,
           0.009456360840377745,
           0.009403619755614967,
           0.026233091101057416,
           0.025591896303993857,
           0.022139937188603343,
           0.017950048855592503,
           0.016138717641755174,
           0.016113745783500638,
           0.016061578109912274,
           0.015489018863328506,
           0.01497373754923052,
           0.01269910361968467,
           0.011979055639382773,
           0.010658424769024566,
           0.010155885648771446,
           0.009338766174537454,
           0.008570982862188669,
           0.008386279344592566,
           0.008121226337899027,
           0.007999312212465507,
           0.007292235756077974,
           0.007049979229024824,
           0.0068144300178156324,
           0.03270359597852769,
           0.03157851579006402,
           0.023572740653930505,
           0.018860907407267487,
           0.0172006564940413,
           0.016361859714859272,
           0.015920241330835895,
           0.015343636499041052,
           0.011308771096786118,
           0.00971741312012957,
           0.0090149406468184,
           0.008364591527640143,
           0.005641232199323438,
           0.0052860493831174025,
           0.0045793365263481454,
           0.004484905428329536,
           0.004084500512620432,
           0.0035276613268748246,
           0.00351418382689261,
           0.0033051950619648177,
           0.03270359597852769,
           0.011308771096786118,
           0.008022648257325295,
           0.006369276837321916,
           0.006229690275795831,
           0.006084237699966296,
           0.005897595822642271,
           0.0054707088876327446,
           0.004723104512074611,
           0.004709378873536814,
           0.004078799542122974,
           0.0033051950619648177,
           0.0030256075621613813,
           0.0029212458039413205,
           0.0024055441421105806,
           0.002292405633401067,
           0.0019021437980698934,
           0.001611240341667006,
           0.001109690244634905,
           0.0010132189920894561,
           0.004709378873536814,
           0.0029212458039413205,
           0.002246050036935827,
           0.001611240341667006,
           0.0016036520748741764,
           0.0008468744260231039,
           0.0006977246312268312,
           0.0005121639512245911,
           0.0002352882221362622,
           0.00023353762587549677,
           0.00002964360182509723
          ]
         },
         "node": {
          "color": [
           "#EF553B",
           "#EF553B",
           "#EF553B",
           "#EF553B",
           "#EF553B",
           "#EF553B",
           "#EF553B",
           "#EF553B",
           "#EF553B",
           "#EF553B",
           "#EF553B",
           "#EF553B",
           "#EF553B",
           "#EF553B",
           "#EF553B",
           "#EF553B",
           "#EF553B",
           "#EF553B",
           "#EF553B",
           "#EF553B",
           "#EF553B",
           "#EF553B",
           "#EF553B",
           "#EF553B",
           "#EF553B",
           "#EF553B",
           "#EF553B",
           "#EF553B",
           "#EF553B",
           "#EF553B",
           "#EF553B",
           "#EF553B",
           "#EF553B",
           "#EF553B",
           "#EF553B",
           "#EF553B",
           "#EF553B",
           "#EF553B",
           "#00CC96",
           "#00CC96",
           "#AB63FA",
           "#00CC96",
           "#00CC96",
           "#00CC96",
           "#00CC96",
           "#00CC96",
           "#AB63FA",
           "#00CC96",
           "#00CC96",
           "#00CC96",
           "#00CC96",
           "#00CC96",
           "#00CC96",
           "#00CC96",
           "#00CC96",
           "#00CC96",
           "#00CC96",
           "#00CC96",
           "#FFA15A",
           "#AB63FA",
           "#AB63FA",
           "#AB63FA",
           "#AB63FA",
           "#AB63FA",
           "#FFA15A",
           "#AB63FA",
           "#AB63FA",
           "#AB63FA",
           "#AB63FA",
           "#AB63FA",
           "#AB63FA",
           "#FFA15A",
           "#FFA15A",
           "#FFA15A",
           "#FFA15A",
           "#FFA15A",
           "#FFA15A",
           "#FFA15A",
           "#FFA15A",
           "#19D3F3",
           "#FFA15A",
           "#FFA15A",
           "#19D3F3",
           "#FFA15A",
           "#FFA15A",
           "#FFA15A",
           "#19D3F3",
           "#FFA15A",
           "#FFA15A",
           "#19D3F3",
           "#19D3F3",
           "#19D3F3",
           "#19D3F3",
           "#19D3F3",
           "#19D3F3",
           "#19D3F3",
           "#19D3F3",
           "#636EFA"
          ],
          "customdata": [
           "regulation of nucleobase-containing compound metabolic process",
           "negative regulation of macromolecule metabolic process",
           "phosphate-containing compound metabolic process",
           "regulation of gene expression",
           "protein modification process",
           "organic substance catabolic process",
           "positive regulation of molecular function",
           "positive regulation of macromolecule biosynthetic process",
           "GO:2000112",
           "monoatomic ion homeostasis",
           "regulation of catalytic activity",
           "lipid metabolic process",
           "cellular biosynthetic process",
           "organic substance biosynthetic process",
           "intracellular chemical homeostasis",
           "protein-containing complex organization",
           "negative regulation of cellular biosynthetic process",
           "regulation of hormone levels",
           "cellular catabolic process",
           "transmembrane transport",
           "response to cytokine",
           "monoatomic ion transport",
           "positive regulation of phosphate metabolic process",
           "secretion",
           "nucleobase-containing compound metabolic process",
           "GO:0055114",
           "cellular component assembly",
           "GO:0010941",
           "gene expression",
           "immune response",
           "regulation of B cell receptor signaling pathway",
           "nervous system development",
           "localization of cell",
           "detection of stimulus",
           "defense response",
           "regulation of response to external stimulus",
           "immune effector process",
           "signal transduction",
           "negative regulation of gene expression",
           "regulation of RNA metabolic process",
           "positive regulation of DNA-templated transcription",
           "phosphorylation",
           "cellular response to cytokine stimulus",
           "GO:2000113",
           "positive regulation of nucleobase-containing compound metabolic process",
           "secretion by cell",
           "protein phosphorylation",
           "positive regulation of catalytic activity",
           "cellular nitrogen compound biosynthetic process",
           "monoatomic cation homeostasis",
           "intracellular monoatomic ion homeostasis",
           "organic cyclic compound biosynthetic process",
           "regulation of DNA-templated transcription",
           "cellular lipid metabolic process",
           "protein-containing complex assembly",
           "aromatic compound biosynthetic process",
           "hormone metabolic process",
           "monoatomic ion transmembrane transport",
           "positive regulation of transcription by RNA polymerase II",
           "positive regulation of hydrolase activity",
           "intracellular calcium ion homeostasis",
           "protein complex oligomerization",
           "negative regulation of DNA-templated transcription",
           "inorganic cation transmembrane transport",
           "peptidyl-tyrosine phosphorylation",
           "regulated exocytosis",
           "cytokine-mediated signaling pathway",
           "fatty acid metabolic process",
           "nucleobase-containing compound biosynthetic process",
           "monoatomic anion transmembrane transport",
           "glycerolipid metabolic process",
           "peptidyl-serine phosphorylation",
           "negative regulation of transcription by RNA polymerase II",
           "positive regulation of cytosolic calcium ion concentration",
           "protein homooligomerization",
           "positive regulation of cysteine-type endopeptidase activity",
           "neutrophil degranulation",
           "calcium ion transmembrane transport",
           "activation of phospholipase C activity",
           "positive regulation of miRNA transcription",
           "sodium ion transmembrane transport",
           "protein autophosphorylation",
           "peptidyl-tyrosine autophosphorylation",
           "protein heterooligomerization",
           "long-chain fatty acid metabolic process",
           "potassium ion transmembrane transport",
           "GO:0035404",
           "chemokine-mediated signaling pathway",
           "heterochromatin formation",
           "release of sequestered calcium ion into cytosol",
           "protein homotetramerization",
           "GO:0051482",
           "calcium ion transport into cytosol",
           "long-chain fatty acid biosynthetic process",
           "epoxygenase P450 pathway",
           "cyclooxygenase pathway",
           "linoleic acid metabolic process",
           "biological_process"
          ],
          "hovertemplate": "%{label}: %{customdata}<extra></extra>",
          "label": [
           "GO:0019219",
           "GO:0010605",
           "GO:0006796",
           "GO:0010468",
           "GO:0006464",
           "GO:1901575",
           "GO:0044093",
           "GO:0010557",
           "GO:2000112",
           "GO:0050801",
           "GO:0050790",
           "GO:0006629",
           "GO:0044249",
           "GO:1901576",
           "GO:0055082",
           "GO:0043933",
           "GO:0031327",
           "GO:0010817",
           "GO:0044248",
           "GO:0055085",
           "GO:0034097",
           "GO:0006811",
           "GO:0045937",
           "GO:0046903",
           "GO:0006139",
           "GO:0055114",
           "GO:0022607",
           "GO:0010941",
           "GO:0010467",
           "GO:0006955",
           "GO:0050855",
           "GO:0007399",
           "GO:0051674",
           "GO:0051606",
           "GO:0006952",
           "GO:0032101",
           "GO:0002252",
           "GO:0007165",
           "GO:0010629",
           "GO:0051252",
           "GO:0045893",
           "GO:0016310",
           "GO:0071345",
           "GO:2000113",
           "GO:0045935",
           "GO:0032940",
           "GO:0006468",
           "GO:0043085",
           "GO:0044271",
           "GO:0055080",
           "GO:0006873",
           "GO:1901362",
           "GO:0006355",
           "GO:0044255",
           "GO:0065003",
           "GO:0019438",
           "GO:0042445",
           "GO:0034220",
           "GO:0045944",
           "GO:0051345",
           "GO:0006874",
           "GO:0051259",
           "GO:0045892",
           "GO:0098662",
           "GO:0018108",
           "GO:0045055",
           "GO:0019221",
           "GO:0006631",
           "GO:0034654",
           "GO:0098656",
           "GO:0046486",
           "GO:0018105",
           "GO:0000122",
           "GO:0007204",
           "GO:0051260",
           "GO:2001056",
           "GO:0043312",
           "GO:0070588",
           "GO:0007202",
           "GO:1902895",
           "GO:0035725",
           "GO:0046777",
           "GO:0038083",
           "GO:0051291",
           "GO:0001676",
           "GO:0071805",
           "GO:0035404",
           "GO:0070098",
           "GO:0006342",
           "GO:0051209",
           "GO:0051289",
           "GO:0051482",
           "GO:0060402",
           "GO:0042759",
           "GO:0019373",
           "GO:0019371",
           "GO:0043651",
           "GO:0008150"
          ],
          "pad": 15,
          "thickness": 20,
          "x": [
           0.6766666666666666,
           0.6766666666666666,
           0.6766666666666666,
           0.6766666666666666,
           0.6766666666666666,
           0.6766666666666666,
           0.6766666666666666,
           0.6766666666666666,
           0.6766666666666666,
           0.6766666666666666,
           0.6766666666666666,
           0.6766666666666666,
           0.6766666666666666,
           0.6766666666666666,
           0.6766666666666666,
           0.6766666666666666,
           0.6766666666666666,
           0.6766666666666666,
           0.6766666666666666,
           0.6766666666666666,
           0.6766666666666666,
           0.6766666666666666,
           0.6766666666666666,
           0.6766666666666666,
           0.6766666666666666,
           0.6766666666666666,
           0.6766666666666666,
           0.6766666666666666,
           0.6766666666666666,
           0.6766666666666666,
           0.6766666666666666,
           0.6766666666666666,
           0.6766666666666666,
           0.6766666666666666,
           0.6766666666666666,
           0.6766666666666666,
           0.6766666666666666,
           0.6766666666666666,
           0.51,
           0.51,
           0.3433333333333333,
           0.51,
           0.51,
           0.51,
           0.51,
           0.51,
           0.3433333333333333,
           0.51,
           0.51,
           0.51,
           0.51,
           0.51,
           0.51,
           0.51,
           0.51,
           0.51,
           0.51,
           0.51,
           0.17666666666666667,
           0.3433333333333333,
           0.3433333333333333,
           0.3433333333333333,
           0.3433333333333333,
           0.3433333333333333,
           0.17666666666666667,
           0.3433333333333333,
           0.3433333333333333,
           0.3433333333333333,
           0.3433333333333333,
           0.3433333333333333,
           0.3433333333333333,
           0.17666666666666667,
           0.17666666666666667,
           0.17666666666666667,
           0.17666666666666667,
           0.17666666666666667,
           0.17666666666666667,
           0.17666666666666667,
           0.17666666666666667,
           0.01,
           0.17666666666666667,
           0.17666666666666667,
           0.01,
           0.17666666666666667,
           0.17666666666666667,
           0.17666666666666667,
           0.01,
           0.17666666666666667,
           0.17666666666666667,
           0.01,
           0.01,
           0.01,
           0.01,
           0.01,
           0.01,
           0.01,
           0.01,
           0.8433333333333334
          ],
          "y": [
           0.016315789473684207,
           0.042631578947368416,
           0.06894736842105263,
           0.09526315789473684,
           0.12157894736842105,
           0.14789473684210525,
           0.17421052631578945,
           0.20052631578947366,
           0.22684210526315787,
           0.2531578947368421,
           0.2794736842105263,
           0.3057894736842105,
           0.33210526315789474,
           0.3584210526315789,
           0.38473684210526315,
           0.41105263157894734,
           0.4373684210526316,
           0.46368421052631575,
           0.49,
           0.5163157894736842,
           0.5426315789473685,
           0.5689473684210526,
           0.5952631578947368,
           0.621578947368421,
           0.6478947368421053,
           0.6742105263157895,
           0.7005263157894737,
           0.7268421052631578,
           0.7531578947368421,
           0.7794736842105263,
           0.8057894736842105,
           0.8321052631578947,
           0.858421052631579,
           0.8847368421052632,
           0.9110526315789473,
           0.9373684210526315,
           0.9636842105263158,
           0.99,
           0.04555555555555555,
           0.10111111111111111,
           0.06692307692307693,
           0.15666666666666665,
           0.2122222222222222,
           0.2677777777777778,
           0.3233333333333333,
           0.3788888888888889,
           0.14384615384615385,
           0.4344444444444444,
           0.49,
           0.5455555555555556,
           0.6011111111111112,
           0.6566666666666666,
           0.7122222222222222,
           0.7677777777777778,
           0.8233333333333334,
           0.8788888888888888,
           0.9344444444444444,
           0.99,
           0.0488235294117647,
           0.22076923076923077,
           0.2976923076923077,
           0.37461538461538463,
           0.45153846153846156,
           0.5284615384615384,
           0.10764705882352942,
           0.6053846153846154,
           0.6823076923076923,
           0.7592307692307693,
           0.8361538461538461,
           0.9130769230769231,
           0.99,
           0.16647058823529412,
           0.2252941176470588,
           0.28411764705882353,
           0.34294117647058825,
           0.4017647058823529,
           0.46058823529411763,
           0.5194117647058824,
           0.5782352941176471,
           0.08090909090909092,
           0.6370588235294118,
           0.6958823529411765,
           0.17181818181818181,
           0.7547058823529411,
           0.8135294117647058,
           0.8723529411764706,
           0.2627272727272727,
           0.9311764705882353,
           0.99,
           0.35363636363636364,
           0.4445454545454545,
           0.5354545454545454,
           0.6263636363636363,
           0.7172727272727273,
           0.8081818181818182,
           0.899090909090909,
           0.99,
           0.49
          ]
         },
         "type": "sankey"
        }
       ],
       "layout": {
        "autosize": true,
        "font": {
         "size": 15
        },
        "hoverlabel": {
         "font": {
          "size": 15
         }
        },
        "template": {
         "data": {
          "bar": [
           {
            "error_x": {
             "color": "#2a3f5f"
            },
            "error_y": {
             "color": "#2a3f5f"
            },
            "marker": {
             "line": {
              "color": "#E5ECF6",
              "width": 0.5
             },
             "pattern": {
              "fillmode": "overlay",
              "size": 10,
              "solidity": 0.2
             }
            },
            "type": "bar"
           }
          ],
          "barpolar": [
           {
            "marker": {
             "line": {
              "color": "#E5ECF6",
              "width": 0.5
             },
             "pattern": {
              "fillmode": "overlay",
              "size": 10,
              "solidity": 0.2
             }
            },
            "type": "barpolar"
           }
          ],
          "carpet": [
           {
            "aaxis": {
             "endlinecolor": "#2a3f5f",
             "gridcolor": "white",
             "linecolor": "white",
             "minorgridcolor": "white",
             "startlinecolor": "#2a3f5f"
            },
            "baxis": {
             "endlinecolor": "#2a3f5f",
             "gridcolor": "white",
             "linecolor": "white",
             "minorgridcolor": "white",
             "startlinecolor": "#2a3f5f"
            },
            "type": "carpet"
           }
          ],
          "choropleth": [
           {
            "colorbar": {
             "outlinewidth": 0,
             "ticks": ""
            },
            "type": "choropleth"
           }
          ],
          "contour": [
           {
            "colorbar": {
             "outlinewidth": 0,
             "ticks": ""
            },
            "colorscale": [
             [
              0,
              "#0d0887"
             ],
             [
              0.1111111111111111,
              "#46039f"
             ],
             [
              0.2222222222222222,
              "#7201a8"
             ],
             [
              0.3333333333333333,
              "#9c179e"
             ],
             [
              0.4444444444444444,
              "#bd3786"
             ],
             [
              0.5555555555555556,
              "#d8576b"
             ],
             [
              0.6666666666666666,
              "#ed7953"
             ],
             [
              0.7777777777777778,
              "#fb9f3a"
             ],
             [
              0.8888888888888888,
              "#fdca26"
             ],
             [
              1,
              "#f0f921"
             ]
            ],
            "type": "contour"
           }
          ],
          "contourcarpet": [
           {
            "colorbar": {
             "outlinewidth": 0,
             "ticks": ""
            },
            "type": "contourcarpet"
           }
          ],
          "heatmap": [
           {
            "colorbar": {
             "outlinewidth": 0,
             "ticks": ""
            },
            "colorscale": [
             [
              0,
              "#0d0887"
             ],
             [
              0.1111111111111111,
              "#46039f"
             ],
             [
              0.2222222222222222,
              "#7201a8"
             ],
             [
              0.3333333333333333,
              "#9c179e"
             ],
             [
              0.4444444444444444,
              "#bd3786"
             ],
             [
              0.5555555555555556,
              "#d8576b"
             ],
             [
              0.6666666666666666,
              "#ed7953"
             ],
             [
              0.7777777777777778,
              "#fb9f3a"
             ],
             [
              0.8888888888888888,
              "#fdca26"
             ],
             [
              1,
              "#f0f921"
             ]
            ],
            "type": "heatmap"
           }
          ],
          "heatmapgl": [
           {
            "colorbar": {
             "outlinewidth": 0,
             "ticks": ""
            },
            "colorscale": [
             [
              0,
              "#0d0887"
             ],
             [
              0.1111111111111111,
              "#46039f"
             ],
             [
              0.2222222222222222,
              "#7201a8"
             ],
             [
              0.3333333333333333,
              "#9c179e"
             ],
             [
              0.4444444444444444,
              "#bd3786"
             ],
             [
              0.5555555555555556,
              "#d8576b"
             ],
             [
              0.6666666666666666,
              "#ed7953"
             ],
             [
              0.7777777777777778,
              "#fb9f3a"
             ],
             [
              0.8888888888888888,
              "#fdca26"
             ],
             [
              1,
              "#f0f921"
             ]
            ],
            "type": "heatmapgl"
           }
          ],
          "histogram": [
           {
            "marker": {
             "pattern": {
              "fillmode": "overlay",
              "size": 10,
              "solidity": 0.2
             }
            },
            "type": "histogram"
           }
          ],
          "histogram2d": [
           {
            "colorbar": {
             "outlinewidth": 0,
             "ticks": ""
            },
            "colorscale": [
             [
              0,
              "#0d0887"
             ],
             [
              0.1111111111111111,
              "#46039f"
             ],
             [
              0.2222222222222222,
              "#7201a8"
             ],
             [
              0.3333333333333333,
              "#9c179e"
             ],
             [
              0.4444444444444444,
              "#bd3786"
             ],
             [
              0.5555555555555556,
              "#d8576b"
             ],
             [
              0.6666666666666666,
              "#ed7953"
             ],
             [
              0.7777777777777778,
              "#fb9f3a"
             ],
             [
              0.8888888888888888,
              "#fdca26"
             ],
             [
              1,
              "#f0f921"
             ]
            ],
            "type": "histogram2d"
           }
          ],
          "histogram2dcontour": [
           {
            "colorbar": {
             "outlinewidth": 0,
             "ticks": ""
            },
            "colorscale": [
             [
              0,
              "#0d0887"
             ],
             [
              0.1111111111111111,
              "#46039f"
             ],
             [
              0.2222222222222222,
              "#7201a8"
             ],
             [
              0.3333333333333333,
              "#9c179e"
             ],
             [
              0.4444444444444444,
              "#bd3786"
             ],
             [
              0.5555555555555556,
              "#d8576b"
             ],
             [
              0.6666666666666666,
              "#ed7953"
             ],
             [
              0.7777777777777778,
              "#fb9f3a"
             ],
             [
              0.8888888888888888,
              "#fdca26"
             ],
             [
              1,
              "#f0f921"
             ]
            ],
            "type": "histogram2dcontour"
           }
          ],
          "mesh3d": [
           {
            "colorbar": {
             "outlinewidth": 0,
             "ticks": ""
            },
            "type": "mesh3d"
           }
          ],
          "parcoords": [
           {
            "line": {
             "colorbar": {
              "outlinewidth": 0,
              "ticks": ""
             }
            },
            "type": "parcoords"
           }
          ],
          "pie": [
           {
            "automargin": true,
            "type": "pie"
           }
          ],
          "scatter": [
           {
            "fillpattern": {
             "fillmode": "overlay",
             "size": 10,
             "solidity": 0.2
            },
            "type": "scatter"
           }
          ],
          "scatter3d": [
           {
            "line": {
             "colorbar": {
              "outlinewidth": 0,
              "ticks": ""
             }
            },
            "marker": {
             "colorbar": {
              "outlinewidth": 0,
              "ticks": ""
             }
            },
            "type": "scatter3d"
           }
          ],
          "scattercarpet": [
           {
            "marker": {
             "colorbar": {
              "outlinewidth": 0,
              "ticks": ""
             }
            },
            "type": "scattercarpet"
           }
          ],
          "scattergeo": [
           {
            "marker": {
             "colorbar": {
              "outlinewidth": 0,
              "ticks": ""
             }
            },
            "type": "scattergeo"
           }
          ],
          "scattergl": [
           {
            "marker": {
             "colorbar": {
              "outlinewidth": 0,
              "ticks": ""
             }
            },
            "type": "scattergl"
           }
          ],
          "scattermapbox": [
           {
            "marker": {
             "colorbar": {
              "outlinewidth": 0,
              "ticks": ""
             }
            },
            "type": "scattermapbox"
           }
          ],
          "scatterpolar": [
           {
            "marker": {
             "colorbar": {
              "outlinewidth": 0,
              "ticks": ""
             }
            },
            "type": "scatterpolar"
           }
          ],
          "scatterpolargl": [
           {
            "marker": {
             "colorbar": {
              "outlinewidth": 0,
              "ticks": ""
             }
            },
            "type": "scatterpolargl"
           }
          ],
          "scatterternary": [
           {
            "marker": {
             "colorbar": {
              "outlinewidth": 0,
              "ticks": ""
             }
            },
            "type": "scatterternary"
           }
          ],
          "surface": [
           {
            "colorbar": {
             "outlinewidth": 0,
             "ticks": ""
            },
            "colorscale": [
             [
              0,
              "#0d0887"
             ],
             [
              0.1111111111111111,
              "#46039f"
             ],
             [
              0.2222222222222222,
              "#7201a8"
             ],
             [
              0.3333333333333333,
              "#9c179e"
             ],
             [
              0.4444444444444444,
              "#bd3786"
             ],
             [
              0.5555555555555556,
              "#d8576b"
             ],
             [
              0.6666666666666666,
              "#ed7953"
             ],
             [
              0.7777777777777778,
              "#fb9f3a"
             ],
             [
              0.8888888888888888,
              "#fdca26"
             ],
             [
              1,
              "#f0f921"
             ]
            ],
            "type": "surface"
           }
          ],
          "table": [
           {
            "cells": {
             "fill": {
              "color": "#EBF0F8"
             },
             "line": {
              "color": "white"
             }
            },
            "header": {
             "fill": {
              "color": "#C8D4E3"
             },
             "line": {
              "color": "white"
             }
            },
            "type": "table"
           }
          ]
         },
         "layout": {
          "annotationdefaults": {
           "arrowcolor": "#2a3f5f",
           "arrowhead": 0,
           "arrowwidth": 1
          },
          "autotypenumbers": "strict",
          "coloraxis": {
           "colorbar": {
            "outlinewidth": 0,
            "ticks": ""
           }
          },
          "colorscale": {
           "diverging": [
            [
             0,
             "#8e0152"
            ],
            [
             0.1,
             "#c51b7d"
            ],
            [
             0.2,
             "#de77ae"
            ],
            [
             0.3,
             "#f1b6da"
            ],
            [
             0.4,
             "#fde0ef"
            ],
            [
             0.5,
             "#f7f7f7"
            ],
            [
             0.6,
             "#e6f5d0"
            ],
            [
             0.7,
             "#b8e186"
            ],
            [
             0.8,
             "#7fbc41"
            ],
            [
             0.9,
             "#4d9221"
            ],
            [
             1,
             "#276419"
            ]
           ],
           "sequential": [
            [
             0,
             "#0d0887"
            ],
            [
             0.1111111111111111,
             "#46039f"
            ],
            [
             0.2222222222222222,
             "#7201a8"
            ],
            [
             0.3333333333333333,
             "#9c179e"
            ],
            [
             0.4444444444444444,
             "#bd3786"
            ],
            [
             0.5555555555555556,
             "#d8576b"
            ],
            [
             0.6666666666666666,
             "#ed7953"
            ],
            [
             0.7777777777777778,
             "#fb9f3a"
            ],
            [
             0.8888888888888888,
             "#fdca26"
            ],
            [
             1,
             "#f0f921"
            ]
           ],
           "sequentialminus": [
            [
             0,
             "#0d0887"
            ],
            [
             0.1111111111111111,
             "#46039f"
            ],
            [
             0.2222222222222222,
             "#7201a8"
            ],
            [
             0.3333333333333333,
             "#9c179e"
            ],
            [
             0.4444444444444444,
             "#bd3786"
            ],
            [
             0.5555555555555556,
             "#d8576b"
            ],
            [
             0.6666666666666666,
             "#ed7953"
            ],
            [
             0.7777777777777778,
             "#fb9f3a"
            ],
            [
             0.8888888888888888,
             "#fdca26"
            ],
            [
             1,
             "#f0f921"
            ]
           ]
          },
          "colorway": [
           "#636efa",
           "#EF553B",
           "#00cc96",
           "#ab63fa",
           "#FFA15A",
           "#19d3f3",
           "#FF6692",
           "#B6E880",
           "#FF97FF",
           "#FECB52"
          ],
          "font": {
           "color": "#2a3f5f"
          },
          "geo": {
           "bgcolor": "white",
           "lakecolor": "white",
           "landcolor": "#E5ECF6",
           "showlakes": true,
           "showland": true,
           "subunitcolor": "white"
          },
          "hoverlabel": {
           "align": "left"
          },
          "hovermode": "closest",
          "mapbox": {
           "style": "light"
          },
          "paper_bgcolor": "white",
          "plot_bgcolor": "#E5ECF6",
          "polar": {
           "angularaxis": {
            "gridcolor": "white",
            "linecolor": "white",
            "ticks": ""
           },
           "bgcolor": "#E5ECF6",
           "radialaxis": {
            "gridcolor": "white",
            "linecolor": "white",
            "ticks": ""
           }
          },
          "scene": {
           "xaxis": {
            "backgroundcolor": "#E5ECF6",
            "gridcolor": "white",
            "gridwidth": 2,
            "linecolor": "white",
            "showbackground": true,
            "ticks": "",
            "zerolinecolor": "white"
           },
           "yaxis": {
            "backgroundcolor": "#E5ECF6",
            "gridcolor": "white",
            "gridwidth": 2,
            "linecolor": "white",
            "showbackground": true,
            "ticks": "",
            "zerolinecolor": "white"
           },
           "zaxis": {
            "backgroundcolor": "#E5ECF6",
            "gridcolor": "white",
            "gridwidth": 2,
            "linecolor": "white",
            "showbackground": true,
            "ticks": "",
            "zerolinecolor": "white"
           }
          },
          "shapedefaults": {
           "line": {
            "color": "#2a3f5f"
           }
          },
          "ternary": {
           "aaxis": {
            "gridcolor": "white",
            "linecolor": "white",
            "ticks": ""
           },
           "baxis": {
            "gridcolor": "white",
            "linecolor": "white",
            "ticks": ""
           },
           "bgcolor": "#E5ECF6",
           "caxis": {
            "gridcolor": "white",
            "linecolor": "white",
            "ticks": ""
           }
          },
          "title": {
           "x": 0.05
          },
          "xaxis": {
           "automargin": true,
           "gridcolor": "white",
           "linecolor": "white",
           "ticks": "",
           "title": {
            "standoff": 15
           },
           "zerolinecolor": "white",
           "zerolinewidth": 2
          },
          "yaxis": {
           "automargin": true,
           "gridcolor": "white",
           "linecolor": "white",
           "ticks": "",
           "title": {
            "standoff": 15
           },
           "zerolinecolor": "white",
           "zerolinewidth": 2
          }
         }
        }
       }
      },
      "image/png": "[encoded data removed]"
     },
     "metadata": {},
     "output_type": "display_data"
    }
   ],
   "source": [
    "ov_sankey = plot_sankey(sankey_value_tracing, sankey_source_tracing, sankey_target_tracing,\n",
    "                node_label, back_tracing_color_tracing, back_tracing_level_tracing, positive_flow=True, go_dag=go_dag, \n",
    "                filename='Sankey_Tracing_top5')"
   ]
  },
  {
   "cell_type": "code",
   "execution_count": null,
   "metadata": {},
   "outputs": [],
   "source": []
  }
 ],
 "metadata": {
  "kernelspec": {
   "display_name": "Python 3 (ipykernel)",
   "language": "python",
   "name": "python3"
  },
  "language_info": {
   "codemirror_mode": {
    "name": "ipython",
    "version": 3
   },
   "file_extension": ".py",
   "mimetype": "text/x-python",
   "name": "python",
   "nbconvert_exporter": "python",
   "pygments_lexer": "ipython3",
   "version": "3.9.13"
  },
  "toc-autonumbering": true
 },
 "nbformat": 4,
 "nbformat_minor": 4
}
